{
  "nbformat": 4,
  "nbformat_minor": 5,
  "metadata": {
    "kernelspec": {
      "display_name": "Python 3 (ipykernel)",
      "language": "python",
      "name": "python3"
    },
    "language_info": {
      "codemirror_mode": {
        "name": "ipython",
        "version": 3
      },
      "file_extension": ".py",
      "mimetype": "text/x-python",
      "name": "python",
      "nbconvert_exporter": "python",
      "pygments_lexer": "ipython3",
      "version": "3.8.5"
    },
    "colab": {
      "name": "model_creation_DP.ipynb",
      "provenance": [],
      "collapsed_sections": []
    }
  },
  "cells": [
    {
      "cell_type": "code",
      "metadata": {
        "id": "kOnM1FWsZVn7"
      },
      "source": [
        "#Create a timeseries model that can predict concentrations of Pm2.5 in the atmosphere"
      ],
      "id": "kOnM1FWsZVn7",
      "execution_count": null,
      "outputs": []
    },
    {
      "cell_type": "code",
      "metadata": {
        "id": "0bd5e243-3a15-4f60-ab7c-62d596ba9d05"
      },
      "source": [
        "## imports\n",
        "import os\n",
        "import pandas as pd\n",
        "from datetime import datetime\n",
        "import numpy as np\n",
        "from sklearn.model_selection import train_test_split\n",
        "from sklearn.preprocessing import StandardScaler\n",
        "import tensorflow as tf\n",
        "import sklearn as skl\n",
        "from keras.models import Sequential\n",
        "from keras.layers import Dense\n",
        "from keras.layers import LSTM"
      ],
      "id": "0bd5e243-3a15-4f60-ab7c-62d596ba9d05",
      "execution_count": 1,
      "outputs": []
    },
    {
      "cell_type": "code",
      "metadata": {
        "id": "ELt_jIKPXqsk"
      },
      "source": [
        "\n"
      ],
      "id": "ELt_jIKPXqsk",
      "execution_count": null,
      "outputs": []
    },
    {
      "cell_type": "code",
      "metadata": {
        "id": "23795472-9016-43e7-98fa-6cae91aaacc2"
      },
      "source": [
        "#path = os.path.join(os.getcwd(), 'Resources', 'all_city_data.csv')"
      ],
      "id": "23795472-9016-43e7-98fa-6cae91aaacc2",
      "execution_count": null,
      "outputs": []
    },
    {
      "cell_type": "code",
      "metadata": {
        "id": "3427833c-de71-4d7b-95bb-a14e2fc4ab78"
      },
      "source": [
        "df = pd.read_csv('all_city_data.csv').drop(columns = ['Unnamed: 0'])"
      ],
      "id": "3427833c-de71-4d7b-95bb-a14e2fc4ab78",
      "execution_count": 3,
      "outputs": []
    },
    {
      "cell_type": "code",
      "metadata": {
        "colab": {
          "base_uri": "https://localhost:8080/",
          "height": 204
        },
        "id": "7210b72d-1b43-4a01-9ff8-920151ab6f2e",
        "outputId": "1b9c66c2-89bb-465e-d54a-12fd79159614"
      },
      "source": [
        "df.head()"
      ],
      "id": "7210b72d-1b43-4a01-9ff8-920151ab6f2e",
      "execution_count": 4,
      "outputs": [
        {
          "output_type": "execute_result",
          "data": {
            "text/html": [
              "<div>\n",
              "<style scoped>\n",
              "    .dataframe tbody tr th:only-of-type {\n",
              "        vertical-align: middle;\n",
              "    }\n",
              "\n",
              "    .dataframe tbody tr th {\n",
              "        vertical-align: top;\n",
              "    }\n",
              "\n",
              "    .dataframe thead th {\n",
              "        text-align: right;\n",
              "    }\n",
              "</style>\n",
              "<table border=\"1\" class=\"dataframe\">\n",
              "  <thead>\n",
              "    <tr style=\"text-align: right;\">\n",
              "      <th></th>\n",
              "      <th>PM2.5</th>\n",
              "      <th>PM10</th>\n",
              "      <th>SO2</th>\n",
              "      <th>NO2</th>\n",
              "      <th>CO</th>\n",
              "      <th>O3</th>\n",
              "      <th>TEMP</th>\n",
              "      <th>PRES</th>\n",
              "      <th>DEWP</th>\n",
              "      <th>RAIN</th>\n",
              "      <th>dt</th>\n",
              "    </tr>\n",
              "  </thead>\n",
              "  <tbody>\n",
              "    <tr>\n",
              "      <th>0</th>\n",
              "      <td>4.0</td>\n",
              "      <td>4.0</td>\n",
              "      <td>4.0</td>\n",
              "      <td>7.0</td>\n",
              "      <td>300.0</td>\n",
              "      <td>77.0</td>\n",
              "      <td>-0.7</td>\n",
              "      <td>1023.0</td>\n",
              "      <td>-18.8</td>\n",
              "      <td>0.0</td>\n",
              "      <td>2013-01-03 00:00:00</td>\n",
              "    </tr>\n",
              "    <tr>\n",
              "      <th>1</th>\n",
              "      <td>9.0</td>\n",
              "      <td>9.0</td>\n",
              "      <td>3.0</td>\n",
              "      <td>17.0</td>\n",
              "      <td>300.0</td>\n",
              "      <td>89.0</td>\n",
              "      <td>-0.5</td>\n",
              "      <td>1024.5</td>\n",
              "      <td>-21.4</td>\n",
              "      <td>0.0</td>\n",
              "      <td>2013-01-03 00:00:00</td>\n",
              "    </tr>\n",
              "    <tr>\n",
              "      <th>2</th>\n",
              "      <td>4.0</td>\n",
              "      <td>4.0</td>\n",
              "      <td>14.0</td>\n",
              "      <td>20.0</td>\n",
              "      <td>300.0</td>\n",
              "      <td>69.0</td>\n",
              "      <td>-0.7</td>\n",
              "      <td>1023.0</td>\n",
              "      <td>-18.8</td>\n",
              "      <td>0.0</td>\n",
              "      <td>2013-01-03 00:00:00</td>\n",
              "    </tr>\n",
              "    <tr>\n",
              "      <th>3</th>\n",
              "      <td>7.0</td>\n",
              "      <td>7.0</td>\n",
              "      <td>3.0</td>\n",
              "      <td>2.0</td>\n",
              "      <td>100.0</td>\n",
              "      <td>91.0</td>\n",
              "      <td>-2.3</td>\n",
              "      <td>1020.3</td>\n",
              "      <td>-20.7</td>\n",
              "      <td>0.0</td>\n",
              "      <td>2013-01-03 00:00:00</td>\n",
              "    </tr>\n",
              "    <tr>\n",
              "      <th>4</th>\n",
              "      <td>5.0</td>\n",
              "      <td>14.0</td>\n",
              "      <td>4.0</td>\n",
              "      <td>12.0</td>\n",
              "      <td>200.0</td>\n",
              "      <td>85.0</td>\n",
              "      <td>-0.5</td>\n",
              "      <td>1024.5</td>\n",
              "      <td>-21.4</td>\n",
              "      <td>0.0</td>\n",
              "      <td>2013-01-03 00:00:00</td>\n",
              "    </tr>\n",
              "  </tbody>\n",
              "</table>\n",
              "</div>"
            ],
            "text/plain": [
              "   PM2.5  PM10   SO2   NO2  ...    PRES  DEWP  RAIN                   dt\n",
              "0    4.0   4.0   4.0   7.0  ...  1023.0 -18.8   0.0  2013-01-03 00:00:00\n",
              "1    9.0   9.0   3.0  17.0  ...  1024.5 -21.4   0.0  2013-01-03 00:00:00\n",
              "2    4.0   4.0  14.0  20.0  ...  1023.0 -18.8   0.0  2013-01-03 00:00:00\n",
              "3    7.0   7.0   3.0   2.0  ...  1020.3 -20.7   0.0  2013-01-03 00:00:00\n",
              "4    5.0  14.0   4.0  12.0  ...  1024.5 -21.4   0.0  2013-01-03 00:00:00\n",
              "\n",
              "[5 rows x 11 columns]"
            ]
          },
          "metadata": {},
          "execution_count": 4
        }
      ]
    },
    {
      "cell_type": "code",
      "metadata": {
        "id": "wfTEfvTvZCs9"
      },
      "source": [
        "# convert an array of values into a dataset matrix\n",
        "# def create_dataset(dataset, look_back=1):\n",
        "# \tdataX, dataY = [], []\n",
        "# \tfor i in range(len(dataset)-look_back-1):\n",
        "# \t\ta = dataset[i:(i+look_back), 0]\n",
        "# \t\tdataX.append(a)\n",
        "# \t\tdataY.append(dataset[i + look_back, 0])\n",
        "# \treturn numpy.array(dataX), numpy.array(dataY)"
      ],
      "id": "wfTEfvTvZCs9",
      "execution_count": null,
      "outputs": []
    },
    {
      "cell_type": "code",
      "metadata": {
        "id": "m7qgSFUfaG9F"
      },
      "source": [
        "# look_back = 1\n",
        "# TrainX, TrainY = create_dataset(train, look_back)\n",
        "# testX, testY = create_dataset(test, look_back)"
      ],
      "id": "m7qgSFUfaG9F",
      "execution_count": null,
      "outputs": []
    },
    {
      "cell_type": "code",
      "metadata": {
        "id": "2c795e0c-8ef4-43ca-b429-5a297310ab03"
      },
      "source": [
        "\n",
        "# reshape input to be [samples, time steps, features]\n",
        "# trainX = numpy.reshape(trainX, (trainX.shape[0], 1, trainX.shape[1]))\n",
        "# testX = numpy.reshape(testX, (testX.shape[0], 1, testX.shape[1]))"
      ],
      "id": "2c795e0c-8ef4-43ca-b429-5a297310ab03",
      "execution_count": null,
      "outputs": []
    },
    {
      "cell_type": "code",
      "metadata": {
        "id": "_cjlZGHvX_Yo"
      },
      "source": [
        "features = [\"PM10\", \"SO2\", \"NO2\", \"CO\", \"O3\", \"TEMP\", \"PRES\", \"DEWP\", \"RAIN\"]\n",
        "scalar = StandardScaler()\n",
        "# the fit_transform ops returns a 2d numpy.array, we cast it to a pd.DataFrame\n",
        "standardized_features = pd.DataFrame(scalar.fit_transform(df[features].copy()), columns = features)\n",
        "old_shape = df.shape\n",
        "# drop the unnormalized features from the dataframe\n",
        "df.drop(features, axis = 1, inplace = True)\n",
        "# join back the normalized features\n",
        "df = pd.concat([df, standardized_features], axis= 1)\n",
        "assert old_shape == df.shape, \"something went wrong!\""
      ],
      "id": "_cjlZGHvX_Yo",
      "execution_count": 56,
      "outputs": []
    },
    {
      "cell_type": "code",
      "metadata": {
        "colab": {
          "base_uri": "https://localhost:8080/",
          "height": 204
        },
        "id": "dR3U1DDTbfHD",
        "outputId": "a6fc859e-7ca5-4565-9427-c0765681e070"
      },
      "source": [
        "df.head()"
      ],
      "id": "dR3U1DDTbfHD",
      "execution_count": 57,
      "outputs": [
        {
          "output_type": "execute_result",
          "data": {
            "text/html": [
              "<div>\n",
              "<style scoped>\n",
              "    .dataframe tbody tr th:only-of-type {\n",
              "        vertical-align: middle;\n",
              "    }\n",
              "\n",
              "    .dataframe tbody tr th {\n",
              "        vertical-align: top;\n",
              "    }\n",
              "\n",
              "    .dataframe thead th {\n",
              "        text-align: right;\n",
              "    }\n",
              "</style>\n",
              "<table border=\"1\" class=\"dataframe\">\n",
              "  <thead>\n",
              "    <tr style=\"text-align: right;\">\n",
              "      <th></th>\n",
              "      <th>PM2.5</th>\n",
              "      <th>dt</th>\n",
              "      <th>PM10</th>\n",
              "      <th>SO2</th>\n",
              "      <th>NO2</th>\n",
              "      <th>CO</th>\n",
              "      <th>O3</th>\n",
              "      <th>TEMP</th>\n",
              "      <th>PRES</th>\n",
              "      <th>DEWP</th>\n",
              "      <th>RAIN</th>\n",
              "    </tr>\n",
              "  </thead>\n",
              "  <tbody>\n",
              "    <tr>\n",
              "      <th>0</th>\n",
              "      <td>4.0</td>\n",
              "      <td>2013-01-03 00:00:00</td>\n",
              "      <td>-1.101254</td>\n",
              "      <td>-0.545907</td>\n",
              "      <td>-1.243556</td>\n",
              "      <td>-0.804110</td>\n",
              "      <td>0.348630</td>\n",
              "      <td>-1.242142</td>\n",
              "      <td>1.164563</td>\n",
              "      <td>-1.538262</td>\n",
              "      <td>-0.078906</td>\n",
              "    </tr>\n",
              "    <tr>\n",
              "      <th>1</th>\n",
              "      <td>9.0</td>\n",
              "      <td>2013-01-03 00:00:00</td>\n",
              "      <td>-1.046543</td>\n",
              "      <td>-0.592877</td>\n",
              "      <td>-0.958503</td>\n",
              "      <td>-0.804110</td>\n",
              "      <td>0.560363</td>\n",
              "      <td>-1.224639</td>\n",
              "      <td>1.308088</td>\n",
              "      <td>-1.726789</td>\n",
              "      <td>-0.078906</td>\n",
              "    </tr>\n",
              "    <tr>\n",
              "      <th>2</th>\n",
              "      <td>4.0</td>\n",
              "      <td>2013-01-03 00:00:00</td>\n",
              "      <td>-1.101254</td>\n",
              "      <td>-0.076203</td>\n",
              "      <td>-0.872987</td>\n",
              "      <td>-0.804110</td>\n",
              "      <td>0.207475</td>\n",
              "      <td>-1.242142</td>\n",
              "      <td>1.164563</td>\n",
              "      <td>-1.538262</td>\n",
              "      <td>-0.078906</td>\n",
              "    </tr>\n",
              "    <tr>\n",
              "      <th>3</th>\n",
              "      <td>7.0</td>\n",
              "      <td>2013-01-03 00:00:00</td>\n",
              "      <td>-1.068428</td>\n",
              "      <td>-0.592877</td>\n",
              "      <td>-1.386082</td>\n",
              "      <td>-0.976692</td>\n",
              "      <td>0.595652</td>\n",
              "      <td>-1.382164</td>\n",
              "      <td>0.906219</td>\n",
              "      <td>-1.676032</td>\n",
              "      <td>-0.078906</td>\n",
              "    </tr>\n",
              "    <tr>\n",
              "      <th>4</th>\n",
              "      <td>5.0</td>\n",
              "      <td>2013-01-03 00:00:00</td>\n",
              "      <td>-0.991832</td>\n",
              "      <td>-0.545907</td>\n",
              "      <td>-1.101029</td>\n",
              "      <td>-0.890401</td>\n",
              "      <td>0.489786</td>\n",
              "      <td>-1.224639</td>\n",
              "      <td>1.308088</td>\n",
              "      <td>-1.726789</td>\n",
              "      <td>-0.078906</td>\n",
              "    </tr>\n",
              "  </tbody>\n",
              "</table>\n",
              "</div>"
            ],
            "text/plain": [
              "   PM2.5                   dt      PM10  ...      PRES      DEWP      RAIN\n",
              "0    4.0  2013-01-03 00:00:00 -1.101254  ...  1.164563 -1.538262 -0.078906\n",
              "1    9.0  2013-01-03 00:00:00 -1.046543  ...  1.308088 -1.726789 -0.078906\n",
              "2    4.0  2013-01-03 00:00:00 -1.101254  ...  1.164563 -1.538262 -0.078906\n",
              "3    7.0  2013-01-03 00:00:00 -1.068428  ...  0.906219 -1.676032 -0.078906\n",
              "4    5.0  2013-01-03 00:00:00 -0.991832  ...  1.308088 -1.726789 -0.078906\n",
              "\n",
              "[5 rows x 11 columns]"
            ]
          },
          "metadata": {},
          "execution_count": 57
        }
      ]
    },
    {
      "cell_type": "code",
      "metadata": {
        "colab": {
          "base_uri": "https://localhost:8080/"
        },
        "id": "OIdDHqIXloP2",
        "outputId": "064c06f6-e5a6-4b76-915c-6f3986deabce"
      },
      "source": [
        "time_index=pd.to_datetime(df['dt'])\n",
        "df_kl=df_kl.set_index(time_index)\n",
        "df_kl.index"
      ],
      "id": "OIdDHqIXloP2",
      "execution_count": 58,
      "outputs": [
        {
          "output_type": "execute_result",
          "data": {
            "text/plain": [
              "DatetimeIndex(['2013-01-03 00:00:00', '2013-01-03 00:00:00',\n",
              "               '2013-01-03 00:00:00', '2013-01-03 00:00:00',\n",
              "               '2013-01-03 00:00:00', '2013-01-03 00:00:00',\n",
              "               '2013-01-03 00:00:00', '2013-01-03 00:00:00',\n",
              "               '2013-01-03 00:00:00', '2013-01-03 00:00:00',\n",
              "               ...\n",
              "               '2017-12-02 23:00:00', '2017-12-02 23:00:00',\n",
              "               '2017-12-02 23:00:00', '2017-12-02 23:00:00',\n",
              "               '2017-12-02 23:00:00', '2017-12-02 23:00:00',\n",
              "               '2017-12-02 23:00:00', '2017-12-02 23:00:00',\n",
              "               '2017-12-02 23:00:00', '2017-12-02 23:00:00'],\n",
              "              dtype='datetime64[ns]', name='dt', length=383586, freq=None)"
            ]
          },
          "metadata": {},
          "execution_count": 58
        }
      ]
    },
    {
      "cell_type": "code",
      "metadata": {
        "id": "cv1AI6_XioCE"
      },
      "source": [
        "df_kl=df.drop('dt', axis=1)\n",
        "y = df_kl['PM2.5']\n",
        "X = df_kl.drop(columns= ['PM2.5'])\n",
        "X_train, X_test, y_train, y_test = train_test_split(X,y, shuffle=False)\n",
        "\n"
      ],
      "id": "cv1AI6_XioCE",
      "execution_count": 59,
      "outputs": []
    },
    {
      "cell_type": "code",
      "metadata": {
        "colab": {
          "base_uri": "https://localhost:8080/"
        },
        "id": "U63F3Nh8GZJL",
        "outputId": "37d06f4f-c468-4d88-d6cf-9f5fa3795cd4"
      },
      "source": [
        "# loaded_model = tf.keras.models.load_model(\"TEMP_test_model.h5\")\n",
        "# loaded_model.build()\n",
        "# loaded_model.summary()"
      ],
      "id": "U63F3Nh8GZJL",
      "execution_count": 2,
      "outputs": [
        {
          "output_type": "stream",
          "name": "stdout",
          "text": [
            "Model: \"sequential_4\"\n",
            "_________________________________________________________________\n",
            "Layer (type)                 Output Shape              Param #   \n",
            "=================================================================\n",
            "lstm_3 (LSTM)                (None, 365, 50)           10400     \n",
            "_________________________________________________________________\n",
            "lstm_4 (LSTM)                (None, 50)                20200     \n",
            "_________________________________________________________________\n",
            "dense_5 (Dense)              (None, 25)                1275      \n",
            "_________________________________________________________________\n",
            "dense_6 (Dense)              (None, 1)                 26        \n",
            "=================================================================\n",
            "Total params: 31,901\n",
            "Trainable params: 31,901\n",
            "Non-trainable params: 0\n",
            "_________________________________________________________________\n"
          ]
        }
      ]
    },
    {
      "cell_type": "code",
      "metadata": {
        "colab": {
          "base_uri": "https://localhost:8080/"
        },
        "id": "IHvIdKxCGfhU",
        "outputId": "30e9cae9-5ec1-4534-9085-456be13be2cf"
      },
      "source": [
        "# pred_temp = loaded_model.predict(X_test)\n",
        "# pred_temp"
      ],
      "id": "IHvIdKxCGfhU",
      "execution_count": 11,
      "outputs": [
        {
          "output_type": "execute_result",
          "data": {
            "text/plain": [
              "array([[-0.25250596],\n",
              "       [-0.19487654],\n",
              "       [-0.13481413],\n",
              "       ...,\n",
              "       [-0.29821187],\n",
              "       [-0.3370747 ],\n",
              "       [-0.3753718 ]], dtype=float32)"
            ]
          },
          "metadata": {},
          "execution_count": 11
        }
      ]
    },
    {
      "cell_type": "code",
      "metadata": {
        "id": "5Zv5qNH3kVLm",
        "colab": {
          "base_uri": "https://localhost:8080/"
        },
        "outputId": "d0f8fbc1-acd3-4ad5-a213-cf75a475dccf"
      },
      "source": [
        "\n",
        "# model=tf.keras.models.Sequential()\n",
        "# layer_1=tf.keras.layers.Dense(units=96, activation=\"tanh\", input_dim=9)\n",
        "# model.add(layer_1)\n",
        "# layer_2=tf.keras.layers.Dense(units=80, activation=\"relu\", input_dim=9)\n",
        "# model.add(layer_2)\n",
        "# layer_3=tf.keras.layers.Dense(units=64, activation=\"relu\", input_dim=9)\n",
        "# model.add(layer_3)\n",
        "# layer_4=tf.keras.layers.Dense(units=48, activation=\"relu\", input_dim=9)\n",
        "# #model.add(layer_4)\n",
        "# layer_5=tf.keras.layers.Dense(units=32, activation=\"relu\", input_dim=9)\n",
        "# #model.add(layer_5)\n",
        "# output_layer=tf.keras.layers.Dense(units=1)\n",
        "# model.add(output_layer)\n",
        "# model.summary()"
      ],
      "id": "5Zv5qNH3kVLm",
      "execution_count": 45,
      "outputs": [
        {
          "output_type": "stream",
          "name": "stdout",
          "text": [
            "Model: \"sequential_13\"\n",
            "_________________________________________________________________\n",
            "Layer (type)                 Output Shape              Param #   \n",
            "=================================================================\n",
            "dense_50 (Dense)             (None, 96)                960       \n",
            "_________________________________________________________________\n",
            "dense_51 (Dense)             (None, 80)                7760      \n",
            "_________________________________________________________________\n",
            "dense_52 (Dense)             (None, 64)                5184      \n",
            "_________________________________________________________________\n",
            "dense_55 (Dense)             (None, 1)                 65        \n",
            "=================================================================\n",
            "Total params: 13,969\n",
            "Trainable params: 13,969\n",
            "Non-trainable params: 0\n",
            "_________________________________________________________________\n"
          ]
        }
      ]
    },
    {
      "cell_type": "code",
      "metadata": {
        "colab": {
          "base_uri": "https://localhost:8080/"
        },
        "id": "BPAL-T78W1RE",
        "outputId": "2628419f-2a82-4241-8873-545d75c20a29"
      },
      "source": [
        "scores = model.evaluate(X_test, y_test)\n",
        "print(model.metrics_names[0], scores)"
      ],
      "id": "BPAL-T78W1RE",
      "execution_count": 47,
      "outputs": [
        {
          "output_type": "stream",
          "name": "stdout",
          "text": [
            "2997/2997 [==============================] - 4s 1ms/step - loss: 526.6973 - mean_absolute_error: 13.9873\n",
            "loss [526.6973266601562, 13.987262725830078]\n"
          ]
        }
      ]
    },
    {
      "cell_type": "code",
      "metadata": {
        "id": "itlDw5dcX_pR"
      },
      "source": [
        "def create_model(hp):\n",
        "    model = tf.keras.models.Sequential()\n",
        "\n",
        "    # Allow kerastuner to decide which activation function to use in hidden layers\n",
        "    activation = hp.Choice('activation',['relu','tanh','sigmoid'])\n",
        "    \n",
        "    # Allow kerastuner to decide number of neurons in first layer\n",
        "    model.add(tf.keras.layers.Dense(units=hp.Int('first_units',\n",
        "        min_value=1,\n",
        "        max_value=10,\n",
        "        step=2), activation=activation, input_dim=9))\n",
        "\n",
        "    # Allow kerastuner to decide number of hidden layers and neurons in hidden layers\n",
        "    for i in range(hp.Int('num_layers', 1, 6)):\n",
        "        model.add(tf.keras.layers.Dense(units=hp.Int('units_' + str(i),\n",
        "            min_value=1,\n",
        "            max_value=10,\n",
        "            step=2),\n",
        "            activation=activation))\n",
        "    \n",
        "    model.add(tf.keras.layers.Dense(units=1, activation=\"sigmoid\"))\n",
        "\n",
        "    # Compile the model\n",
        "    model.compile(loss=\"mean_squared_error\", optimizer='adam', metrics=[\"mean_squared_error\"])\n",
        "    \n",
        "    return model"
      ],
      "id": "itlDw5dcX_pR",
      "execution_count": 60,
      "outputs": []
    },
    {
      "cell_type": "code",
      "metadata": {
        "id": "3udMBDuBPTUH"
      },
      "source": [
        "pip install keras-tuner --upgrade"
      ],
      "id": "3udMBDuBPTUH",
      "execution_count": null,
      "outputs": []
    },
    {
      "cell_type": "code",
      "metadata": {
        "id": "ChsPfSfrYDQX",
        "colab": {
          "base_uri": "https://localhost:8080/"
        },
        "outputId": "8d0e41be-a508-4473-ead6-2187c80e82c3"
      },
      "source": [
        "import keras_tuner as kt\n",
        "\n",
        "tuner = kt.Hyperband(\n",
        "    create_model,\n",
        "    objective=\"mean_squared_error\",\n",
        "    max_epochs=20,\n",
        "    hyperband_iterations=2)"
      ],
      "id": "ChsPfSfrYDQX",
      "execution_count": 61,
      "outputs": [
        {
          "output_type": "stream",
          "name": "stdout",
          "text": [
            "INFO:tensorflow:Reloading Oracle from existing project ./untitled_project/oracle.json\n",
            "INFO:tensorflow:Reloading Tuner from ./untitled_project/tuner0.json\n"
          ]
        }
      ]
    },
    {
      "cell_type": "code",
      "metadata": {
        "id": "xiItfAZKYhzu",
        "colab": {
          "base_uri": "https://localhost:8080/"
        },
        "outputId": "3e0f6c26-0470-4a89-8132-9a44cb468820"
      },
      "source": [
        "tuner.search(X_train,y_train,epochs=20,validation_data=(X_test,y_test))"
      ],
      "id": "xiItfAZKYhzu",
      "execution_count": 62,
      "outputs": [
        {
          "output_type": "stream",
          "name": "stdout",
          "text": [
            "Trial 45 Complete [00h 06m 22s]\n",
            "mean_squared_error: 12609.1201171875\n",
            "\n",
            "Best mean_squared_error So Far: 12609.1201171875\n",
            "Total elapsed time: 02h 16m 52s\n",
            "INFO:tensorflow:Oracle triggered exit\n"
          ]
        }
      ]
    },
    {
      "cell_type": "code",
      "metadata": {
        "colab": {
          "base_uri": "https://localhost:8080/"
        },
        "id": "TSke0bAsQwGa",
        "outputId": "27249788-e32e-402a-f2a0-c6475cc8685d"
      },
      "source": [
        "best_hyper = tuner.get_best_hyperparameters(1)[0]\n",
        "best_hyper.values"
      ],
      "id": "TSke0bAsQwGa",
      "execution_count": 63,
      "outputs": [
        {
          "output_type": "execute_result",
          "data": {
            "text/plain": [
              "{'activation': 'sigmoid',\n",
              " 'first_units': 3,\n",
              " 'num_layers': 3,\n",
              " 'tuner/bracket': 0,\n",
              " 'tuner/epochs': 20,\n",
              " 'tuner/initial_epoch': 0,\n",
              " 'tuner/round': 0,\n",
              " 'units_0': 5,\n",
              " 'units_1': 7,\n",
              " 'units_2': 5,\n",
              " 'units_3': 5,\n",
              " 'units_4': 3,\n",
              " 'units_5': 7}"
            ]
          },
          "metadata": {},
          "execution_count": 63
        }
      ]
    },
    {
      "cell_type": "code",
      "metadata": {
        "colab": {
          "base_uri": "https://localhost:8080/"
        },
        "id": "4GR83RqZQv-5",
        "outputId": "c92cbbab-67aa-47a9-b922-cbcedb9d4176"
      },
      "source": [
        "best_model = tuner.get_best_models(1)[0]\n",
        "model_loss, model_accuracy = best_model.evaluate(X_test,y_test,verbose=2)\n",
        "print(f\"Loss: {model_loss}, Accuracy: {model_accuracy}\")"
      ],
      "id": "4GR83RqZQv-5",
      "execution_count": 64,
      "outputs": [
        {
          "output_type": "stream",
          "name": "stdout",
          "text": [
            "2997/2997 - 3s - loss: 12568.2422 - mean_squared_error: 12568.2422\n",
            "Loss: 12568.2421875, Accuracy: 12568.2421875\n"
          ]
        }
      ]
    },
    {
      "cell_type": "code",
      "metadata": {
        "id": "BoM2eGHiQv1q"
      },
      "source": [
        ""
      ],
      "id": "BoM2eGHiQv1q",
      "execution_count": null,
      "outputs": []
    },
    {
      "cell_type": "code",
      "metadata": {
        "colab": {
          "base_uri": "https://localhost:8080/",
          "height": 391
        },
        "id": "0NYnUQFyO2cs",
        "outputId": "883f272b-be9c-475a-b743-ded8919274dd"
      },
      "source": [
        "model.compile(optimizer='adam', loss='mean_squared_error', metrics=['mean_squared_error'])\n",
        "model.fit(X_train, y_train, epochs=100)"
      ],
      "id": "0NYnUQFyO2cs",
      "execution_count": 65,
      "outputs": [
        {
          "output_type": "stream",
          "name": "stdout",
          "text": [
            "Epoch 1/100\n",
            "8991/8991 [==============================] - 17s 2ms/step - loss: 345.5502 - mean_absolute_error: 12.1158\n",
            "Epoch 2/100\n",
            "3352/8991 [==========>...................] - ETA: 10s - loss: 336.9549 - mean_absolute_error: 12.0217"
          ]
        },
        {
          "output_type": "error",
          "ename": "KeyboardInterrupt",
          "evalue": "ignored",
          "traceback": [
            "\u001b[0;31m---------------------------------------------------------------------------\u001b[0m",
            "\u001b[0;31mKeyboardInterrupt\u001b[0m                         Traceback (most recent call last)",
            "\u001b[0;32m<ipython-input-65-c1d791834bd4>\u001b[0m in \u001b[0;36m<module>\u001b[0;34m()\u001b[0m\n\u001b[1;32m      1\u001b[0m \u001b[0mmodel\u001b[0m\u001b[0;34m.\u001b[0m\u001b[0mcompile\u001b[0m\u001b[0;34m(\u001b[0m\u001b[0moptimizer\u001b[0m\u001b[0;34m=\u001b[0m\u001b[0;34m'adam'\u001b[0m\u001b[0;34m,\u001b[0m \u001b[0mloss\u001b[0m\u001b[0;34m=\u001b[0m\u001b[0;34m'mean_squared_error'\u001b[0m\u001b[0;34m,\u001b[0m \u001b[0mmetrics\u001b[0m\u001b[0;34m=\u001b[0m\u001b[0;34m[\u001b[0m\u001b[0;34m'mean_absolute_error'\u001b[0m\u001b[0;34m]\u001b[0m\u001b[0;34m)\u001b[0m\u001b[0;34m\u001b[0m\u001b[0;34m\u001b[0m\u001b[0m\n\u001b[0;32m----> 2\u001b[0;31m \u001b[0mmodel\u001b[0m\u001b[0;34m.\u001b[0m\u001b[0mfit\u001b[0m\u001b[0;34m(\u001b[0m\u001b[0mX_train\u001b[0m\u001b[0;34m,\u001b[0m \u001b[0my_train\u001b[0m\u001b[0;34m,\u001b[0m \u001b[0mepochs\u001b[0m\u001b[0;34m=\u001b[0m\u001b[0;36m100\u001b[0m\u001b[0;34m)\u001b[0m\u001b[0;34m\u001b[0m\u001b[0;34m\u001b[0m\u001b[0m\n\u001b[0m",
            "\u001b[0;32m/usr/local/lib/python3.7/dist-packages/keras/engine/training.py\u001b[0m in \u001b[0;36mfit\u001b[0;34m(self, x, y, batch_size, epochs, verbose, callbacks, validation_split, validation_data, shuffle, class_weight, sample_weight, initial_epoch, steps_per_epoch, validation_steps, validation_batch_size, validation_freq, max_queue_size, workers, use_multiprocessing)\u001b[0m\n\u001b[1;32m   1182\u001b[0m                 _r=1):\n\u001b[1;32m   1183\u001b[0m               \u001b[0mcallbacks\u001b[0m\u001b[0;34m.\u001b[0m\u001b[0mon_train_batch_begin\u001b[0m\u001b[0;34m(\u001b[0m\u001b[0mstep\u001b[0m\u001b[0;34m)\u001b[0m\u001b[0;34m\u001b[0m\u001b[0;34m\u001b[0m\u001b[0m\n\u001b[0;32m-> 1184\u001b[0;31m               \u001b[0mtmp_logs\u001b[0m \u001b[0;34m=\u001b[0m \u001b[0mself\u001b[0m\u001b[0;34m.\u001b[0m\u001b[0mtrain_function\u001b[0m\u001b[0;34m(\u001b[0m\u001b[0miterator\u001b[0m\u001b[0;34m)\u001b[0m\u001b[0;34m\u001b[0m\u001b[0;34m\u001b[0m\u001b[0m\n\u001b[0m\u001b[1;32m   1185\u001b[0m               \u001b[0;32mif\u001b[0m \u001b[0mdata_handler\u001b[0m\u001b[0;34m.\u001b[0m\u001b[0mshould_sync\u001b[0m\u001b[0;34m:\u001b[0m\u001b[0;34m\u001b[0m\u001b[0;34m\u001b[0m\u001b[0m\n\u001b[1;32m   1186\u001b[0m                 \u001b[0mcontext\u001b[0m\u001b[0;34m.\u001b[0m\u001b[0masync_wait\u001b[0m\u001b[0;34m(\u001b[0m\u001b[0;34m)\u001b[0m\u001b[0;34m\u001b[0m\u001b[0;34m\u001b[0m\u001b[0m\n",
            "\u001b[0;32m/usr/local/lib/python3.7/dist-packages/tensorflow/python/eager/def_function.py\u001b[0m in \u001b[0;36m__call__\u001b[0;34m(self, *args, **kwds)\u001b[0m\n\u001b[1;32m    883\u001b[0m \u001b[0;34m\u001b[0m\u001b[0m\n\u001b[1;32m    884\u001b[0m       \u001b[0;32mwith\u001b[0m \u001b[0mOptionalXlaContext\u001b[0m\u001b[0;34m(\u001b[0m\u001b[0mself\u001b[0m\u001b[0;34m.\u001b[0m\u001b[0m_jit_compile\u001b[0m\u001b[0;34m)\u001b[0m\u001b[0;34m:\u001b[0m\u001b[0;34m\u001b[0m\u001b[0;34m\u001b[0m\u001b[0m\n\u001b[0;32m--> 885\u001b[0;31m         \u001b[0mresult\u001b[0m \u001b[0;34m=\u001b[0m \u001b[0mself\u001b[0m\u001b[0;34m.\u001b[0m\u001b[0m_call\u001b[0m\u001b[0;34m(\u001b[0m\u001b[0;34m*\u001b[0m\u001b[0margs\u001b[0m\u001b[0;34m,\u001b[0m \u001b[0;34m**\u001b[0m\u001b[0mkwds\u001b[0m\u001b[0;34m)\u001b[0m\u001b[0;34m\u001b[0m\u001b[0;34m\u001b[0m\u001b[0m\n\u001b[0m\u001b[1;32m    886\u001b[0m \u001b[0;34m\u001b[0m\u001b[0m\n\u001b[1;32m    887\u001b[0m       \u001b[0mnew_tracing_count\u001b[0m \u001b[0;34m=\u001b[0m \u001b[0mself\u001b[0m\u001b[0;34m.\u001b[0m\u001b[0mexperimental_get_tracing_count\u001b[0m\u001b[0;34m(\u001b[0m\u001b[0;34m)\u001b[0m\u001b[0;34m\u001b[0m\u001b[0;34m\u001b[0m\u001b[0m\n",
            "\u001b[0;32m/usr/local/lib/python3.7/dist-packages/tensorflow/python/eager/def_function.py\u001b[0m in \u001b[0;36m_call\u001b[0;34m(self, *args, **kwds)\u001b[0m\n\u001b[1;32m    915\u001b[0m       \u001b[0;31m# In this case we have created variables on the first call, so we run the\u001b[0m\u001b[0;34m\u001b[0m\u001b[0;34m\u001b[0m\u001b[0;34m\u001b[0m\u001b[0m\n\u001b[1;32m    916\u001b[0m       \u001b[0;31m# defunned version which is guaranteed to never create variables.\u001b[0m\u001b[0;34m\u001b[0m\u001b[0;34m\u001b[0m\u001b[0;34m\u001b[0m\u001b[0m\n\u001b[0;32m--> 917\u001b[0;31m       \u001b[0;32mreturn\u001b[0m \u001b[0mself\u001b[0m\u001b[0;34m.\u001b[0m\u001b[0m_stateless_fn\u001b[0m\u001b[0;34m(\u001b[0m\u001b[0;34m*\u001b[0m\u001b[0margs\u001b[0m\u001b[0;34m,\u001b[0m \u001b[0;34m**\u001b[0m\u001b[0mkwds\u001b[0m\u001b[0;34m)\u001b[0m  \u001b[0;31m# pylint: disable=not-callable\u001b[0m\u001b[0;34m\u001b[0m\u001b[0;34m\u001b[0m\u001b[0m\n\u001b[0m\u001b[1;32m    918\u001b[0m     \u001b[0;32melif\u001b[0m \u001b[0mself\u001b[0m\u001b[0;34m.\u001b[0m\u001b[0m_stateful_fn\u001b[0m \u001b[0;32mis\u001b[0m \u001b[0;32mnot\u001b[0m \u001b[0;32mNone\u001b[0m\u001b[0;34m:\u001b[0m\u001b[0;34m\u001b[0m\u001b[0;34m\u001b[0m\u001b[0m\n\u001b[1;32m    919\u001b[0m       \u001b[0;31m# Release the lock early so that multiple threads can perform the call\u001b[0m\u001b[0;34m\u001b[0m\u001b[0;34m\u001b[0m\u001b[0;34m\u001b[0m\u001b[0m\n",
            "\u001b[0;32m/usr/local/lib/python3.7/dist-packages/tensorflow/python/eager/function.py\u001b[0m in \u001b[0;36m__call__\u001b[0;34m(self, *args, **kwargs)\u001b[0m\n\u001b[1;32m   3038\u001b[0m        filtered_flat_args) = self._maybe_define_function(args, kwargs)\n\u001b[1;32m   3039\u001b[0m     return graph_function._call_flat(\n\u001b[0;32m-> 3040\u001b[0;31m         filtered_flat_args, captured_inputs=graph_function.captured_inputs)  # pylint: disable=protected-access\n\u001b[0m\u001b[1;32m   3041\u001b[0m \u001b[0;34m\u001b[0m\u001b[0m\n\u001b[1;32m   3042\u001b[0m   \u001b[0;34m@\u001b[0m\u001b[0mproperty\u001b[0m\u001b[0;34m\u001b[0m\u001b[0;34m\u001b[0m\u001b[0m\n",
            "\u001b[0;32m/usr/local/lib/python3.7/dist-packages/tensorflow/python/eager/function.py\u001b[0m in \u001b[0;36m_call_flat\u001b[0;34m(self, args, captured_inputs, cancellation_manager)\u001b[0m\n\u001b[1;32m   1962\u001b[0m       \u001b[0;31m# No tape is watching; skip to running the function.\u001b[0m\u001b[0;34m\u001b[0m\u001b[0;34m\u001b[0m\u001b[0;34m\u001b[0m\u001b[0m\n\u001b[1;32m   1963\u001b[0m       return self._build_call_outputs(self._inference_function.call(\n\u001b[0;32m-> 1964\u001b[0;31m           ctx, args, cancellation_manager=cancellation_manager))\n\u001b[0m\u001b[1;32m   1965\u001b[0m     forward_backward = self._select_forward_and_backward_functions(\n\u001b[1;32m   1966\u001b[0m         \u001b[0margs\u001b[0m\u001b[0;34m,\u001b[0m\u001b[0;34m\u001b[0m\u001b[0;34m\u001b[0m\u001b[0m\n",
            "\u001b[0;32m/usr/local/lib/python3.7/dist-packages/tensorflow/python/eager/function.py\u001b[0m in \u001b[0;36mcall\u001b[0;34m(self, ctx, args, cancellation_manager)\u001b[0m\n\u001b[1;32m    594\u001b[0m               \u001b[0minputs\u001b[0m\u001b[0;34m=\u001b[0m\u001b[0margs\u001b[0m\u001b[0;34m,\u001b[0m\u001b[0;34m\u001b[0m\u001b[0;34m\u001b[0m\u001b[0m\n\u001b[1;32m    595\u001b[0m               \u001b[0mattrs\u001b[0m\u001b[0;34m=\u001b[0m\u001b[0mattrs\u001b[0m\u001b[0;34m,\u001b[0m\u001b[0;34m\u001b[0m\u001b[0;34m\u001b[0m\u001b[0m\n\u001b[0;32m--> 596\u001b[0;31m               ctx=ctx)\n\u001b[0m\u001b[1;32m    597\u001b[0m         \u001b[0;32melse\u001b[0m\u001b[0;34m:\u001b[0m\u001b[0;34m\u001b[0m\u001b[0;34m\u001b[0m\u001b[0m\n\u001b[1;32m    598\u001b[0m           outputs = execute.execute_with_cancellation(\n",
            "\u001b[0;32m/usr/local/lib/python3.7/dist-packages/tensorflow/python/eager/execute.py\u001b[0m in \u001b[0;36mquick_execute\u001b[0;34m(op_name, num_outputs, inputs, attrs, ctx, name)\u001b[0m\n\u001b[1;32m     58\u001b[0m     \u001b[0mctx\u001b[0m\u001b[0;34m.\u001b[0m\u001b[0mensure_initialized\u001b[0m\u001b[0;34m(\u001b[0m\u001b[0;34m)\u001b[0m\u001b[0;34m\u001b[0m\u001b[0;34m\u001b[0m\u001b[0m\n\u001b[1;32m     59\u001b[0m     tensors = pywrap_tfe.TFE_Py_Execute(ctx._handle, device_name, op_name,\n\u001b[0;32m---> 60\u001b[0;31m                                         inputs, attrs, num_outputs)\n\u001b[0m\u001b[1;32m     61\u001b[0m   \u001b[0;32mexcept\u001b[0m \u001b[0mcore\u001b[0m\u001b[0;34m.\u001b[0m\u001b[0m_NotOkStatusException\u001b[0m \u001b[0;32mas\u001b[0m \u001b[0me\u001b[0m\u001b[0;34m:\u001b[0m\u001b[0;34m\u001b[0m\u001b[0;34m\u001b[0m\u001b[0m\n\u001b[1;32m     62\u001b[0m     \u001b[0;32mif\u001b[0m \u001b[0mname\u001b[0m \u001b[0;32mis\u001b[0m \u001b[0;32mnot\u001b[0m \u001b[0;32mNone\u001b[0m\u001b[0;34m:\u001b[0m\u001b[0;34m\u001b[0m\u001b[0;34m\u001b[0m\u001b[0m\n",
            "\u001b[0;31mKeyboardInterrupt\u001b[0m: "
          ]
        }
      ]
    }
  ]
}