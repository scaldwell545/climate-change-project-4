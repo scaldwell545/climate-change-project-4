{
  "nbformat": 4,
  "nbformat_minor": 5,
  "metadata": {
    "kernelspec": {
      "display_name": "Python 3 (ipykernel)",
      "language": "python",
      "name": "python3"
    },
    "language_info": {
      "codemirror_mode": {
        "name": "ipython",
        "version": 3
      },
      "file_extension": ".py",
      "mimetype": "text/x-python",
      "name": "python",
      "nbconvert_exporter": "python",
      "pygments_lexer": "ipython3",
      "version": "3.8.5"
    },
    "colab": {
      "name": "final_model_creation.ipynb",
      "provenance": [],
      "collapsed_sections": []
    }
  },
  "cells": [
    {
      "cell_type": "code",
      "metadata": {
        "id": "kOnM1FWsZVn7"
      },
      "source": [
        "#Create a timeseries model that can predict concentrations of Pm2.5 in the atmosphere"
      ],
      "id": "kOnM1FWsZVn7",
      "execution_count": null,
      "outputs": []
    },
    {
      "cell_type": "code",
      "metadata": {
        "id": "0bd5e243-3a15-4f60-ab7c-62d596ba9d05"
      },
      "source": [
        "## imports\n",
        "import os\n",
        "import pandas as pd\n",
        "from datetime import datetime\n",
        "import numpy as np\n",
        "from sklearn.model_selection import train_test_split\n",
        "from sklearn.preprocessing import StandardScaler\n",
        "import tensorflow as tf\n",
        "import sklearn as skl\n",
        "from keras.models import Sequential\n",
        "from keras.layers import Dense\n",
        "from keras.layers import LSTM"
      ],
      "id": "0bd5e243-3a15-4f60-ab7c-62d596ba9d05",
      "execution_count": 2,
      "outputs": []
    },
    {
      "cell_type": "code",
      "metadata": {
        "id": "ELt_jIKPXqsk"
      },
      "source": [
        "\n"
      ],
      "id": "ELt_jIKPXqsk",
      "execution_count": null,
      "outputs": []
    },
    {
      "cell_type": "code",
      "metadata": {
        "id": "23795472-9016-43e7-98fa-6cae91aaacc2"
      },
      "source": [
        "#path = os.path.join(os.getcwd(), 'Resources', 'all_city_data.csv')"
      ],
      "id": "23795472-9016-43e7-98fa-6cae91aaacc2",
      "execution_count": null,
      "outputs": []
    },
    {
      "cell_type": "code",
      "metadata": {
        "id": "3427833c-de71-4d7b-95bb-a14e2fc4ab78"
      },
      "source": [
        "df = pd.read_csv('all_city_data.csv').drop(columns = ['Unnamed: 0'])"
      ],
      "id": "3427833c-de71-4d7b-95bb-a14e2fc4ab78",
      "execution_count": 5,
      "outputs": []
    },
    {
      "cell_type": "code",
      "metadata": {
        "colab": {
          "base_uri": "https://localhost:8080/",
          "height": 204
        },
        "id": "7210b72d-1b43-4a01-9ff8-920151ab6f2e",
        "outputId": "3c8123ae-94f4-4b11-bd49-f575af2b455f"
      },
      "source": [
        "df.head()"
      ],
      "id": "7210b72d-1b43-4a01-9ff8-920151ab6f2e",
      "execution_count": 6,
      "outputs": [
        {
          "output_type": "execute_result",
          "data": {
            "text/html": [
              "<div>\n",
              "<style scoped>\n",
              "    .dataframe tbody tr th:only-of-type {\n",
              "        vertical-align: middle;\n",
              "    }\n",
              "\n",
              "    .dataframe tbody tr th {\n",
              "        vertical-align: top;\n",
              "    }\n",
              "\n",
              "    .dataframe thead th {\n",
              "        text-align: right;\n",
              "    }\n",
              "</style>\n",
              "<table border=\"1\" class=\"dataframe\">\n",
              "  <thead>\n",
              "    <tr style=\"text-align: right;\">\n",
              "      <th></th>\n",
              "      <th>PM2.5</th>\n",
              "      <th>PM10</th>\n",
              "      <th>SO2</th>\n",
              "      <th>NO2</th>\n",
              "      <th>CO</th>\n",
              "      <th>O3</th>\n",
              "      <th>TEMP</th>\n",
              "      <th>PRES</th>\n",
              "      <th>DEWP</th>\n",
              "      <th>RAIN</th>\n",
              "      <th>dt</th>\n",
              "    </tr>\n",
              "  </thead>\n",
              "  <tbody>\n",
              "    <tr>\n",
              "      <th>0</th>\n",
              "      <td>4.0</td>\n",
              "      <td>4.0</td>\n",
              "      <td>4.0</td>\n",
              "      <td>7.0</td>\n",
              "      <td>300.0</td>\n",
              "      <td>77.0</td>\n",
              "      <td>-0.7</td>\n",
              "      <td>1023.0</td>\n",
              "      <td>-18.8</td>\n",
              "      <td>0.0</td>\n",
              "      <td>2013-01-03 00:00:00</td>\n",
              "    </tr>\n",
              "    <tr>\n",
              "      <th>1</th>\n",
              "      <td>9.0</td>\n",
              "      <td>9.0</td>\n",
              "      <td>3.0</td>\n",
              "      <td>17.0</td>\n",
              "      <td>300.0</td>\n",
              "      <td>89.0</td>\n",
              "      <td>-0.5</td>\n",
              "      <td>1024.5</td>\n",
              "      <td>-21.4</td>\n",
              "      <td>0.0</td>\n",
              "      <td>2013-01-03 00:00:00</td>\n",
              "    </tr>\n",
              "    <tr>\n",
              "      <th>2</th>\n",
              "      <td>4.0</td>\n",
              "      <td>4.0</td>\n",
              "      <td>14.0</td>\n",
              "      <td>20.0</td>\n",
              "      <td>300.0</td>\n",
              "      <td>69.0</td>\n",
              "      <td>-0.7</td>\n",
              "      <td>1023.0</td>\n",
              "      <td>-18.8</td>\n",
              "      <td>0.0</td>\n",
              "      <td>2013-01-03 00:00:00</td>\n",
              "    </tr>\n",
              "    <tr>\n",
              "      <th>3</th>\n",
              "      <td>7.0</td>\n",
              "      <td>7.0</td>\n",
              "      <td>3.0</td>\n",
              "      <td>2.0</td>\n",
              "      <td>100.0</td>\n",
              "      <td>91.0</td>\n",
              "      <td>-2.3</td>\n",
              "      <td>1020.3</td>\n",
              "      <td>-20.7</td>\n",
              "      <td>0.0</td>\n",
              "      <td>2013-01-03 00:00:00</td>\n",
              "    </tr>\n",
              "    <tr>\n",
              "      <th>4</th>\n",
              "      <td>5.0</td>\n",
              "      <td>14.0</td>\n",
              "      <td>4.0</td>\n",
              "      <td>12.0</td>\n",
              "      <td>200.0</td>\n",
              "      <td>85.0</td>\n",
              "      <td>-0.5</td>\n",
              "      <td>1024.5</td>\n",
              "      <td>-21.4</td>\n",
              "      <td>0.0</td>\n",
              "      <td>2013-01-03 00:00:00</td>\n",
              "    </tr>\n",
              "  </tbody>\n",
              "</table>\n",
              "</div>"
            ],
            "text/plain": [
              "   PM2.5  PM10   SO2   NO2  ...    PRES  DEWP  RAIN                   dt\n",
              "0    4.0   4.0   4.0   7.0  ...  1023.0 -18.8   0.0  2013-01-03 00:00:00\n",
              "1    9.0   9.0   3.0  17.0  ...  1024.5 -21.4   0.0  2013-01-03 00:00:00\n",
              "2    4.0   4.0  14.0  20.0  ...  1023.0 -18.8   0.0  2013-01-03 00:00:00\n",
              "3    7.0   7.0   3.0   2.0  ...  1020.3 -20.7   0.0  2013-01-03 00:00:00\n",
              "4    5.0  14.0   4.0  12.0  ...  1024.5 -21.4   0.0  2013-01-03 00:00:00\n",
              "\n",
              "[5 rows x 11 columns]"
            ]
          },
          "metadata": {},
          "execution_count": 6
        }
      ]
    },
    {
      "cell_type": "code",
      "metadata": {
        "id": "wfTEfvTvZCs9"
      },
      "source": [
        "# convert an array of values into a dataset matrix\n",
        "# def create_dataset(dataset, look_back=1):\n",
        "# \tdataX, dataY = [], []\n",
        "# \tfor i in range(len(dataset)-look_back-1):\n",
        "# \t\ta = dataset[i:(i+look_back), 0]\n",
        "# \t\tdataX.append(a)\n",
        "# \t\tdataY.append(dataset[i + look_back, 0])\n",
        "# \treturn numpy.array(dataX), numpy.array(dataY)"
      ],
      "id": "wfTEfvTvZCs9",
      "execution_count": null,
      "outputs": []
    },
    {
      "cell_type": "code",
      "metadata": {
        "id": "m7qgSFUfaG9F"
      },
      "source": [
        "# look_back = 1\n",
        "# TrainX, TrainY = create_dataset(train, look_back)\n",
        "# testX, testY = create_dataset(test, look_back)"
      ],
      "id": "m7qgSFUfaG9F",
      "execution_count": null,
      "outputs": []
    },
    {
      "cell_type": "code",
      "metadata": {
        "id": "2c795e0c-8ef4-43ca-b429-5a297310ab03"
      },
      "source": [
        "\n",
        "# reshape input to be [samples, time steps, features]\n",
        "# trainX = numpy.reshape(trainX, (trainX.shape[0], 1, trainX.shape[1]))\n",
        "# testX = numpy.reshape(testX, (testX.shape[0], 1, testX.shape[1]))"
      ],
      "id": "2c795e0c-8ef4-43ca-b429-5a297310ab03",
      "execution_count": null,
      "outputs": []
    },
    {
      "cell_type": "code",
      "metadata": {
        "id": "_cjlZGHvX_Yo"
      },
      "source": [
        "features = [\"PM10\", \"SO2\", \"NO2\", \"CO\", \"O3\", \"TEMP\", \"PRES\", \"DEWP\", \"RAIN\"]\n",
        "scalar = StandardScaler()\n",
        "# the fit_transform ops returns a 2d numpy.array, we cast it to a pd.DataFrame\n",
        "standardized_features = pd.DataFrame(scalar.fit_transform(df[features].copy()), columns = features)\n",
        "old_shape = df.shape\n",
        "# drop the unnormalized features from the dataframe\n",
        "df.drop(features, axis = 1, inplace = True)\n",
        "# join back the normalized features\n",
        "df = pd.concat([df, standardized_features], axis= 1)\n",
        "assert old_shape == df.shape, \"something went wrong!\""
      ],
      "id": "_cjlZGHvX_Yo",
      "execution_count": 7,
      "outputs": []
    },
    {
      "cell_type": "code",
      "metadata": {
        "colab": {
          "base_uri": "https://localhost:8080/",
          "height": 203
        },
        "id": "dR3U1DDTbfHD",
        "outputId": "064a419f-bb6d-47f8-c1dd-29a5ac77eba8"
      },
      "source": [
        "df.head()"
      ],
      "id": "dR3U1DDTbfHD",
      "execution_count": null,
      "outputs": [
        {
          "output_type": "execute_result",
          "data": {
            "text/html": [
              "<div>\n",
              "<style scoped>\n",
              "    .dataframe tbody tr th:only-of-type {\n",
              "        vertical-align: middle;\n",
              "    }\n",
              "\n",
              "    .dataframe tbody tr th {\n",
              "        vertical-align: top;\n",
              "    }\n",
              "\n",
              "    .dataframe thead th {\n",
              "        text-align: right;\n",
              "    }\n",
              "</style>\n",
              "<table border=\"1\" class=\"dataframe\">\n",
              "  <thead>\n",
              "    <tr style=\"text-align: right;\">\n",
              "      <th></th>\n",
              "      <th>PM2.5</th>\n",
              "      <th>dt</th>\n",
              "      <th>PM10</th>\n",
              "      <th>SO2</th>\n",
              "      <th>NO2</th>\n",
              "      <th>CO</th>\n",
              "      <th>O3</th>\n",
              "      <th>TEMP</th>\n",
              "      <th>PRES</th>\n",
              "      <th>DEWP</th>\n",
              "      <th>RAIN</th>\n",
              "    </tr>\n",
              "  </thead>\n",
              "  <tbody>\n",
              "    <tr>\n",
              "      <th>0</th>\n",
              "      <td>4.0</td>\n",
              "      <td>2013-01-03 00:00:00</td>\n",
              "      <td>-1.101254</td>\n",
              "      <td>-0.545907</td>\n",
              "      <td>-1.243556</td>\n",
              "      <td>-0.804110</td>\n",
              "      <td>0.348630</td>\n",
              "      <td>-1.242142</td>\n",
              "      <td>1.164563</td>\n",
              "      <td>-1.538262</td>\n",
              "      <td>-0.078906</td>\n",
              "    </tr>\n",
              "    <tr>\n",
              "      <th>1</th>\n",
              "      <td>9.0</td>\n",
              "      <td>2013-01-03 00:00:00</td>\n",
              "      <td>-1.046543</td>\n",
              "      <td>-0.592877</td>\n",
              "      <td>-0.958503</td>\n",
              "      <td>-0.804110</td>\n",
              "      <td>0.560363</td>\n",
              "      <td>-1.224639</td>\n",
              "      <td>1.308088</td>\n",
              "      <td>-1.726789</td>\n",
              "      <td>-0.078906</td>\n",
              "    </tr>\n",
              "    <tr>\n",
              "      <th>2</th>\n",
              "      <td>4.0</td>\n",
              "      <td>2013-01-03 00:00:00</td>\n",
              "      <td>-1.101254</td>\n",
              "      <td>-0.076203</td>\n",
              "      <td>-0.872987</td>\n",
              "      <td>-0.804110</td>\n",
              "      <td>0.207475</td>\n",
              "      <td>-1.242142</td>\n",
              "      <td>1.164563</td>\n",
              "      <td>-1.538262</td>\n",
              "      <td>-0.078906</td>\n",
              "    </tr>\n",
              "    <tr>\n",
              "      <th>3</th>\n",
              "      <td>7.0</td>\n",
              "      <td>2013-01-03 00:00:00</td>\n",
              "      <td>-1.068428</td>\n",
              "      <td>-0.592877</td>\n",
              "      <td>-1.386082</td>\n",
              "      <td>-0.976692</td>\n",
              "      <td>0.595652</td>\n",
              "      <td>-1.382164</td>\n",
              "      <td>0.906219</td>\n",
              "      <td>-1.676032</td>\n",
              "      <td>-0.078906</td>\n",
              "    </tr>\n",
              "    <tr>\n",
              "      <th>4</th>\n",
              "      <td>5.0</td>\n",
              "      <td>2013-01-03 00:00:00</td>\n",
              "      <td>-0.991832</td>\n",
              "      <td>-0.545907</td>\n",
              "      <td>-1.101029</td>\n",
              "      <td>-0.890401</td>\n",
              "      <td>0.489786</td>\n",
              "      <td>-1.224639</td>\n",
              "      <td>1.308088</td>\n",
              "      <td>-1.726789</td>\n",
              "      <td>-0.078906</td>\n",
              "    </tr>\n",
              "  </tbody>\n",
              "</table>\n",
              "</div>"
            ],
            "text/plain": [
              "   PM2.5                   dt      PM10  ...      PRES      DEWP      RAIN\n",
              "0    4.0  2013-01-03 00:00:00 -1.101254  ...  1.164563 -1.538262 -0.078906\n",
              "1    9.0  2013-01-03 00:00:00 -1.046543  ...  1.308088 -1.726789 -0.078906\n",
              "2    4.0  2013-01-03 00:00:00 -1.101254  ...  1.164563 -1.538262 -0.078906\n",
              "3    7.0  2013-01-03 00:00:00 -1.068428  ...  0.906219 -1.676032 -0.078906\n",
              "4    5.0  2013-01-03 00:00:00 -0.991832  ...  1.308088 -1.726789 -0.078906\n",
              "\n",
              "[5 rows x 11 columns]"
            ]
          },
          "metadata": {},
          "execution_count": 15
        }
      ]
    },
    {
      "cell_type": "code",
      "metadata": {
        "colab": {
          "base_uri": "https://localhost:8080/"
        },
        "id": "OIdDHqIXloP2",
        "outputId": "12041511-b633-426d-d14b-cd4283e55478"
      },
      "source": [
        "time_index=pd.to_datetime(df['dt'])\n",
        "df_kl=df.set_index(time_index)\n",
        "df_kl.index"
      ],
      "id": "OIdDHqIXloP2",
      "execution_count": 8,
      "outputs": [
        {
          "output_type": "execute_result",
          "data": {
            "text/plain": [
              "DatetimeIndex(['2013-01-03 00:00:00', '2013-01-03 00:00:00',\n",
              "               '2013-01-03 00:00:00', '2013-01-03 00:00:00',\n",
              "               '2013-01-03 00:00:00', '2013-01-03 00:00:00',\n",
              "               '2013-01-03 00:00:00', '2013-01-03 00:00:00',\n",
              "               '2013-01-03 00:00:00', '2013-01-03 00:00:00',\n",
              "               ...\n",
              "               '2017-12-02 23:00:00', '2017-12-02 23:00:00',\n",
              "               '2017-12-02 23:00:00', '2017-12-02 23:00:00',\n",
              "               '2017-12-02 23:00:00', '2017-12-02 23:00:00',\n",
              "               '2017-12-02 23:00:00', '2017-12-02 23:00:00',\n",
              "               '2017-12-02 23:00:00', '2017-12-02 23:00:00'],\n",
              "              dtype='datetime64[ns]', name='dt', length=383586, freq=None)"
            ]
          },
          "metadata": {},
          "execution_count": 8
        }
      ]
    },
    {
      "cell_type": "code",
      "metadata": {
        "id": "cv1AI6_XioCE"
      },
      "source": [
        "df_kl=df_kl.drop('dt', axis=1)\n",
        "y = df_kl['PM2.5']\n",
        "X = df_kl.drop(columns= ['PM2.5'])\n",
        "X_train, X_test, y_train, y_test = train_test_split(X,y, shuffle=False)\n",
        "\n"
      ],
      "id": "cv1AI6_XioCE",
      "execution_count": 9,
      "outputs": []
    },
    {
      "cell_type": "code",
      "metadata": {
        "colab": {
          "base_uri": "https://localhost:8080/"
        },
        "id": "U63F3Nh8GZJL",
        "outputId": "ed1e838d-499d-4cc8-ff55-7af0f274ef38"
      },
      "source": [
        "# loaded_model = tf.keras.models.load_model(\"final_model.h5\")\n",
        "# loaded_model.build()\n",
        "# loaded_model.summary()"
      ],
      "id": "U63F3Nh8GZJL",
      "execution_count": 3,
      "outputs": [
        {
          "output_type": "stream",
          "name": "stdout",
          "text": [
            "Model: \"sequential\"\n",
            "_________________________________________________________________\n",
            "Layer (type)                 Output Shape              Param #   \n",
            "=================================================================\n",
            "dense (Dense)                (None, 32)                320       \n",
            "_________________________________________________________________\n",
            "dense_1 (Dense)              (None, 32)                1056      \n",
            "_________________________________________________________________\n",
            "dense_2 (Dense)              (None, 20)                660       \n",
            "_________________________________________________________________\n",
            "dense_3 (Dense)              (None, 1)                 21        \n",
            "=================================================================\n",
            "Total params: 2,057\n",
            "Trainable params: 2,057\n",
            "Non-trainable params: 0\n",
            "_________________________________________________________________\n"
          ]
        }
      ]
    },
    {
      "cell_type": "code",
      "metadata": {
        "colab": {
          "base_uri": "https://localhost:8080/"
        },
        "id": "gY4-_rmDEhGG",
        "outputId": "5bf0735d-202a-442d-8078-35a9cb42b82c"
      },
      "source": [
        "# loaded_model.compile(optimizer='adam', loss='mean_squared_error', metrics=['mean_squared_error'])\n",
        "# loaded_model.fit(X_train, y_train, epochs=200)"
      ],
      "id": "gY4-_rmDEhGG",
      "execution_count": 10,
      "outputs": [
        {
          "output_type": "stream",
          "name": "stdout",
          "text": [
            "Epoch 1/200\n",
            "8991/8991 [==============================] - 14s 2ms/step - loss: 427.0831 - mean_squared_error: 427.0831\n",
            "Epoch 2/200\n",
            "8991/8991 [==============================] - 14s 2ms/step - loss: 427.2117 - mean_squared_error: 427.2117\n",
            "Epoch 3/200\n",
            "8991/8991 [==============================] - 14s 2ms/step - loss: 426.6203 - mean_squared_error: 426.6203\n",
            "Epoch 4/200\n",
            "8991/8991 [==============================] - 13s 2ms/step - loss: 427.6392 - mean_squared_error: 427.6392\n",
            "Epoch 5/200\n",
            "8991/8991 [==============================] - 13s 2ms/step - loss: 426.5056 - mean_squared_error: 426.5056\n",
            "Epoch 6/200\n",
            "8991/8991 [==============================] - 13s 1ms/step - loss: 426.4326 - mean_squared_error: 426.4326\n",
            "Epoch 7/200\n",
            "8991/8991 [==============================] - 13s 1ms/step - loss: 426.2110 - mean_squared_error: 426.2110\n",
            "Epoch 8/200\n",
            "8991/8991 [==============================] - 14s 2ms/step - loss: 426.2109 - mean_squared_error: 426.2109\n",
            "Epoch 9/200\n",
            "8991/8991 [==============================] - 14s 2ms/step - loss: 426.3809 - mean_squared_error: 426.3809\n",
            "Epoch 10/200\n",
            "8991/8991 [==============================] - 13s 1ms/step - loss: 426.2819 - mean_squared_error: 426.2819\n",
            "Epoch 11/200\n",
            "8991/8991 [==============================] - 13s 1ms/step - loss: 426.2963 - mean_squared_error: 426.2963\n",
            "Epoch 12/200\n",
            "8991/8991 [==============================] - 13s 2ms/step - loss: 425.6955 - mean_squared_error: 425.6955\n",
            "Epoch 13/200\n",
            "8991/8991 [==============================] - 14s 2ms/step - loss: 425.9467 - mean_squared_error: 425.9467\n",
            "Epoch 14/200\n",
            "8991/8991 [==============================] - 14s 2ms/step - loss: 426.5497 - mean_squared_error: 426.5497\n",
            "Epoch 15/200\n",
            "8991/8991 [==============================] - 14s 2ms/step - loss: 426.0740 - mean_squared_error: 426.0740\n",
            "Epoch 16/200\n",
            "8991/8991 [==============================] - 14s 2ms/step - loss: 425.9597 - mean_squared_error: 425.9597\n",
            "Epoch 17/200\n",
            "8991/8991 [==============================] - 14s 2ms/step - loss: 425.7756 - mean_squared_error: 425.7756\n",
            "Epoch 18/200\n",
            "8991/8991 [==============================] - 14s 2ms/step - loss: 425.7448 - mean_squared_error: 425.7448\n",
            "Epoch 19/200\n",
            "8991/8991 [==============================] - 14s 2ms/step - loss: 426.4068 - mean_squared_error: 426.4068\n",
            "Epoch 20/200\n",
            "8991/8991 [==============================] - 14s 2ms/step - loss: 425.4105 - mean_squared_error: 425.4105\n",
            "Epoch 21/200\n",
            "8991/8991 [==============================] - 14s 2ms/step - loss: 425.4382 - mean_squared_error: 425.4382\n",
            "Epoch 22/200\n",
            "8991/8991 [==============================] - 14s 2ms/step - loss: 425.3809 - mean_squared_error: 425.3809\n",
            "Epoch 23/200\n",
            "8991/8991 [==============================] - 14s 2ms/step - loss: 425.6873 - mean_squared_error: 425.6873\n",
            "Epoch 24/200\n",
            "8991/8991 [==============================] - 14s 2ms/step - loss: 425.0273 - mean_squared_error: 425.0273\n",
            "Epoch 25/200\n",
            "8991/8991 [==============================] - 14s 2ms/step - loss: 425.0630 - mean_squared_error: 425.0630\n",
            "Epoch 26/200\n",
            "8991/8991 [==============================] - 14s 2ms/step - loss: 425.2903 - mean_squared_error: 425.2903\n",
            "Epoch 27/200\n",
            "8991/8991 [==============================] - 14s 2ms/step - loss: 424.9006 - mean_squared_error: 424.9006\n",
            "Epoch 28/200\n",
            "8991/8991 [==============================] - 14s 2ms/step - loss: 424.9271 - mean_squared_error: 424.9271\n",
            "Epoch 29/200\n",
            "8991/8991 [==============================] - 14s 2ms/step - loss: 425.0571 - mean_squared_error: 425.0571\n",
            "Epoch 30/200\n",
            "8991/8991 [==============================] - 14s 2ms/step - loss: 424.7650 - mean_squared_error: 424.7650\n",
            "Epoch 31/200\n",
            "8991/8991 [==============================] - 14s 2ms/step - loss: 425.1360 - mean_squared_error: 425.1360\n",
            "Epoch 32/200\n",
            "8991/8991 [==============================] - 14s 2ms/step - loss: 424.8323 - mean_squared_error: 424.8323\n",
            "Epoch 33/200\n",
            "8991/8991 [==============================] - 14s 2ms/step - loss: 424.5341 - mean_squared_error: 424.5341\n",
            "Epoch 34/200\n",
            "8991/8991 [==============================] - 14s 2ms/step - loss: 424.5560 - mean_squared_error: 424.5560\n",
            "Epoch 35/200\n",
            "8991/8991 [==============================] - 13s 1ms/step - loss: 425.1331 - mean_squared_error: 425.1331\n",
            "Epoch 36/200\n",
            "8991/8991 [==============================] - 14s 2ms/step - loss: 424.3009 - mean_squared_error: 424.3009\n",
            "Epoch 37/200\n",
            "8991/8991 [==============================] - 14s 2ms/step - loss: 424.5190 - mean_squared_error: 424.5190\n",
            "Epoch 38/200\n",
            "8991/8991 [==============================] - 14s 2ms/step - loss: 424.4867 - mean_squared_error: 424.4867\n",
            "Epoch 39/200\n",
            "8991/8991 [==============================] - 14s 2ms/step - loss: 424.5091 - mean_squared_error: 424.5091\n",
            "Epoch 40/200\n",
            "8991/8991 [==============================] - 14s 2ms/step - loss: 424.1539 - mean_squared_error: 424.1539\n",
            "Epoch 41/200\n",
            "8991/8991 [==============================] - 14s 2ms/step - loss: 424.4099 - mean_squared_error: 424.4099\n",
            "Epoch 42/200\n",
            "8991/8991 [==============================] - 14s 2ms/step - loss: 423.8039 - mean_squared_error: 423.8039\n",
            "Epoch 43/200\n",
            "8991/8991 [==============================] - 14s 2ms/step - loss: 423.7678 - mean_squared_error: 423.7678\n",
            "Epoch 44/200\n",
            "8991/8991 [==============================] - 14s 2ms/step - loss: 424.2397 - mean_squared_error: 424.2397\n",
            "Epoch 45/200\n",
            "8991/8991 [==============================] - 14s 2ms/step - loss: 423.2943 - mean_squared_error: 423.2943\n",
            "Epoch 46/200\n",
            "8991/8991 [==============================] - 14s 2ms/step - loss: 424.2863 - mean_squared_error: 424.2863\n",
            "Epoch 47/200\n",
            "8991/8991 [==============================] - 14s 2ms/step - loss: 423.8261 - mean_squared_error: 423.8261\n",
            "Epoch 48/200\n",
            "8991/8991 [==============================] - 14s 2ms/step - loss: 423.4893 - mean_squared_error: 423.4893\n",
            "Epoch 49/200\n",
            "8991/8991 [==============================] - 14s 2ms/step - loss: 423.1575 - mean_squared_error: 423.1575\n",
            "Epoch 50/200\n",
            "8991/8991 [==============================] - 14s 2ms/step - loss: 423.3374 - mean_squared_error: 423.3374\n",
            "Epoch 51/200\n",
            "8991/8991 [==============================] - 14s 2ms/step - loss: 422.9071 - mean_squared_error: 422.9071\n",
            "Epoch 52/200\n",
            "8991/8991 [==============================] - 14s 2ms/step - loss: 423.4159 - mean_squared_error: 423.4159\n",
            "Epoch 53/200\n",
            "8991/8991 [==============================] - 14s 2ms/step - loss: 422.7485 - mean_squared_error: 422.7485\n",
            "Epoch 54/200\n",
            "8991/8991 [==============================] - 14s 2ms/step - loss: 423.4854 - mean_squared_error: 423.4854\n",
            "Epoch 55/200\n",
            "8991/8991 [==============================] - 14s 2ms/step - loss: 422.9537 - mean_squared_error: 422.9537\n",
            "Epoch 56/200\n",
            "8991/8991 [==============================] - 14s 2ms/step - loss: 422.4163 - mean_squared_error: 422.4163\n",
            "Epoch 57/200\n",
            "8991/8991 [==============================] - 14s 2ms/step - loss: 423.0034 - mean_squared_error: 423.0034\n",
            "Epoch 58/200\n",
            "8991/8991 [==============================] - 14s 2ms/step - loss: 422.4335 - mean_squared_error: 422.4335\n",
            "Epoch 59/200\n",
            "8991/8991 [==============================] - 14s 2ms/step - loss: 422.6228 - mean_squared_error: 422.6228\n",
            "Epoch 60/200\n",
            "8991/8991 [==============================] - 14s 2ms/step - loss: 423.3100 - mean_squared_error: 423.3100\n",
            "Epoch 61/200\n",
            "8991/8991 [==============================] - 14s 2ms/step - loss: 422.5037 - mean_squared_error: 422.5037\n",
            "Epoch 62/200\n",
            "8991/8991 [==============================] - 14s 2ms/step - loss: 423.0983 - mean_squared_error: 423.0983\n",
            "Epoch 63/200\n",
            "8991/8991 [==============================] - 14s 2ms/step - loss: 422.3676 - mean_squared_error: 422.3676\n",
            "Epoch 64/200\n",
            "8991/8991 [==============================] - 14s 2ms/step - loss: 422.8235 - mean_squared_error: 422.8235\n",
            "Epoch 65/200\n",
            "8991/8991 [==============================] - 14s 2ms/step - loss: 422.3910 - mean_squared_error: 422.3910\n",
            "Epoch 66/200\n",
            "8991/8991 [==============================] - 14s 2ms/step - loss: 422.0364 - mean_squared_error: 422.0364\n",
            "Epoch 67/200\n",
            "8991/8991 [==============================] - 14s 2ms/step - loss: 422.6156 - mean_squared_error: 422.6156\n",
            "Epoch 68/200\n",
            "8991/8991 [==============================] - 14s 2ms/step - loss: 422.1106 - mean_squared_error: 422.1106\n",
            "Epoch 69/200\n",
            "8991/8991 [==============================] - 14s 2ms/step - loss: 422.3685 - mean_squared_error: 422.3685\n",
            "Epoch 70/200\n",
            "8991/8991 [==============================] - 14s 2ms/step - loss: 422.0493 - mean_squared_error: 422.0493\n",
            "Epoch 71/200\n",
            "8991/8991 [==============================] - 14s 2ms/step - loss: 422.7379 - mean_squared_error: 422.7379\n",
            "Epoch 72/200\n",
            "8991/8991 [==============================] - 14s 2ms/step - loss: 421.6565 - mean_squared_error: 421.6565\n",
            "Epoch 73/200\n",
            "8991/8991 [==============================] - 14s 2ms/step - loss: 422.4269 - mean_squared_error: 422.4269\n",
            "Epoch 74/200\n",
            "8991/8991 [==============================] - 14s 2ms/step - loss: 421.6947 - mean_squared_error: 421.6947\n",
            "Epoch 75/200\n",
            "8991/8991 [==============================] - 14s 2ms/step - loss: 421.5289 - mean_squared_error: 421.5289\n",
            "Epoch 76/200\n",
            "8991/8991 [==============================] - 14s 2ms/step - loss: 421.4131 - mean_squared_error: 421.4131\n",
            "Epoch 77/200\n",
            "8991/8991 [==============================] - 14s 2ms/step - loss: 421.8374 - mean_squared_error: 421.8374\n",
            "Epoch 78/200\n",
            "8991/8991 [==============================] - 14s 2ms/step - loss: 421.7856 - mean_squared_error: 421.7856\n",
            "Epoch 79/200\n",
            "8991/8991 [==============================] - 14s 2ms/step - loss: 421.4913 - mean_squared_error: 421.4913\n",
            "Epoch 80/200\n",
            "8991/8991 [==============================] - 14s 2ms/step - loss: 421.8810 - mean_squared_error: 421.8810\n",
            "Epoch 81/200\n",
            "8991/8991 [==============================] - 14s 2ms/step - loss: 421.0203 - mean_squared_error: 421.0203\n",
            "Epoch 82/200\n",
            "8991/8991 [==============================] - 14s 2ms/step - loss: 421.9209 - mean_squared_error: 421.9209\n",
            "Epoch 83/200\n",
            "8991/8991 [==============================] - 14s 2ms/step - loss: 421.8937 - mean_squared_error: 421.8937\n",
            "Epoch 84/200\n",
            "8991/8991 [==============================] - 14s 2ms/step - loss: 421.1650 - mean_squared_error: 421.1650\n",
            "Epoch 85/200\n",
            "8991/8991 [==============================] - 14s 2ms/step - loss: 421.2253 - mean_squared_error: 421.2253\n",
            "Epoch 86/200\n",
            "8991/8991 [==============================] - 14s 2ms/step - loss: 421.6111 - mean_squared_error: 421.6111\n",
            "Epoch 87/200\n",
            "8991/8991 [==============================] - 14s 2ms/step - loss: 421.1743 - mean_squared_error: 421.1743\n",
            "Epoch 88/200\n",
            "8991/8991 [==============================] - 14s 2ms/step - loss: 420.8806 - mean_squared_error: 420.8806\n",
            "Epoch 89/200\n",
            "8991/8991 [==============================] - 14s 2ms/step - loss: 421.5245 - mean_squared_error: 421.5245\n",
            "Epoch 90/200\n",
            "8991/8991 [==============================] - 14s 2ms/step - loss: 421.1772 - mean_squared_error: 421.1772\n",
            "Epoch 91/200\n",
            "8991/8991 [==============================] - 14s 2ms/step - loss: 421.2269 - mean_squared_error: 421.2269\n",
            "Epoch 92/200\n",
            "8991/8991 [==============================] - 14s 2ms/step - loss: 421.4205 - mean_squared_error: 421.4205\n",
            "Epoch 93/200\n",
            "8991/8991 [==============================] - 14s 2ms/step - loss: 420.6394 - mean_squared_error: 420.6394\n",
            "Epoch 94/200\n",
            "8991/8991 [==============================] - 14s 2ms/step - loss: 420.6140 - mean_squared_error: 420.6140\n",
            "Epoch 95/200\n",
            "8991/8991 [==============================] - 14s 2ms/step - loss: 420.7760 - mean_squared_error: 420.7760\n",
            "Epoch 96/200\n",
            "8991/8991 [==============================] - 14s 2ms/step - loss: 420.6668 - mean_squared_error: 420.6668\n",
            "Epoch 97/200\n",
            "8991/8991 [==============================] - 14s 2ms/step - loss: 420.7142 - mean_squared_error: 420.7142\n",
            "Epoch 98/200\n",
            "8991/8991 [==============================] - 14s 2ms/step - loss: 421.1340 - mean_squared_error: 421.1340\n",
            "Epoch 99/200\n",
            "8991/8991 [==============================] - 14s 2ms/step - loss: 420.4203 - mean_squared_error: 420.4203\n",
            "Epoch 100/200\n",
            "8991/8991 [==============================] - 14s 2ms/step - loss: 420.3915 - mean_squared_error: 420.3915\n",
            "Epoch 101/200\n",
            "8991/8991 [==============================] - 14s 2ms/step - loss: 420.5816 - mean_squared_error: 420.5816\n",
            "Epoch 102/200\n",
            "8991/8991 [==============================] - 14s 2ms/step - loss: 420.6276 - mean_squared_error: 420.6276\n",
            "Epoch 103/200\n",
            "8991/8991 [==============================] - 14s 2ms/step - loss: 420.3334 - mean_squared_error: 420.3334\n",
            "Epoch 104/200\n",
            "8991/8991 [==============================] - 14s 2ms/step - loss: 420.9642 - mean_squared_error: 420.9642\n",
            "Epoch 105/200\n",
            "8991/8991 [==============================] - 14s 2ms/step - loss: 420.1839 - mean_squared_error: 420.1839\n",
            "Epoch 106/200\n",
            "8991/8991 [==============================] - 14s 2ms/step - loss: 420.7701 - mean_squared_error: 420.7701\n",
            "Epoch 107/200\n",
            "8991/8991 [==============================] - 14s 2ms/step - loss: 420.3330 - mean_squared_error: 420.3330\n",
            "Epoch 108/200\n",
            "8991/8991 [==============================] - 14s 2ms/step - loss: 420.1615 - mean_squared_error: 420.1615\n",
            "Epoch 109/200\n",
            "8991/8991 [==============================] - 14s 2ms/step - loss: 420.0579 - mean_squared_error: 420.0579\n",
            "Epoch 110/200\n",
            "8991/8991 [==============================] - 14s 2ms/step - loss: 420.2447 - mean_squared_error: 420.2447\n",
            "Epoch 111/200\n",
            "8991/8991 [==============================] - 14s 2ms/step - loss: 419.7392 - mean_squared_error: 419.7392\n",
            "Epoch 112/200\n",
            "8991/8991 [==============================] - 14s 2ms/step - loss: 420.1030 - mean_squared_error: 420.1030\n",
            "Epoch 113/200\n",
            "8991/8991 [==============================] - 14s 2ms/step - loss: 420.1902 - mean_squared_error: 420.1902\n",
            "Epoch 114/200\n",
            "8991/8991 [==============================] - 14s 2ms/step - loss: 419.8734 - mean_squared_error: 419.8734\n",
            "Epoch 115/200\n",
            "8991/8991 [==============================] - 15s 2ms/step - loss: 419.6974 - mean_squared_error: 419.6974\n",
            "Epoch 116/200\n",
            "8991/8991 [==============================] - 14s 2ms/step - loss: 420.3358 - mean_squared_error: 420.3358\n",
            "Epoch 117/200\n",
            "8991/8991 [==============================] - 14s 2ms/step - loss: 419.4231 - mean_squared_error: 419.4231\n",
            "Epoch 118/200\n",
            "8991/8991 [==============================] - 15s 2ms/step - loss: 420.1649 - mean_squared_error: 420.1649\n",
            "Epoch 119/200\n",
            "8991/8991 [==============================] - 14s 2ms/step - loss: 419.6689 - mean_squared_error: 419.6689\n",
            "Epoch 120/200\n",
            "8991/8991 [==============================] - 14s 2ms/step - loss: 419.5412 - mean_squared_error: 419.5412\n",
            "Epoch 121/200\n",
            "8991/8991 [==============================] - 14s 2ms/step - loss: 419.1562 - mean_squared_error: 419.1562\n",
            "Epoch 122/200\n",
            "8991/8991 [==============================] - 14s 2ms/step - loss: 419.9633 - mean_squared_error: 419.9633\n",
            "Epoch 123/200\n",
            "8991/8991 [==============================] - 14s 2ms/step - loss: 419.2828 - mean_squared_error: 419.2828\n",
            "Epoch 124/200\n",
            "8991/8991 [==============================] - 14s 2ms/step - loss: 419.4765 - mean_squared_error: 419.4765\n",
            "Epoch 125/200\n",
            "8991/8991 [==============================] - 14s 2ms/step - loss: 419.6455 - mean_squared_error: 419.6455\n",
            "Epoch 126/200\n",
            "8991/8991 [==============================] - 15s 2ms/step - loss: 419.4989 - mean_squared_error: 419.4989\n",
            "Epoch 127/200\n",
            "8991/8991 [==============================] - 15s 2ms/step - loss: 419.7580 - mean_squared_error: 419.7580\n",
            "Epoch 128/200\n",
            "8991/8991 [==============================] - 16s 2ms/step - loss: 419.4643 - mean_squared_error: 419.4643\n",
            "Epoch 129/200\n",
            "8991/8991 [==============================] - 14s 2ms/step - loss: 419.7746 - mean_squared_error: 419.7746\n",
            "Epoch 130/200\n",
            "8991/8991 [==============================] - 14s 2ms/step - loss: 419.7619 - mean_squared_error: 419.7619\n",
            "Epoch 131/200\n",
            "8991/8991 [==============================] - 14s 2ms/step - loss: 419.4887 - mean_squared_error: 419.4887\n",
            "Epoch 132/200\n",
            "8991/8991 [==============================] - 14s 2ms/step - loss: 419.5089 - mean_squared_error: 419.5089\n",
            "Epoch 133/200\n",
            "8991/8991 [==============================] - 15s 2ms/step - loss: 419.1156 - mean_squared_error: 419.1156\n",
            "Epoch 134/200\n",
            "8991/8991 [==============================] - 15s 2ms/step - loss: 418.9822 - mean_squared_error: 418.9822\n",
            "Epoch 135/200\n",
            "8991/8991 [==============================] - 14s 2ms/step - loss: 418.8708 - mean_squared_error: 418.8708\n",
            "Epoch 136/200\n",
            "8991/8991 [==============================] - 14s 2ms/step - loss: 419.1469 - mean_squared_error: 419.1469\n",
            "Epoch 137/200\n",
            "8991/8991 [==============================] - 14s 2ms/step - loss: 419.5280 - mean_squared_error: 419.5280\n",
            "Epoch 138/200\n",
            "8991/8991 [==============================] - 14s 2ms/step - loss: 419.0321 - mean_squared_error: 419.0321\n",
            "Epoch 139/200\n",
            "8991/8991 [==============================] - 14s 2ms/step - loss: 419.0959 - mean_squared_error: 419.0959\n",
            "Epoch 140/200\n",
            "8991/8991 [==============================] - 14s 2ms/step - loss: 419.0233 - mean_squared_error: 419.0233\n",
            "Epoch 141/200\n",
            "8991/8991 [==============================] - 15s 2ms/step - loss: 419.0234 - mean_squared_error: 419.0234\n",
            "Epoch 142/200\n",
            "8991/8991 [==============================] - 14s 2ms/step - loss: 419.1979 - mean_squared_error: 419.1979\n",
            "Epoch 143/200\n",
            "8991/8991 [==============================] - 14s 2ms/step - loss: 419.1189 - mean_squared_error: 419.1189\n",
            "Epoch 144/200\n",
            "8991/8991 [==============================] - 15s 2ms/step - loss: 419.2784 - mean_squared_error: 419.2784\n",
            "Epoch 145/200\n",
            "8991/8991 [==============================] - 14s 2ms/step - loss: 419.0757 - mean_squared_error: 419.0757\n",
            "Epoch 146/200\n",
            "8991/8991 [==============================] - 15s 2ms/step - loss: 418.8362 - mean_squared_error: 418.8362\n",
            "Epoch 147/200\n",
            "8991/8991 [==============================] - 14s 2ms/step - loss: 419.0898 - mean_squared_error: 419.0898\n",
            "Epoch 148/200\n",
            "8991/8991 [==============================] - 14s 2ms/step - loss: 418.4349 - mean_squared_error: 418.4349\n",
            "Epoch 149/200\n",
            "8991/8991 [==============================] - 14s 2ms/step - loss: 418.5560 - mean_squared_error: 418.5560\n",
            "Epoch 150/200\n",
            "8991/8991 [==============================] - 14s 2ms/step - loss: 418.4690 - mean_squared_error: 418.4690\n",
            "Epoch 151/200\n",
            "8991/8991 [==============================] - 14s 2ms/step - loss: 419.1507 - mean_squared_error: 419.1507\n",
            "Epoch 152/200\n",
            "8991/8991 [==============================] - 15s 2ms/step - loss: 418.6968 - mean_squared_error: 418.6968\n",
            "Epoch 153/200\n",
            "8991/8991 [==============================] - 14s 2ms/step - loss: 418.5286 - mean_squared_error: 418.5286\n",
            "Epoch 154/200\n",
            "8991/8991 [==============================] - 14s 2ms/step - loss: 418.1930 - mean_squared_error: 418.1930\n",
            "Epoch 155/200\n",
            "8991/8991 [==============================] - 14s 2ms/step - loss: 418.5689 - mean_squared_error: 418.5689\n",
            "Epoch 156/200\n",
            "8991/8991 [==============================] - 14s 2ms/step - loss: 418.4075 - mean_squared_error: 418.4075\n",
            "Epoch 157/200\n",
            "8991/8991 [==============================] - 14s 2ms/step - loss: 418.9306 - mean_squared_error: 418.9306\n",
            "Epoch 158/200\n",
            "8991/8991 [==============================] - 14s 2ms/step - loss: 418.8703 - mean_squared_error: 418.8703\n",
            "Epoch 159/200\n",
            "8991/8991 [==============================] - 14s 2ms/step - loss: 419.1165 - mean_squared_error: 419.1165\n",
            "Epoch 160/200\n",
            "8991/8991 [==============================] - 14s 2ms/step - loss: 419.1497 - mean_squared_error: 419.1497\n",
            "Epoch 161/200\n",
            "8991/8991 [==============================] - 15s 2ms/step - loss: 418.5259 - mean_squared_error: 418.5259\n",
            "Epoch 162/200\n",
            "8991/8991 [==============================] - 14s 2ms/step - loss: 418.5511 - mean_squared_error: 418.5511\n",
            "Epoch 163/200\n",
            "8991/8991 [==============================] - 14s 2ms/step - loss: 418.4355 - mean_squared_error: 418.4355\n",
            "Epoch 164/200\n",
            "8991/8991 [==============================] - 14s 2ms/step - loss: 419.0322 - mean_squared_error: 419.0322\n",
            "Epoch 165/200\n",
            "8991/8991 [==============================] - 14s 2ms/step - loss: 418.5304 - mean_squared_error: 418.5304\n",
            "Epoch 166/200\n",
            "8991/8991 [==============================] - 15s 2ms/step - loss: 418.5230 - mean_squared_error: 418.5230\n",
            "Epoch 167/200\n",
            "8991/8991 [==============================] - 14s 2ms/step - loss: 418.5196 - mean_squared_error: 418.5196\n",
            "Epoch 168/200\n",
            "8991/8991 [==============================] - 14s 2ms/step - loss: 418.2363 - mean_squared_error: 418.2363\n",
            "Epoch 169/200\n",
            "8991/8991 [==============================] - 14s 2ms/step - loss: 417.9413 - mean_squared_error: 417.9413\n",
            "Epoch 170/200\n",
            "8991/8991 [==============================] - 15s 2ms/step - loss: 418.1782 - mean_squared_error: 418.1782\n",
            "Epoch 171/200\n",
            "8991/8991 [==============================] - 15s 2ms/step - loss: 417.8473 - mean_squared_error: 417.8473\n",
            "Epoch 172/200\n",
            "8991/8991 [==============================] - 15s 2ms/step - loss: 417.7890 - mean_squared_error: 417.7890\n",
            "Epoch 173/200\n",
            "8991/8991 [==============================] - 15s 2ms/step - loss: 417.9832 - mean_squared_error: 417.9832\n",
            "Epoch 174/200\n",
            "8991/8991 [==============================] - 14s 2ms/step - loss: 418.1118 - mean_squared_error: 418.1118\n",
            "Epoch 175/200\n",
            "8991/8991 [==============================] - 16s 2ms/step - loss: 418.5054 - mean_squared_error: 418.5054\n",
            "Epoch 176/200\n",
            "8991/8991 [==============================] - 16s 2ms/step - loss: 418.1376 - mean_squared_error: 418.1376\n",
            "Epoch 177/200\n",
            "8991/8991 [==============================] - 16s 2ms/step - loss: 417.8301 - mean_squared_error: 417.8301\n",
            "Epoch 178/200\n",
            "8991/8991 [==============================] - 15s 2ms/step - loss: 418.1248 - mean_squared_error: 418.1248\n",
            "Epoch 179/200\n",
            "8991/8991 [==============================] - 15s 2ms/step - loss: 418.3630 - mean_squared_error: 418.3630\n",
            "Epoch 180/200\n",
            "8991/8991 [==============================] - 15s 2ms/step - loss: 418.3157 - mean_squared_error: 418.3157\n",
            "Epoch 181/200\n",
            "8991/8991 [==============================] - 15s 2ms/step - loss: 417.8332 - mean_squared_error: 417.8332\n",
            "Epoch 182/200\n",
            "8991/8991 [==============================] - 15s 2ms/step - loss: 418.4319 - mean_squared_error: 418.4319\n",
            "Epoch 183/200\n",
            "8991/8991 [==============================] - 15s 2ms/step - loss: 417.5020 - mean_squared_error: 417.5020\n",
            "Epoch 184/200\n",
            "8991/8991 [==============================] - 15s 2ms/step - loss: 418.0217 - mean_squared_error: 418.0217\n",
            "Epoch 185/200\n",
            "8991/8991 [==============================] - 15s 2ms/step - loss: 417.6907 - mean_squared_error: 417.6907\n",
            "Epoch 186/200\n",
            "8991/8991 [==============================] - 15s 2ms/step - loss: 417.9819 - mean_squared_error: 417.9819\n",
            "Epoch 187/200\n",
            "8991/8991 [==============================] - 15s 2ms/step - loss: 417.9936 - mean_squared_error: 417.9936\n",
            "Epoch 188/200\n",
            "8991/8991 [==============================] - 15s 2ms/step - loss: 417.5692 - mean_squared_error: 417.5692\n",
            "Epoch 189/200\n",
            "8991/8991 [==============================] - 16s 2ms/step - loss: 417.9294 - mean_squared_error: 417.9294\n",
            "Epoch 190/200\n",
            "8991/8991 [==============================] - 15s 2ms/step - loss: 417.6893 - mean_squared_error: 417.6893\n",
            "Epoch 191/200\n",
            "8991/8991 [==============================] - 15s 2ms/step - loss: 418.1573 - mean_squared_error: 418.1573\n",
            "Epoch 192/200\n",
            "8991/8991 [==============================] - 16s 2ms/step - loss: 417.6920 - mean_squared_error: 417.6920\n",
            "Epoch 193/200\n",
            "8991/8991 [==============================] - 16s 2ms/step - loss: 417.4071 - mean_squared_error: 417.4071\n",
            "Epoch 194/200\n",
            "8991/8991 [==============================] - 15s 2ms/step - loss: 417.5917 - mean_squared_error: 417.5917\n",
            "Epoch 195/200\n",
            "8991/8991 [==============================] - 15s 2ms/step - loss: 417.3838 - mean_squared_error: 417.3838\n",
            "Epoch 196/200\n",
            "8991/8991 [==============================] - 16s 2ms/step - loss: 417.9975 - mean_squared_error: 417.9975\n",
            "Epoch 197/200\n",
            "8991/8991 [==============================] - 15s 2ms/step - loss: 418.0302 - mean_squared_error: 418.0302\n",
            "Epoch 198/200\n",
            "8991/8991 [==============================] - 16s 2ms/step - loss: 417.6120 - mean_squared_error: 417.6120\n",
            "Epoch 199/200\n",
            "8991/8991 [==============================] - 16s 2ms/step - loss: 417.6933 - mean_squared_error: 417.6933\n",
            "Epoch 200/200\n",
            "8991/8991 [==============================] - 15s 2ms/step - loss: 417.6941 - mean_squared_error: 417.6941\n"
          ]
        },
        {
          "output_type": "execute_result",
          "data": {
            "text/plain": [
              "<keras.callbacks.History at 0x7fdfb94012d0>"
            ]
          },
          "metadata": {},
          "execution_count": 10
        }
      ]
    },
    {
      "cell_type": "code",
      "metadata": {
        "colab": {
          "base_uri": "https://localhost:8080/"
        },
        "id": "o1-EQovwGWNJ",
        "outputId": "a385377f-0d69-4807-be75-897ea0e35ac8"
      },
      "source": [
        "# scores = loaded_model.evaluate(X_test, y_test, verbose=2)\n",
        "# print(loaded_model.metrics_names[0], scores)"
      ],
      "id": "o1-EQovwGWNJ",
      "execution_count": 11,
      "outputs": [
        {
          "output_type": "stream",
          "name": "stdout",
          "text": [
            "2997/2997 - 3s - loss: 497.3417 - mean_squared_error: 497.3417\n",
            "loss [497.34173583984375, 497.34173583984375]\n"
          ]
        }
      ]
    },
    {
      "cell_type": "code",
      "metadata": {
        "id": "Lx97CMcgMZgw"
      },
      "source": [
        "# loaded_model.save(\"content/final_model.h5\")"
      ],
      "id": "Lx97CMcgMZgw",
      "execution_count": 12,
      "outputs": []
    },
    {
      "cell_type": "code",
      "metadata": {
        "colab": {
          "base_uri": "https://localhost:8080/"
        },
        "id": "IHvIdKxCGfhU",
        "outputId": "30e9cae9-5ec1-4534-9085-456be13be2cf"
      },
      "source": [
        "# pred_temp = loaded_model.predict(X_test)\n",
        "# pred_temp"
      ],
      "id": "IHvIdKxCGfhU",
      "execution_count": null,
      "outputs": [
        {
          "output_type": "execute_result",
          "data": {
            "text/plain": [
              "array([[-0.25250596],\n",
              "       [-0.19487654],\n",
              "       [-0.13481413],\n",
              "       ...,\n",
              "       [-0.29821187],\n",
              "       [-0.3370747 ],\n",
              "       [-0.3753718 ]], dtype=float32)"
            ]
          },
          "metadata": {},
          "execution_count": 11
        }
      ]
    },
    {
      "cell_type": "code",
      "metadata": {
        "id": "5Zv5qNH3kVLm",
        "colab": {
          "base_uri": "https://localhost:8080/"
        },
        "outputId": "9d16b372-f118-449f-ed14-4d8fa1e0caf0"
      },
      "source": [
        "\n",
        "model=tf.keras.models.Sequential()\n",
        "layer_1=tf.keras.layers.Dense(units=96, activation=\"relu\", input_dim=9)\n",
        "model.add(layer_1)\n",
        "layer_2=tf.keras.layers.Dense(units=72, activation=\"relu\")\n",
        "model.add(layer_2)\n",
        "layer_3=tf.keras.layers.Dense(units=64, activation=\"relu\")\n",
        "model.add(layer_3)\n",
        "layer_4=tf.keras.layers.Dense(units=48, activation=\"sigmoid\")\n",
        "model.add(layer_4)\n",
        "layer_5=tf.keras.layers.Dense(units=36, activation=\"sigmoid\")\n",
        "model.add(layer_5)\n",
        "layer_6 =tf.keras.layers.Dense(units=24, activation=\"sigmoid\")\n",
        "model.add(layer_6)\n",
        "output_layer=tf.keras.layers.Dense(units=1)\n",
        "model.add(output_layer)\n",
        "model.summary()"
      ],
      "id": "5Zv5qNH3kVLm",
      "execution_count": 31,
      "outputs": [
        {
          "output_type": "stream",
          "name": "stdout",
          "text": [
            "Model: \"sequential_1\"\n",
            "_________________________________________________________________\n",
            "Layer (type)                 Output Shape              Param #   \n",
            "=================================================================\n",
            "dense_7 (Dense)              (None, 96)                960       \n",
            "_________________________________________________________________\n",
            "dense_8 (Dense)              (None, 72)                6984      \n",
            "_________________________________________________________________\n",
            "dense_9 (Dense)              (None, 64)                4672      \n",
            "_________________________________________________________________\n",
            "dense_10 (Dense)             (None, 48)                3120      \n",
            "_________________________________________________________________\n",
            "dense_11 (Dense)             (None, 36)                1764      \n",
            "_________________________________________________________________\n",
            "dense_12 (Dense)             (None, 24)                888       \n",
            "_________________________________________________________________\n",
            "dense_13 (Dense)             (None, 1)                 25        \n",
            "=================================================================\n",
            "Total params: 18,413\n",
            "Trainable params: 18,413\n",
            "Non-trainable params: 0\n",
            "_________________________________________________________________\n"
          ]
        }
      ]
    },
    {
      "cell_type": "code",
      "metadata": {
        "colab": {
          "base_uri": "https://localhost:8080/"
        },
        "id": "0NYnUQFyO2cs",
        "outputId": "3b57f4c9-6f95-41f0-bec9-415c0a0f2afd"
      },
      "source": [
        "model.compile(optimizer='adam', loss='mean_squared_error', metrics=['mean_squared_error'])\n",
        "model.fit(X_train, y_train, epochs=90)"
      ],
      "id": "0NYnUQFyO2cs",
      "execution_count": 32,
      "outputs": [
        {
          "output_type": "stream",
          "name": "stdout",
          "text": [
            "Epoch 1/90\n",
            "8991/8991 [==============================] - 20s 2ms/step - loss: 6766.4194 - mean_squared_error: 6766.4194\n",
            "Epoch 2/90\n",
            "8991/8991 [==============================] - 20s 2ms/step - loss: 1785.0337 - mean_squared_error: 1785.0337\n",
            "Epoch 3/90\n",
            "8991/8991 [==============================] - 20s 2ms/step - loss: 828.0359 - mean_squared_error: 828.0359\n",
            "Epoch 4/90\n",
            "8991/8991 [==============================] - 20s 2ms/step - loss: 628.9942 - mean_squared_error: 628.9942\n",
            "Epoch 5/90\n",
            "8991/8991 [==============================] - 20s 2ms/step - loss: 557.7856 - mean_squared_error: 557.7856\n",
            "Epoch 6/90\n",
            "8991/8991 [==============================] - 20s 2ms/step - loss: 519.0425 - mean_squared_error: 519.0425\n",
            "Epoch 7/90\n",
            "8991/8991 [==============================] - 20s 2ms/step - loss: 494.7980 - mean_squared_error: 494.7980\n",
            "Epoch 8/90\n",
            "8991/8991 [==============================] - 20s 2ms/step - loss: 476.6350 - mean_squared_error: 476.6350\n",
            "Epoch 9/90\n",
            "8991/8991 [==============================] - 20s 2ms/step - loss: 464.3095 - mean_squared_error: 464.3095\n",
            "Epoch 10/90\n",
            "8991/8991 [==============================] - 20s 2ms/step - loss: 454.9589 - mean_squared_error: 454.9589\n",
            "Epoch 11/90\n",
            "8991/8991 [==============================] - 20s 2ms/step - loss: 447.0960 - mean_squared_error: 447.0960\n",
            "Epoch 12/90\n",
            "8991/8991 [==============================] - 20s 2ms/step - loss: 441.8991 - mean_squared_error: 441.8991\n",
            "Epoch 13/90\n",
            "8991/8991 [==============================] - 20s 2ms/step - loss: 435.2043 - mean_squared_error: 435.2043\n",
            "Epoch 14/90\n",
            "8991/8991 [==============================] - 19s 2ms/step - loss: 432.6632 - mean_squared_error: 432.6632\n",
            "Epoch 15/90\n",
            "8991/8991 [==============================] - 19s 2ms/step - loss: 426.9472 - mean_squared_error: 426.9472\n",
            "Epoch 16/90\n",
            "8991/8991 [==============================] - 20s 2ms/step - loss: 423.8426 - mean_squared_error: 423.8426\n",
            "Epoch 17/90\n",
            "8991/8991 [==============================] - 20s 2ms/step - loss: 420.4390 - mean_squared_error: 420.4390\n",
            "Epoch 18/90\n",
            "8991/8991 [==============================] - 20s 2ms/step - loss: 416.4138 - mean_squared_error: 416.4138\n",
            "Epoch 19/90\n",
            "8991/8991 [==============================] - 20s 2ms/step - loss: 414.2129 - mean_squared_error: 414.2129\n",
            "Epoch 20/90\n",
            "8991/8991 [==============================] - 20s 2ms/step - loss: 410.6050 - mean_squared_error: 410.6050\n",
            "Epoch 21/90\n",
            "8991/8991 [==============================] - 20s 2ms/step - loss: 407.9159 - mean_squared_error: 407.9159\n",
            "Epoch 22/90\n",
            "8991/8991 [==============================] - 20s 2ms/step - loss: 406.4365 - mean_squared_error: 406.4365\n",
            "Epoch 23/90\n",
            "8991/8991 [==============================] - 20s 2ms/step - loss: 404.6513 - mean_squared_error: 404.6513\n",
            "Epoch 24/90\n",
            "8991/8991 [==============================] - 20s 2ms/step - loss: 402.1674 - mean_squared_error: 402.1674\n",
            "Epoch 25/90\n",
            "8991/8991 [==============================] - 20s 2ms/step - loss: 399.0869 - mean_squared_error: 399.0869\n",
            "Epoch 26/90\n",
            "8991/8991 [==============================] - 20s 2ms/step - loss: 401.1608 - mean_squared_error: 401.1608\n",
            "Epoch 27/90\n",
            "8991/8991 [==============================] - 20s 2ms/step - loss: 397.3569 - mean_squared_error: 397.3569\n",
            "Epoch 28/90\n",
            "8991/8991 [==============================] - 20s 2ms/step - loss: 396.0262 - mean_squared_error: 396.0262\n",
            "Epoch 29/90\n",
            "8991/8991 [==============================] - 20s 2ms/step - loss: 393.6749 - mean_squared_error: 393.6749\n",
            "Epoch 30/90\n",
            "8991/8991 [==============================] - 20s 2ms/step - loss: 394.5272 - mean_squared_error: 394.5272\n",
            "Epoch 31/90\n",
            "8991/8991 [==============================] - 20s 2ms/step - loss: 391.6090 - mean_squared_error: 391.6090\n",
            "Epoch 32/90\n",
            "8991/8991 [==============================] - 20s 2ms/step - loss: 389.2674 - mean_squared_error: 389.2674\n",
            "Epoch 33/90\n",
            "8991/8991 [==============================] - 20s 2ms/step - loss: 389.7111 - mean_squared_error: 389.7111\n",
            "Epoch 34/90\n",
            "8991/8991 [==============================] - 20s 2ms/step - loss: 388.9509 - mean_squared_error: 388.9509\n",
            "Epoch 35/90\n",
            "8991/8991 [==============================] - 20s 2ms/step - loss: 386.7993 - mean_squared_error: 386.7993\n",
            "Epoch 36/90\n",
            "8991/8991 [==============================] - 20s 2ms/step - loss: 386.9904 - mean_squared_error: 386.9904\n",
            "Epoch 37/90\n",
            "8991/8991 [==============================] - 20s 2ms/step - loss: 384.6158 - mean_squared_error: 384.6158\n",
            "Epoch 38/90\n",
            "8991/8991 [==============================] - 19s 2ms/step - loss: 384.8578 - mean_squared_error: 384.8578\n",
            "Epoch 39/90\n",
            "8991/8991 [==============================] - 19s 2ms/step - loss: 383.3641 - mean_squared_error: 383.3641\n",
            "Epoch 40/90\n",
            "8991/8991 [==============================] - 20s 2ms/step - loss: 381.5048 - mean_squared_error: 381.5048\n",
            "Epoch 41/90\n",
            "8991/8991 [==============================] - 20s 2ms/step - loss: 381.1597 - mean_squared_error: 381.1597\n",
            "Epoch 42/90\n",
            "8991/8991 [==============================] - 20s 2ms/step - loss: 379.8042 - mean_squared_error: 379.8042\n",
            "Epoch 43/90\n",
            "8991/8991 [==============================] - 20s 2ms/step - loss: 380.0800 - mean_squared_error: 380.0800\n",
            "Epoch 44/90\n",
            "8991/8991 [==============================] - 20s 2ms/step - loss: 378.7852 - mean_squared_error: 378.7852\n",
            "Epoch 45/90\n",
            "8991/8991 [==============================] - 20s 2ms/step - loss: 377.8565 - mean_squared_error: 377.8565\n",
            "Epoch 46/90\n",
            "8991/8991 [==============================] - 20s 2ms/step - loss: 377.5445 - mean_squared_error: 377.5445\n",
            "Epoch 47/90\n",
            "8991/8991 [==============================] - 20s 2ms/step - loss: 376.7774 - mean_squared_error: 376.7774\n",
            "Epoch 48/90\n",
            "8991/8991 [==============================] - 20s 2ms/step - loss: 375.2169 - mean_squared_error: 375.2169\n",
            "Epoch 49/90\n",
            "8991/8991 [==============================] - 20s 2ms/step - loss: 375.6736 - mean_squared_error: 375.6736\n",
            "Epoch 50/90\n",
            "8991/8991 [==============================] - 20s 2ms/step - loss: 373.6972 - mean_squared_error: 373.6972\n",
            "Epoch 51/90\n",
            "8991/8991 [==============================] - 20s 2ms/step - loss: 374.0839 - mean_squared_error: 374.0839\n",
            "Epoch 52/90\n",
            "8991/8991 [==============================] - 20s 2ms/step - loss: 372.4822 - mean_squared_error: 372.4822\n",
            "Epoch 53/90\n",
            "8991/8991 [==============================] - 20s 2ms/step - loss: 371.7463 - mean_squared_error: 371.7463\n",
            "Epoch 54/90\n",
            "8991/8991 [==============================] - 20s 2ms/step - loss: 374.5531 - mean_squared_error: 374.5531\n",
            "Epoch 55/90\n",
            "8991/8991 [==============================] - 20s 2ms/step - loss: 371.5009 - mean_squared_error: 371.5009\n",
            "Epoch 56/90\n",
            "8991/8991 [==============================] - 20s 2ms/step - loss: 370.3684 - mean_squared_error: 370.3684\n",
            "Epoch 57/90\n",
            "8991/8991 [==============================] - 19s 2ms/step - loss: 369.2341 - mean_squared_error: 369.2341\n",
            "Epoch 58/90\n",
            "8991/8991 [==============================] - 20s 2ms/step - loss: 369.1125 - mean_squared_error: 369.1125\n",
            "Epoch 59/90\n",
            "8991/8991 [==============================] - 19s 2ms/step - loss: 369.7114 - mean_squared_error: 369.7114\n",
            "Epoch 60/90\n",
            "8991/8991 [==============================] - 20s 2ms/step - loss: 368.0429 - mean_squared_error: 368.0429\n",
            "Epoch 61/90\n",
            "8991/8991 [==============================] - 20s 2ms/step - loss: 366.7724 - mean_squared_error: 366.7724\n",
            "Epoch 62/90\n",
            "8991/8991 [==============================] - 20s 2ms/step - loss: 367.2578 - mean_squared_error: 367.2578\n",
            "Epoch 63/90\n",
            "8991/8991 [==============================] - 20s 2ms/step - loss: 367.5529 - mean_squared_error: 367.5529\n",
            "Epoch 64/90\n",
            "8991/8991 [==============================] - 20s 2ms/step - loss: 365.8769 - mean_squared_error: 365.8769\n",
            "Epoch 65/90\n",
            "8991/8991 [==============================] - 20s 2ms/step - loss: 366.0940 - mean_squared_error: 366.0940\n",
            "Epoch 66/90\n",
            "8991/8991 [==============================] - 20s 2ms/step - loss: 364.6888 - mean_squared_error: 364.6888\n",
            "Epoch 67/90\n",
            "8991/8991 [==============================] - 20s 2ms/step - loss: 365.7503 - mean_squared_error: 365.7503\n",
            "Epoch 68/90\n",
            "8991/8991 [==============================] - 20s 2ms/step - loss: 366.1086 - mean_squared_error: 366.1086\n",
            "Epoch 69/90\n",
            "8991/8991 [==============================] - 20s 2ms/step - loss: 365.3503 - mean_squared_error: 365.3503\n",
            "Epoch 70/90\n",
            "8991/8991 [==============================] - 20s 2ms/step - loss: 363.7658 - mean_squared_error: 363.7658\n",
            "Epoch 71/90\n",
            "8991/8991 [==============================] - 20s 2ms/step - loss: 364.7944 - mean_squared_error: 364.7944\n",
            "Epoch 72/90\n",
            "8991/8991 [==============================] - 20s 2ms/step - loss: 364.9782 - mean_squared_error: 364.9782\n",
            "Epoch 73/90\n",
            "8991/8991 [==============================] - 20s 2ms/step - loss: 363.0752 - mean_squared_error: 363.0752\n",
            "Epoch 74/90\n",
            "8991/8991 [==============================] - 20s 2ms/step - loss: 362.9708 - mean_squared_error: 362.9708\n",
            "Epoch 75/90\n",
            "8991/8991 [==============================] - 21s 2ms/step - loss: 364.4770 - mean_squared_error: 364.4770\n",
            "Epoch 76/90\n",
            "8991/8991 [==============================] - 21s 2ms/step - loss: 362.5415 - mean_squared_error: 362.5415\n",
            "Epoch 77/90\n",
            "8991/8991 [==============================] - 20s 2ms/step - loss: 360.5798 - mean_squared_error: 360.5798\n",
            "Epoch 78/90\n",
            "8991/8991 [==============================] - 21s 2ms/step - loss: 363.3238 - mean_squared_error: 363.3238\n",
            "Epoch 79/90\n",
            "8991/8991 [==============================] - 21s 2ms/step - loss: 361.1177 - mean_squared_error: 361.1177\n",
            "Epoch 80/90\n",
            "8991/8991 [==============================] - 20s 2ms/step - loss: 363.5466 - mean_squared_error: 363.5466\n",
            "Epoch 81/90\n",
            "8991/8991 [==============================] - 20s 2ms/step - loss: 361.6087 - mean_squared_error: 361.6087\n",
            "Epoch 82/90\n",
            "8991/8991 [==============================] - 20s 2ms/step - loss: 361.7201 - mean_squared_error: 361.7201\n",
            "Epoch 83/90\n",
            "8991/8991 [==============================] - 20s 2ms/step - loss: 360.4905 - mean_squared_error: 360.4905\n",
            "Epoch 84/90\n",
            "8991/8991 [==============================] - 20s 2ms/step - loss: 360.6337 - mean_squared_error: 360.6337\n",
            "Epoch 85/90\n",
            "8991/8991 [==============================] - 20s 2ms/step - loss: 360.7642 - mean_squared_error: 360.7642\n",
            "Epoch 86/90\n",
            "8991/8991 [==============================] - 20s 2ms/step - loss: 360.4987 - mean_squared_error: 360.4987\n",
            "Epoch 87/90\n",
            "8991/8991 [==============================] - 20s 2ms/step - loss: 358.6855 - mean_squared_error: 358.6855\n",
            "Epoch 88/90\n",
            "8991/8991 [==============================] - 21s 2ms/step - loss: 360.1109 - mean_squared_error: 360.1109\n",
            "Epoch 89/90\n",
            "8991/8991 [==============================] - 20s 2ms/step - loss: 362.2246 - mean_squared_error: 362.2246\n",
            "Epoch 90/90\n",
            "8991/8991 [==============================] - 21s 2ms/step - loss: 358.5858 - mean_squared_error: 358.5858\n"
          ]
        },
        {
          "output_type": "execute_result",
          "data": {
            "text/plain": [
              "<keras.callbacks.History at 0x7fdfadad8b10>"
            ]
          },
          "metadata": {},
          "execution_count": 32
        }
      ]
    },
    {
      "cell_type": "code",
      "metadata": {
        "colab": {
          "base_uri": "https://localhost:8080/"
        },
        "id": "BPAL-T78W1RE",
        "outputId": "9b7b5eaf-da4b-4c0d-b2a1-0e43386043eb"
      },
      "source": [
        "scores = model.evaluate(X_test, y_test, verbose=2)\n",
        "print(model.metrics_names[0], scores)"
      ],
      "id": "BPAL-T78W1RE",
      "execution_count": 33,
      "outputs": [
        {
          "output_type": "stream",
          "name": "stdout",
          "text": [
            "2997/2997 - 3s - loss: 512.4362 - mean_squared_error: 512.4362\n",
            "loss [512.4361572265625, 512.4361572265625]\n"
          ]
        }
      ]
    },
    {
      "cell_type": "code",
      "metadata": {
        "id": "q3_3Z_2IdIfC"
      },
      "source": [
        "model.save(\"content/final_model.h5\")"
      ],
      "id": "q3_3Z_2IdIfC",
      "execution_count": 34,
      "outputs": []
    },
    {
      "cell_type": "code",
      "metadata": {
        "id": "itlDw5dcX_pR"
      },
      "source": [
        "def create_model(hp):\n",
        "    model = tf.keras.models.Sequential()\n",
        "\n",
        "    # Allow kerastuner to decide which activation function to use in hidden layers\n",
        "    activation = hp.Choice('activation',['relu','tanh','sigmoid'])\n",
        "    \n",
        "    # Allow kerastuner to decide number of neurons in first layer\n",
        "    model.add(tf.keras.layers.Dense(units=hp.Int('first_units',\n",
        "        min_value=60,\n",
        "        max_value=90,\n",
        "        step=5), \n",
        "        activation=activation, input_dim=9))\n",
        "\n",
        "    # Allow kerastuner to decide number of hidden layers and neurons in hidden layers\n",
        "    for i in range(hp.Int('num_layers', 1, 6)):\n",
        "        model.add(tf.keras.layers.Dense(units=hp.Int('units_' + str(i),\n",
        "            min_value=60,\n",
        "            max_value=90,\n",
        "            step=5),\n",
        "            activation=activation))\n",
        "    \n",
        "    model.add(tf.keras.layers.Dense(units=1, activation=\"sigmoid\"))\n",
        "\n",
        "    # Compile the model\n",
        "    model.compile(loss=\"mean_squared_error\", optimizer='adam', metrics=[\"mean_squared_error\"])\n",
        "    \n",
        "    return model"
      ],
      "id": "itlDw5dcX_pR",
      "execution_count": 24,
      "outputs": []
    },
    {
      "cell_type": "code",
      "metadata": {
        "id": "3udMBDuBPTUH",
        "colab": {
          "base_uri": "https://localhost:8080/"
        },
        "outputId": "8458249b-6250-4a0e-ba38-d49f659f72fa"
      },
      "source": [
        "pip install keras-tuner --upgrade"
      ],
      "id": "3udMBDuBPTUH",
      "execution_count": 26,
      "outputs": [
        {
          "output_type": "stream",
          "name": "stdout",
          "text": [
            "Collecting keras-tuner\n",
            "  Downloading keras_tuner-1.0.4-py3-none-any.whl (97 kB)\n",
            "\u001b[?25l\r\u001b[K     |███▍                            | 10 kB 19.4 MB/s eta 0:00:01\r\u001b[K     |██████▊                         | 20 kB 23.8 MB/s eta 0:00:01\r\u001b[K     |██████████                      | 30 kB 14.3 MB/s eta 0:00:01\r\u001b[K     |█████████████▍                  | 40 kB 10.0 MB/s eta 0:00:01\r\u001b[K     |████████████████▊               | 51 kB 5.3 MB/s eta 0:00:01\r\u001b[K     |████████████████████            | 61 kB 5.9 MB/s eta 0:00:01\r\u001b[K     |███████████████████████▍        | 71 kB 5.7 MB/s eta 0:00:01\r\u001b[K     |██████████████████████████▊     | 81 kB 6.3 MB/s eta 0:00:01\r\u001b[K     |██████████████████████████████▏ | 92 kB 6.3 MB/s eta 0:00:01\r\u001b[K     |████████████████████████████████| 97 kB 3.5 MB/s \n",
            "\u001b[?25hRequirement already satisfied: numpy in /usr/local/lib/python3.7/dist-packages (from keras-tuner) (1.19.5)\n",
            "Requirement already satisfied: requests in /usr/local/lib/python3.7/dist-packages (from keras-tuner) (2.23.0)\n",
            "Collecting kt-legacy\n",
            "  Downloading kt_legacy-1.0.4-py3-none-any.whl (9.6 kB)\n",
            "Requirement already satisfied: tensorboard in /usr/local/lib/python3.7/dist-packages (from keras-tuner) (2.6.0)\n",
            "Requirement already satisfied: scipy in /usr/local/lib/python3.7/dist-packages (from keras-tuner) (1.4.1)\n",
            "Requirement already satisfied: packaging in /usr/local/lib/python3.7/dist-packages (from keras-tuner) (21.0)\n",
            "Requirement already satisfied: ipython in /usr/local/lib/python3.7/dist-packages (from keras-tuner) (5.5.0)\n",
            "Requirement already satisfied: traitlets>=4.2 in /usr/local/lib/python3.7/dist-packages (from ipython->keras-tuner) (5.1.0)\n",
            "Requirement already satisfied: decorator in /usr/local/lib/python3.7/dist-packages (from ipython->keras-tuner) (4.4.2)\n",
            "Requirement already satisfied: setuptools>=18.5 in /usr/local/lib/python3.7/dist-packages (from ipython->keras-tuner) (57.4.0)\n",
            "Requirement already satisfied: pickleshare in /usr/local/lib/python3.7/dist-packages (from ipython->keras-tuner) (0.7.5)\n",
            "Requirement already satisfied: pexpect in /usr/local/lib/python3.7/dist-packages (from ipython->keras-tuner) (4.8.0)\n",
            "Requirement already satisfied: pygments in /usr/local/lib/python3.7/dist-packages (from ipython->keras-tuner) (2.6.1)\n",
            "Requirement already satisfied: simplegeneric>0.8 in /usr/local/lib/python3.7/dist-packages (from ipython->keras-tuner) (0.8.1)\n",
            "Requirement already satisfied: prompt-toolkit<2.0.0,>=1.0.4 in /usr/local/lib/python3.7/dist-packages (from ipython->keras-tuner) (1.0.18)\n",
            "Requirement already satisfied: wcwidth in /usr/local/lib/python3.7/dist-packages (from prompt-toolkit<2.0.0,>=1.0.4->ipython->keras-tuner) (0.2.5)\n",
            "Requirement already satisfied: six>=1.9.0 in /usr/local/lib/python3.7/dist-packages (from prompt-toolkit<2.0.0,>=1.0.4->ipython->keras-tuner) (1.15.0)\n",
            "Requirement already satisfied: pyparsing>=2.0.2 in /usr/local/lib/python3.7/dist-packages (from packaging->keras-tuner) (2.4.7)\n",
            "Requirement already satisfied: ptyprocess>=0.5 in /usr/local/lib/python3.7/dist-packages (from pexpect->ipython->keras-tuner) (0.7.0)\n",
            "Requirement already satisfied: chardet<4,>=3.0.2 in /usr/local/lib/python3.7/dist-packages (from requests->keras-tuner) (3.0.4)\n",
            "Requirement already satisfied: certifi>=2017.4.17 in /usr/local/lib/python3.7/dist-packages (from requests->keras-tuner) (2021.5.30)\n",
            "Requirement already satisfied: urllib3!=1.25.0,!=1.25.1,<1.26,>=1.21.1 in /usr/local/lib/python3.7/dist-packages (from requests->keras-tuner) (1.24.3)\n",
            "Requirement already satisfied: idna<3,>=2.5 in /usr/local/lib/python3.7/dist-packages (from requests->keras-tuner) (2.10)\n",
            "Requirement already satisfied: tensorboard-plugin-wit>=1.6.0 in /usr/local/lib/python3.7/dist-packages (from tensorboard->keras-tuner) (1.8.0)\n",
            "Requirement already satisfied: grpcio>=1.24.3 in /usr/local/lib/python3.7/dist-packages (from tensorboard->keras-tuner) (1.41.0)\n",
            "Requirement already satisfied: protobuf>=3.6.0 in /usr/local/lib/python3.7/dist-packages (from tensorboard->keras-tuner) (3.17.3)\n",
            "Requirement already satisfied: werkzeug>=0.11.15 in /usr/local/lib/python3.7/dist-packages (from tensorboard->keras-tuner) (1.0.1)\n",
            "Requirement already satisfied: tensorboard-data-server<0.7.0,>=0.6.0 in /usr/local/lib/python3.7/dist-packages (from tensorboard->keras-tuner) (0.6.1)\n",
            "Requirement already satisfied: google-auth-oauthlib<0.5,>=0.4.1 in /usr/local/lib/python3.7/dist-packages (from tensorboard->keras-tuner) (0.4.6)\n",
            "Requirement already satisfied: wheel>=0.26 in /usr/local/lib/python3.7/dist-packages (from tensorboard->keras-tuner) (0.37.0)\n",
            "Requirement already satisfied: google-auth<2,>=1.6.3 in /usr/local/lib/python3.7/dist-packages (from tensorboard->keras-tuner) (1.35.0)\n",
            "Requirement already satisfied: absl-py>=0.4 in /usr/local/lib/python3.7/dist-packages (from tensorboard->keras-tuner) (0.12.0)\n",
            "Requirement already satisfied: markdown>=2.6.8 in /usr/local/lib/python3.7/dist-packages (from tensorboard->keras-tuner) (3.3.4)\n",
            "Requirement already satisfied: cachetools<5.0,>=2.0.0 in /usr/local/lib/python3.7/dist-packages (from google-auth<2,>=1.6.3->tensorboard->keras-tuner) (4.2.4)\n",
            "Requirement already satisfied: pyasn1-modules>=0.2.1 in /usr/local/lib/python3.7/dist-packages (from google-auth<2,>=1.6.3->tensorboard->keras-tuner) (0.2.8)\n",
            "Requirement already satisfied: rsa<5,>=3.1.4 in /usr/local/lib/python3.7/dist-packages (from google-auth<2,>=1.6.3->tensorboard->keras-tuner) (4.7.2)\n",
            "Requirement already satisfied: requests-oauthlib>=0.7.0 in /usr/local/lib/python3.7/dist-packages (from google-auth-oauthlib<0.5,>=0.4.1->tensorboard->keras-tuner) (1.3.0)\n",
            "Requirement already satisfied: importlib-metadata in /usr/local/lib/python3.7/dist-packages (from markdown>=2.6.8->tensorboard->keras-tuner) (4.8.1)\n",
            "Requirement already satisfied: pyasn1<0.5.0,>=0.4.6 in /usr/local/lib/python3.7/dist-packages (from pyasn1-modules>=0.2.1->google-auth<2,>=1.6.3->tensorboard->keras-tuner) (0.4.8)\n",
            "Requirement already satisfied: oauthlib>=3.0.0 in /usr/local/lib/python3.7/dist-packages (from requests-oauthlib>=0.7.0->google-auth-oauthlib<0.5,>=0.4.1->tensorboard->keras-tuner) (3.1.1)\n",
            "Requirement already satisfied: typing-extensions>=3.6.4 in /usr/local/lib/python3.7/dist-packages (from importlib-metadata->markdown>=2.6.8->tensorboard->keras-tuner) (3.7.4.3)\n",
            "Requirement already satisfied: zipp>=0.5 in /usr/local/lib/python3.7/dist-packages (from importlib-metadata->markdown>=2.6.8->tensorboard->keras-tuner) (3.6.0)\n",
            "Installing collected packages: kt-legacy, keras-tuner\n",
            "Successfully installed keras-tuner-1.0.4 kt-legacy-1.0.4\n"
          ]
        }
      ]
    },
    {
      "cell_type": "code",
      "metadata": {
        "id": "ChsPfSfrYDQX"
      },
      "source": [
        "import keras_tuner as kt\n",
        "\n",
        "tuner = kt.Hyperband(\n",
        "    create_model,\n",
        "    objective=\"mean_squared_error\",\n",
        "    max_epochs=20,\n",
        "    hyperband_iterations=2)"
      ],
      "id": "ChsPfSfrYDQX",
      "execution_count": 27,
      "outputs": []
    },
    {
      "cell_type": "code",
      "metadata": {
        "id": "xiItfAZKYhzu",
        "colab": {
          "base_uri": "https://localhost:8080/",
          "height": 629
        },
        "outputId": "2d923398-b452-4d94-99f8-ebff36545da9"
      },
      "source": [
        "tuner.search(X_train,y_train,epochs=20)#,validation_data=(X_test,y_test))"
      ],
      "id": "xiItfAZKYhzu",
      "execution_count": 29,
      "outputs": [
        {
          "output_type": "stream",
          "name": "stdout",
          "text": [
            "\n",
            "Search: Running Trial #4\n",
            "\n",
            "Hyperparameter    |Value             |Best Value So Far \n",
            "activation        |sigmoid           |relu              \n",
            "first_units       |80                |85                \n",
            "num_layers        |5                 |3                 \n",
            "units_0           |60                |80                \n",
            "units_1           |65                |65                \n",
            "units_2           |90                |80                \n",
            "tuner/epochs      |3                 |3                 \n",
            "tuner/initial_e...|0                 |0                 \n",
            "tuner/bracket     |2                 |2                 \n",
            "tuner/round       |0                 |0                 \n",
            "units_3           |60                |None              \n",
            "units_4           |60                |None              \n",
            "\n",
            "Epoch 1/3\n",
            "6879/8991 [=====================>........] - ETA: 5s - loss: 12621.8594 - mean_squared_error: 12621.8594"
          ]
        },
        {
          "output_type": "error",
          "ename": "KeyboardInterrupt",
          "evalue": "ignored",
          "traceback": [
            "\u001b[0;31m---------------------------------------------------------------------------\u001b[0m",
            "\u001b[0;31mKeyboardInterrupt\u001b[0m                         Traceback (most recent call last)",
            "\u001b[0;32m<ipython-input-29-0a00c0493e65>\u001b[0m in \u001b[0;36m<module>\u001b[0;34m()\u001b[0m\n\u001b[0;32m----> 1\u001b[0;31m \u001b[0mtuner\u001b[0m\u001b[0;34m.\u001b[0m\u001b[0msearch\u001b[0m\u001b[0;34m(\u001b[0m\u001b[0mX_train\u001b[0m\u001b[0;34m,\u001b[0m\u001b[0my_train\u001b[0m\u001b[0;34m,\u001b[0m\u001b[0mepochs\u001b[0m\u001b[0;34m=\u001b[0m\u001b[0;36m20\u001b[0m\u001b[0;34m)\u001b[0m\u001b[0;31m#,validation_data=(X_test,y_test))\u001b[0m\u001b[0;34m\u001b[0m\u001b[0;34m\u001b[0m\u001b[0m\n\u001b[0m",
            "\u001b[0;32m/usr/local/lib/python3.7/dist-packages/keras_tuner/engine/base_tuner.py\u001b[0m in \u001b[0;36msearch\u001b[0;34m(self, *fit_args, **fit_kwargs)\u001b[0m\n\u001b[1;32m    174\u001b[0m \u001b[0;34m\u001b[0m\u001b[0m\n\u001b[1;32m    175\u001b[0m             \u001b[0mself\u001b[0m\u001b[0;34m.\u001b[0m\u001b[0mon_trial_begin\u001b[0m\u001b[0;34m(\u001b[0m\u001b[0mtrial\u001b[0m\u001b[0;34m)\u001b[0m\u001b[0;34m\u001b[0m\u001b[0;34m\u001b[0m\u001b[0m\n\u001b[0;32m--> 176\u001b[0;31m             \u001b[0mself\u001b[0m\u001b[0;34m.\u001b[0m\u001b[0mrun_trial\u001b[0m\u001b[0;34m(\u001b[0m\u001b[0mtrial\u001b[0m\u001b[0;34m,\u001b[0m \u001b[0;34m*\u001b[0m\u001b[0mfit_args\u001b[0m\u001b[0;34m,\u001b[0m \u001b[0;34m**\u001b[0m\u001b[0mfit_kwargs\u001b[0m\u001b[0;34m)\u001b[0m\u001b[0;34m\u001b[0m\u001b[0;34m\u001b[0m\u001b[0m\n\u001b[0m\u001b[1;32m    177\u001b[0m             \u001b[0mself\u001b[0m\u001b[0;34m.\u001b[0m\u001b[0mon_trial_end\u001b[0m\u001b[0;34m(\u001b[0m\u001b[0mtrial\u001b[0m\u001b[0;34m)\u001b[0m\u001b[0;34m\u001b[0m\u001b[0;34m\u001b[0m\u001b[0m\n\u001b[1;32m    178\u001b[0m         \u001b[0mself\u001b[0m\u001b[0;34m.\u001b[0m\u001b[0mon_search_end\u001b[0m\u001b[0;34m(\u001b[0m\u001b[0;34m)\u001b[0m\u001b[0;34m\u001b[0m\u001b[0;34m\u001b[0m\u001b[0m\n",
            "\u001b[0;32m/usr/local/lib/python3.7/dist-packages/keras_tuner/tuners/hyperband.py\u001b[0m in \u001b[0;36mrun_trial\u001b[0;34m(self, trial, *fit_args, **fit_kwargs)\u001b[0m\n\u001b[1;32m    368\u001b[0m             \u001b[0mfit_kwargs\u001b[0m\u001b[0;34m[\u001b[0m\u001b[0;34m\"epochs\"\u001b[0m\u001b[0;34m]\u001b[0m \u001b[0;34m=\u001b[0m \u001b[0mhp\u001b[0m\u001b[0;34m.\u001b[0m\u001b[0mvalues\u001b[0m\u001b[0;34m[\u001b[0m\u001b[0;34m\"tuner/epochs\"\u001b[0m\u001b[0;34m]\u001b[0m\u001b[0;34m\u001b[0m\u001b[0;34m\u001b[0m\u001b[0m\n\u001b[1;32m    369\u001b[0m             \u001b[0mfit_kwargs\u001b[0m\u001b[0;34m[\u001b[0m\u001b[0;34m\"initial_epoch\"\u001b[0m\u001b[0;34m]\u001b[0m \u001b[0;34m=\u001b[0m \u001b[0mhp\u001b[0m\u001b[0;34m.\u001b[0m\u001b[0mvalues\u001b[0m\u001b[0;34m[\u001b[0m\u001b[0;34m\"tuner/initial_epoch\"\u001b[0m\u001b[0;34m]\u001b[0m\u001b[0;34m\u001b[0m\u001b[0;34m\u001b[0m\u001b[0m\n\u001b[0;32m--> 370\u001b[0;31m         \u001b[0msuper\u001b[0m\u001b[0;34m(\u001b[0m\u001b[0mHyperband\u001b[0m\u001b[0;34m,\u001b[0m \u001b[0mself\u001b[0m\u001b[0;34m)\u001b[0m\u001b[0;34m.\u001b[0m\u001b[0mrun_trial\u001b[0m\u001b[0;34m(\u001b[0m\u001b[0mtrial\u001b[0m\u001b[0;34m,\u001b[0m \u001b[0;34m*\u001b[0m\u001b[0mfit_args\u001b[0m\u001b[0;34m,\u001b[0m \u001b[0;34m**\u001b[0m\u001b[0mfit_kwargs\u001b[0m\u001b[0;34m)\u001b[0m\u001b[0;34m\u001b[0m\u001b[0;34m\u001b[0m\u001b[0m\n\u001b[0m\u001b[1;32m    371\u001b[0m \u001b[0;34m\u001b[0m\u001b[0m\n\u001b[1;32m    372\u001b[0m     \u001b[0;32mdef\u001b[0m \u001b[0m_build_model\u001b[0m\u001b[0;34m(\u001b[0m\u001b[0mself\u001b[0m\u001b[0;34m,\u001b[0m \u001b[0mhp\u001b[0m\u001b[0;34m)\u001b[0m\u001b[0;34m:\u001b[0m\u001b[0;34m\u001b[0m\u001b[0;34m\u001b[0m\u001b[0m\n",
            "\u001b[0;32m/usr/local/lib/python3.7/dist-packages/keras_tuner/engine/multi_execution_tuner.py\u001b[0m in \u001b[0;36mrun_trial\u001b[0;34m(self, trial, *fit_args, **fit_kwargs)\u001b[0m\n\u001b[1;32m     88\u001b[0m             \u001b[0mcopied_fit_kwargs\u001b[0m\u001b[0;34m[\u001b[0m\u001b[0;34m\"callbacks\"\u001b[0m\u001b[0;34m]\u001b[0m \u001b[0;34m=\u001b[0m \u001b[0mcallbacks\u001b[0m\u001b[0;34m\u001b[0m\u001b[0;34m\u001b[0m\u001b[0m\n\u001b[1;32m     89\u001b[0m \u001b[0;34m\u001b[0m\u001b[0m\n\u001b[0;32m---> 90\u001b[0;31m             \u001b[0mhistory\u001b[0m \u001b[0;34m=\u001b[0m \u001b[0mself\u001b[0m\u001b[0;34m.\u001b[0m\u001b[0m_build_and_fit_model\u001b[0m\u001b[0;34m(\u001b[0m\u001b[0mtrial\u001b[0m\u001b[0;34m,\u001b[0m \u001b[0mfit_args\u001b[0m\u001b[0;34m,\u001b[0m \u001b[0mcopied_fit_kwargs\u001b[0m\u001b[0;34m)\u001b[0m\u001b[0;34m\u001b[0m\u001b[0;34m\u001b[0m\u001b[0m\n\u001b[0m\u001b[1;32m     91\u001b[0m             \u001b[0;32mfor\u001b[0m \u001b[0mmetric\u001b[0m\u001b[0;34m,\u001b[0m \u001b[0mepoch_values\u001b[0m \u001b[0;32min\u001b[0m \u001b[0mhistory\u001b[0m\u001b[0;34m.\u001b[0m\u001b[0mhistory\u001b[0m\u001b[0;34m.\u001b[0m\u001b[0mitems\u001b[0m\u001b[0;34m(\u001b[0m\u001b[0;34m)\u001b[0m\u001b[0;34m:\u001b[0m\u001b[0;34m\u001b[0m\u001b[0;34m\u001b[0m\u001b[0m\n\u001b[1;32m     92\u001b[0m                 \u001b[0;32mif\u001b[0m \u001b[0mself\u001b[0m\u001b[0;34m.\u001b[0m\u001b[0moracle\u001b[0m\u001b[0;34m.\u001b[0m\u001b[0mobjective\u001b[0m\u001b[0;34m.\u001b[0m\u001b[0mdirection\u001b[0m \u001b[0;34m==\u001b[0m \u001b[0;34m\"min\"\u001b[0m\u001b[0;34m:\u001b[0m\u001b[0;34m\u001b[0m\u001b[0;34m\u001b[0m\u001b[0m\n",
            "\u001b[0;32m/usr/local/lib/python3.7/dist-packages/keras_tuner/engine/tuner.py\u001b[0m in \u001b[0;36m_build_and_fit_model\u001b[0;34m(self, trial, fit_args, fit_kwargs)\u001b[0m\n\u001b[1;32m    147\u001b[0m         \"\"\"\n\u001b[1;32m    148\u001b[0m         \u001b[0mmodel\u001b[0m \u001b[0;34m=\u001b[0m \u001b[0mself\u001b[0m\u001b[0;34m.\u001b[0m\u001b[0mhypermodel\u001b[0m\u001b[0;34m.\u001b[0m\u001b[0mbuild\u001b[0m\u001b[0;34m(\u001b[0m\u001b[0mtrial\u001b[0m\u001b[0;34m.\u001b[0m\u001b[0mhyperparameters\u001b[0m\u001b[0;34m)\u001b[0m\u001b[0;34m\u001b[0m\u001b[0;34m\u001b[0m\u001b[0m\n\u001b[0;32m--> 149\u001b[0;31m         \u001b[0;32mreturn\u001b[0m \u001b[0mmodel\u001b[0m\u001b[0;34m.\u001b[0m\u001b[0mfit\u001b[0m\u001b[0;34m(\u001b[0m\u001b[0;34m*\u001b[0m\u001b[0mfit_args\u001b[0m\u001b[0;34m,\u001b[0m \u001b[0;34m**\u001b[0m\u001b[0mfit_kwargs\u001b[0m\u001b[0;34m)\u001b[0m\u001b[0;34m\u001b[0m\u001b[0;34m\u001b[0m\u001b[0m\n\u001b[0m\u001b[1;32m    150\u001b[0m \u001b[0;34m\u001b[0m\u001b[0m\n\u001b[1;32m    151\u001b[0m     \u001b[0;32mdef\u001b[0m \u001b[0mrun_trial\u001b[0m\u001b[0;34m(\u001b[0m\u001b[0mself\u001b[0m\u001b[0;34m,\u001b[0m \u001b[0mtrial\u001b[0m\u001b[0;34m,\u001b[0m \u001b[0;34m*\u001b[0m\u001b[0mfit_args\u001b[0m\u001b[0;34m,\u001b[0m \u001b[0;34m**\u001b[0m\u001b[0mfit_kwargs\u001b[0m\u001b[0;34m)\u001b[0m\u001b[0;34m:\u001b[0m\u001b[0;34m\u001b[0m\u001b[0;34m\u001b[0m\u001b[0m\n",
            "\u001b[0;32m/usr/local/lib/python3.7/dist-packages/keras/engine/training.py\u001b[0m in \u001b[0;36mfit\u001b[0;34m(self, x, y, batch_size, epochs, verbose, callbacks, validation_split, validation_data, shuffle, class_weight, sample_weight, initial_epoch, steps_per_epoch, validation_steps, validation_batch_size, validation_freq, max_queue_size, workers, use_multiprocessing)\u001b[0m\n\u001b[1;32m   1182\u001b[0m                 _r=1):\n\u001b[1;32m   1183\u001b[0m               \u001b[0mcallbacks\u001b[0m\u001b[0;34m.\u001b[0m\u001b[0mon_train_batch_begin\u001b[0m\u001b[0;34m(\u001b[0m\u001b[0mstep\u001b[0m\u001b[0;34m)\u001b[0m\u001b[0;34m\u001b[0m\u001b[0;34m\u001b[0m\u001b[0m\n\u001b[0;32m-> 1184\u001b[0;31m               \u001b[0mtmp_logs\u001b[0m \u001b[0;34m=\u001b[0m \u001b[0mself\u001b[0m\u001b[0;34m.\u001b[0m\u001b[0mtrain_function\u001b[0m\u001b[0;34m(\u001b[0m\u001b[0miterator\u001b[0m\u001b[0;34m)\u001b[0m\u001b[0;34m\u001b[0m\u001b[0;34m\u001b[0m\u001b[0m\n\u001b[0m\u001b[1;32m   1185\u001b[0m               \u001b[0;32mif\u001b[0m \u001b[0mdata_handler\u001b[0m\u001b[0;34m.\u001b[0m\u001b[0mshould_sync\u001b[0m\u001b[0;34m:\u001b[0m\u001b[0;34m\u001b[0m\u001b[0;34m\u001b[0m\u001b[0m\n\u001b[1;32m   1186\u001b[0m                 \u001b[0mcontext\u001b[0m\u001b[0;34m.\u001b[0m\u001b[0masync_wait\u001b[0m\u001b[0;34m(\u001b[0m\u001b[0;34m)\u001b[0m\u001b[0;34m\u001b[0m\u001b[0;34m\u001b[0m\u001b[0m\n",
            "\u001b[0;32m/usr/local/lib/python3.7/dist-packages/tensorflow/python/eager/def_function.py\u001b[0m in \u001b[0;36m__call__\u001b[0;34m(self, *args, **kwds)\u001b[0m\n\u001b[1;32m    883\u001b[0m \u001b[0;34m\u001b[0m\u001b[0m\n\u001b[1;32m    884\u001b[0m       \u001b[0;32mwith\u001b[0m \u001b[0mOptionalXlaContext\u001b[0m\u001b[0;34m(\u001b[0m\u001b[0mself\u001b[0m\u001b[0;34m.\u001b[0m\u001b[0m_jit_compile\u001b[0m\u001b[0;34m)\u001b[0m\u001b[0;34m:\u001b[0m\u001b[0;34m\u001b[0m\u001b[0;34m\u001b[0m\u001b[0m\n\u001b[0;32m--> 885\u001b[0;31m         \u001b[0mresult\u001b[0m \u001b[0;34m=\u001b[0m \u001b[0mself\u001b[0m\u001b[0;34m.\u001b[0m\u001b[0m_call\u001b[0m\u001b[0;34m(\u001b[0m\u001b[0;34m*\u001b[0m\u001b[0margs\u001b[0m\u001b[0;34m,\u001b[0m \u001b[0;34m**\u001b[0m\u001b[0mkwds\u001b[0m\u001b[0;34m)\u001b[0m\u001b[0;34m\u001b[0m\u001b[0;34m\u001b[0m\u001b[0m\n\u001b[0m\u001b[1;32m    886\u001b[0m \u001b[0;34m\u001b[0m\u001b[0m\n\u001b[1;32m    887\u001b[0m       \u001b[0mnew_tracing_count\u001b[0m \u001b[0;34m=\u001b[0m \u001b[0mself\u001b[0m\u001b[0;34m.\u001b[0m\u001b[0mexperimental_get_tracing_count\u001b[0m\u001b[0;34m(\u001b[0m\u001b[0;34m)\u001b[0m\u001b[0;34m\u001b[0m\u001b[0;34m\u001b[0m\u001b[0m\n",
            "\u001b[0;32m/usr/local/lib/python3.7/dist-packages/tensorflow/python/eager/def_function.py\u001b[0m in \u001b[0;36m_call\u001b[0;34m(self, *args, **kwds)\u001b[0m\n\u001b[1;32m    915\u001b[0m       \u001b[0;31m# In this case we have created variables on the first call, so we run the\u001b[0m\u001b[0;34m\u001b[0m\u001b[0;34m\u001b[0m\u001b[0;34m\u001b[0m\u001b[0m\n\u001b[1;32m    916\u001b[0m       \u001b[0;31m# defunned version which is guaranteed to never create variables.\u001b[0m\u001b[0;34m\u001b[0m\u001b[0;34m\u001b[0m\u001b[0;34m\u001b[0m\u001b[0m\n\u001b[0;32m--> 917\u001b[0;31m       \u001b[0;32mreturn\u001b[0m \u001b[0mself\u001b[0m\u001b[0;34m.\u001b[0m\u001b[0m_stateless_fn\u001b[0m\u001b[0;34m(\u001b[0m\u001b[0;34m*\u001b[0m\u001b[0margs\u001b[0m\u001b[0;34m,\u001b[0m \u001b[0;34m**\u001b[0m\u001b[0mkwds\u001b[0m\u001b[0;34m)\u001b[0m  \u001b[0;31m# pylint: disable=not-callable\u001b[0m\u001b[0;34m\u001b[0m\u001b[0;34m\u001b[0m\u001b[0m\n\u001b[0m\u001b[1;32m    918\u001b[0m     \u001b[0;32melif\u001b[0m \u001b[0mself\u001b[0m\u001b[0;34m.\u001b[0m\u001b[0m_stateful_fn\u001b[0m \u001b[0;32mis\u001b[0m \u001b[0;32mnot\u001b[0m \u001b[0;32mNone\u001b[0m\u001b[0;34m:\u001b[0m\u001b[0;34m\u001b[0m\u001b[0;34m\u001b[0m\u001b[0m\n\u001b[1;32m    919\u001b[0m       \u001b[0;31m# Release the lock early so that multiple threads can perform the call\u001b[0m\u001b[0;34m\u001b[0m\u001b[0;34m\u001b[0m\u001b[0;34m\u001b[0m\u001b[0m\n",
            "\u001b[0;32m/usr/local/lib/python3.7/dist-packages/tensorflow/python/eager/function.py\u001b[0m in \u001b[0;36m__call__\u001b[0;34m(self, *args, **kwargs)\u001b[0m\n\u001b[1;32m   3038\u001b[0m        filtered_flat_args) = self._maybe_define_function(args, kwargs)\n\u001b[1;32m   3039\u001b[0m     return graph_function._call_flat(\n\u001b[0;32m-> 3040\u001b[0;31m         filtered_flat_args, captured_inputs=graph_function.captured_inputs)  # pylint: disable=protected-access\n\u001b[0m\u001b[1;32m   3041\u001b[0m \u001b[0;34m\u001b[0m\u001b[0m\n\u001b[1;32m   3042\u001b[0m   \u001b[0;34m@\u001b[0m\u001b[0mproperty\u001b[0m\u001b[0;34m\u001b[0m\u001b[0;34m\u001b[0m\u001b[0m\n",
            "\u001b[0;32m/usr/local/lib/python3.7/dist-packages/tensorflow/python/eager/function.py\u001b[0m in \u001b[0;36m_call_flat\u001b[0;34m(self, args, captured_inputs, cancellation_manager)\u001b[0m\n\u001b[1;32m   1962\u001b[0m       \u001b[0;31m# No tape is watching; skip to running the function.\u001b[0m\u001b[0;34m\u001b[0m\u001b[0;34m\u001b[0m\u001b[0;34m\u001b[0m\u001b[0m\n\u001b[1;32m   1963\u001b[0m       return self._build_call_outputs(self._inference_function.call(\n\u001b[0;32m-> 1964\u001b[0;31m           ctx, args, cancellation_manager=cancellation_manager))\n\u001b[0m\u001b[1;32m   1965\u001b[0m     forward_backward = self._select_forward_and_backward_functions(\n\u001b[1;32m   1966\u001b[0m         \u001b[0margs\u001b[0m\u001b[0;34m,\u001b[0m\u001b[0;34m\u001b[0m\u001b[0;34m\u001b[0m\u001b[0m\n",
            "\u001b[0;32m/usr/local/lib/python3.7/dist-packages/tensorflow/python/eager/function.py\u001b[0m in \u001b[0;36mcall\u001b[0;34m(self, ctx, args, cancellation_manager)\u001b[0m\n\u001b[1;32m    594\u001b[0m               \u001b[0minputs\u001b[0m\u001b[0;34m=\u001b[0m\u001b[0margs\u001b[0m\u001b[0;34m,\u001b[0m\u001b[0;34m\u001b[0m\u001b[0;34m\u001b[0m\u001b[0m\n\u001b[1;32m    595\u001b[0m               \u001b[0mattrs\u001b[0m\u001b[0;34m=\u001b[0m\u001b[0mattrs\u001b[0m\u001b[0;34m,\u001b[0m\u001b[0;34m\u001b[0m\u001b[0;34m\u001b[0m\u001b[0m\n\u001b[0;32m--> 596\u001b[0;31m               ctx=ctx)\n\u001b[0m\u001b[1;32m    597\u001b[0m         \u001b[0;32melse\u001b[0m\u001b[0;34m:\u001b[0m\u001b[0;34m\u001b[0m\u001b[0;34m\u001b[0m\u001b[0m\n\u001b[1;32m    598\u001b[0m           outputs = execute.execute_with_cancellation(\n",
            "\u001b[0;32m/usr/local/lib/python3.7/dist-packages/tensorflow/python/eager/execute.py\u001b[0m in \u001b[0;36mquick_execute\u001b[0;34m(op_name, num_outputs, inputs, attrs, ctx, name)\u001b[0m\n\u001b[1;32m     58\u001b[0m     \u001b[0mctx\u001b[0m\u001b[0;34m.\u001b[0m\u001b[0mensure_initialized\u001b[0m\u001b[0;34m(\u001b[0m\u001b[0;34m)\u001b[0m\u001b[0;34m\u001b[0m\u001b[0;34m\u001b[0m\u001b[0m\n\u001b[1;32m     59\u001b[0m     tensors = pywrap_tfe.TFE_Py_Execute(ctx._handle, device_name, op_name,\n\u001b[0;32m---> 60\u001b[0;31m                                         inputs, attrs, num_outputs)\n\u001b[0m\u001b[1;32m     61\u001b[0m   \u001b[0;32mexcept\u001b[0m \u001b[0mcore\u001b[0m\u001b[0;34m.\u001b[0m\u001b[0m_NotOkStatusException\u001b[0m \u001b[0;32mas\u001b[0m \u001b[0me\u001b[0m\u001b[0;34m:\u001b[0m\u001b[0;34m\u001b[0m\u001b[0;34m\u001b[0m\u001b[0m\n\u001b[1;32m     62\u001b[0m     \u001b[0;32mif\u001b[0m \u001b[0mname\u001b[0m \u001b[0;32mis\u001b[0m \u001b[0;32mnot\u001b[0m \u001b[0;32mNone\u001b[0m\u001b[0;34m:\u001b[0m\u001b[0;34m\u001b[0m\u001b[0;34m\u001b[0m\u001b[0m\n",
            "\u001b[0;31mKeyboardInterrupt\u001b[0m: "
          ]
        }
      ]
    },
    {
      "cell_type": "code",
      "metadata": {
        "colab": {
          "base_uri": "https://localhost:8080/"
        },
        "id": "TSke0bAsQwGa",
        "outputId": "27249788-e32e-402a-f2a0-c6475cc8685d"
      },
      "source": [
        "best_hyper = tuner.get_best_hyperparameters(1)[0]\n",
        "best_hyper.values"
      ],
      "id": "TSke0bAsQwGa",
      "execution_count": null,
      "outputs": [
        {
          "output_type": "execute_result",
          "data": {
            "text/plain": [
              "{'activation': 'sigmoid',\n",
              " 'first_units': 3,\n",
              " 'num_layers': 3,\n",
              " 'tuner/bracket': 0,\n",
              " 'tuner/epochs': 20,\n",
              " 'tuner/initial_epoch': 0,\n",
              " 'tuner/round': 0,\n",
              " 'units_0': 5,\n",
              " 'units_1': 7,\n",
              " 'units_2': 5,\n",
              " 'units_3': 5,\n",
              " 'units_4': 3,\n",
              " 'units_5': 7}"
            ]
          },
          "metadata": {},
          "execution_count": 63
        }
      ]
    },
    {
      "cell_type": "code",
      "metadata": {
        "colab": {
          "base_uri": "https://localhost:8080/"
        },
        "id": "4GR83RqZQv-5",
        "outputId": "c92cbbab-67aa-47a9-b922-cbcedb9d4176"
      },
      "source": [
        "best_model = tuner.get_best_models(1)[0]\n",
        "model_loss, model_accuracy = best_model.evaluate(X_test,y_test,verbose=2)\n",
        "print(f\"Loss: {model_loss}, Accuracy: {model_accuracy}\")"
      ],
      "id": "4GR83RqZQv-5",
      "execution_count": null,
      "outputs": [
        {
          "output_type": "stream",
          "name": "stdout",
          "text": [
            "2997/2997 - 3s - loss: 12568.2422 - mean_squared_error: 12568.2422\n",
            "Loss: 12568.2421875, Accuracy: 12568.2421875\n"
          ]
        }
      ]
    },
    {
      "cell_type": "code",
      "metadata": {
        "id": "BoM2eGHiQv1q"
      },
      "source": [
        ""
      ],
      "id": "BoM2eGHiQv1q",
      "execution_count": null,
      "outputs": []
    }
  ]
}