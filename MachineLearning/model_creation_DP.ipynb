{
  "nbformat": 4,
  "nbformat_minor": 5,
  "metadata": {
    "kernelspec": {
      "display_name": "Python 3 (ipykernel)",
      "language": "python",
      "name": "python3"
    },
    "language_info": {
      "codemirror_mode": {
        "name": "ipython",
        "version": 3
      },
      "file_extension": ".py",
      "mimetype": "text/x-python",
      "name": "python",
      "nbconvert_exporter": "python",
      "pygments_lexer": "ipython3",
      "version": "3.8.5"
    },
    "colab": {
      "name": "model_creation.ipynb",
      "provenance": [],
      "collapsed_sections": []
    }
  },
  "cells": [
    {
      "cell_type": "code",
      "metadata": {
        "id": "kOnM1FWsZVn7"
      },
      "source": [
        "#Create a timeseries model that can predict concentrations of Pm2.5 in the atmosphere"
      ],
      "id": "kOnM1FWsZVn7",
      "execution_count": null,
      "outputs": []
    },
    {
      "cell_type": "code",
      "metadata": {
        "id": "0bd5e243-3a15-4f60-ab7c-62d596ba9d05"
      },
      "source": [
        "## imports\n",
        "import os\n",
        "import pandas as pd\n",
        "from datetime import datetime\n",
        "import numpy as np\n",
        "from sklearn.model_selection import train_test_split\n",
        "from sklearn.preprocessing import StandardScaler\n",
        "import tensorflow as tf\n",
        "import sklearn as skl\n",
        "from keras.models import Sequential\n",
        "from keras.layers import Dense\n",
        "from keras.layers import LSTM"
      ],
      "id": "0bd5e243-3a15-4f60-ab7c-62d596ba9d05",
      "execution_count": 35,
      "outputs": []
    },
    {
      "cell_type": "code",
      "metadata": {
        "id": "ELt_jIKPXqsk"
      },
      "source": [
        "\n"
      ],
      "id": "ELt_jIKPXqsk",
      "execution_count": null,
      "outputs": []
    },
    {
      "cell_type": "code",
      "metadata": {
        "id": "23795472-9016-43e7-98fa-6cae91aaacc2"
      },
      "source": [
        "#path = os.path.join(os.getcwd(), 'Resources', 'all_city_data.csv')"
      ],
      "id": "23795472-9016-43e7-98fa-6cae91aaacc2",
      "execution_count": null,
      "outputs": []
    },
    {
      "cell_type": "code",
      "metadata": {
        "id": "3427833c-de71-4d7b-95bb-a14e2fc4ab78"
      },
      "source": [
        "df = pd.read_csv('all_city_data.csv').drop(columns = ['Unnamed: 0'])"
      ],
      "id": "3427833c-de71-4d7b-95bb-a14e2fc4ab78",
      "execution_count": 36,
      "outputs": []
    },
    {
      "cell_type": "code",
      "metadata": {
        "colab": {
          "base_uri": "https://localhost:8080/",
          "height": 204
        },
        "id": "7210b72d-1b43-4a01-9ff8-920151ab6f2e",
        "outputId": "e1122c58-ff3d-4414-a236-ec7e35534a90"
      },
      "source": [
        "df.head()"
      ],
      "id": "7210b72d-1b43-4a01-9ff8-920151ab6f2e",
      "execution_count": null,
      "outputs": [
        {
          "output_type": "execute_result",
          "data": {
            "text/html": [
              "<div>\n",
              "<style scoped>\n",
              "    .dataframe tbody tr th:only-of-type {\n",
              "        vertical-align: middle;\n",
              "    }\n",
              "\n",
              "    .dataframe tbody tr th {\n",
              "        vertical-align: top;\n",
              "    }\n",
              "\n",
              "    .dataframe thead th {\n",
              "        text-align: right;\n",
              "    }\n",
              "</style>\n",
              "<table border=\"1\" class=\"dataframe\">\n",
              "  <thead>\n",
              "    <tr style=\"text-align: right;\">\n",
              "      <th></th>\n",
              "      <th>PM2.5</th>\n",
              "      <th>PM10</th>\n",
              "      <th>SO2</th>\n",
              "      <th>NO2</th>\n",
              "      <th>CO</th>\n",
              "      <th>O3</th>\n",
              "      <th>TEMP</th>\n",
              "      <th>PRES</th>\n",
              "      <th>DEWP</th>\n",
              "      <th>RAIN</th>\n",
              "      <th>dt</th>\n",
              "    </tr>\n",
              "  </thead>\n",
              "  <tbody>\n",
              "    <tr>\n",
              "      <th>0</th>\n",
              "      <td>4.0</td>\n",
              "      <td>4.0</td>\n",
              "      <td>4.0</td>\n",
              "      <td>7.0</td>\n",
              "      <td>300.0</td>\n",
              "      <td>77.0</td>\n",
              "      <td>-0.7</td>\n",
              "      <td>1023.0</td>\n",
              "      <td>-18.8</td>\n",
              "      <td>0.0</td>\n",
              "      <td>2013-01-03 00:00:00</td>\n",
              "    </tr>\n",
              "    <tr>\n",
              "      <th>1</th>\n",
              "      <td>9.0</td>\n",
              "      <td>9.0</td>\n",
              "      <td>3.0</td>\n",
              "      <td>17.0</td>\n",
              "      <td>300.0</td>\n",
              "      <td>89.0</td>\n",
              "      <td>-0.5</td>\n",
              "      <td>1024.5</td>\n",
              "      <td>-21.4</td>\n",
              "      <td>0.0</td>\n",
              "      <td>2013-01-03 00:00:00</td>\n",
              "    </tr>\n",
              "    <tr>\n",
              "      <th>2</th>\n",
              "      <td>4.0</td>\n",
              "      <td>4.0</td>\n",
              "      <td>14.0</td>\n",
              "      <td>20.0</td>\n",
              "      <td>300.0</td>\n",
              "      <td>69.0</td>\n",
              "      <td>-0.7</td>\n",
              "      <td>1023.0</td>\n",
              "      <td>-18.8</td>\n",
              "      <td>0.0</td>\n",
              "      <td>2013-01-03 00:00:00</td>\n",
              "    </tr>\n",
              "    <tr>\n",
              "      <th>3</th>\n",
              "      <td>7.0</td>\n",
              "      <td>7.0</td>\n",
              "      <td>3.0</td>\n",
              "      <td>2.0</td>\n",
              "      <td>100.0</td>\n",
              "      <td>91.0</td>\n",
              "      <td>-2.3</td>\n",
              "      <td>1020.3</td>\n",
              "      <td>-20.7</td>\n",
              "      <td>0.0</td>\n",
              "      <td>2013-01-03 00:00:00</td>\n",
              "    </tr>\n",
              "    <tr>\n",
              "      <th>4</th>\n",
              "      <td>5.0</td>\n",
              "      <td>14.0</td>\n",
              "      <td>4.0</td>\n",
              "      <td>12.0</td>\n",
              "      <td>200.0</td>\n",
              "      <td>85.0</td>\n",
              "      <td>-0.5</td>\n",
              "      <td>1024.5</td>\n",
              "      <td>-21.4</td>\n",
              "      <td>0.0</td>\n",
              "      <td>2013-01-03 00:00:00</td>\n",
              "    </tr>\n",
              "  </tbody>\n",
              "</table>\n",
              "</div>"
            ],
            "text/plain": [
              "   PM2.5  PM10   SO2   NO2  ...    PRES  DEWP  RAIN                   dt\n",
              "0    4.0   4.0   4.0   7.0  ...  1023.0 -18.8   0.0  2013-01-03 00:00:00\n",
              "1    9.0   9.0   3.0  17.0  ...  1024.5 -21.4   0.0  2013-01-03 00:00:00\n",
              "2    4.0   4.0  14.0  20.0  ...  1023.0 -18.8   0.0  2013-01-03 00:00:00\n",
              "3    7.0   7.0   3.0   2.0  ...  1020.3 -20.7   0.0  2013-01-03 00:00:00\n",
              "4    5.0  14.0   4.0  12.0  ...  1024.5 -21.4   0.0  2013-01-03 00:00:00\n",
              "\n",
              "[5 rows x 11 columns]"
            ]
          },
          "metadata": {},
          "execution_count": 53
        }
      ]
    },
    {
      "cell_type": "code",
      "metadata": {
        "id": "wfTEfvTvZCs9"
      },
      "source": [
        "# convert an array of values into a dataset matrix\n",
        "# def create_dataset(dataset, look_back=1):\n",
        "# \tdataX, dataY = [], []\n",
        "# \tfor i in range(len(dataset)-look_back-1):\n",
        "# \t\ta = dataset[i:(i+look_back), 0]\n",
        "# \t\tdataX.append(a)\n",
        "# \t\tdataY.append(dataset[i + look_back, 0])\n",
        "# \treturn numpy.array(dataX), numpy.array(dataY)"
      ],
      "id": "wfTEfvTvZCs9",
      "execution_count": null,
      "outputs": []
    },
    {
      "cell_type": "code",
      "metadata": {
        "id": "m7qgSFUfaG9F"
      },
      "source": [
        "# look_back = 1\n",
        "# TrainX, TrainY = create_dataset(train, look_back)\n",
        "# testX, testY = create_dataset(test, look_back)"
      ],
      "id": "m7qgSFUfaG9F",
      "execution_count": null,
      "outputs": []
    },
    {
      "cell_type": "code",
      "metadata": {
        "id": "2c795e0c-8ef4-43ca-b429-5a297310ab03"
      },
      "source": [
        "\n",
        "# reshape input to be [samples, time steps, features]\n",
        "# trainX = numpy.reshape(trainX, (trainX.shape[0], 1, trainX.shape[1]))\n",
        "# testX = numpy.reshape(testX, (testX.shape[0], 1, testX.shape[1]))"
      ],
      "id": "2c795e0c-8ef4-43ca-b429-5a297310ab03",
      "execution_count": null,
      "outputs": []
    },
    {
      "cell_type": "code",
      "metadata": {
        "id": "_cjlZGHvX_Yo"
      },
      "source": [
        "features = [\"PM10\", \"SO2\", \"NO2\", \"CO\", \"O3\", \"TEMP\", \"PRES\", \"DEWP\", \"RAIN\"]\n",
        "scalar = StandardScaler()\n",
        "# the fit_transform ops returns a 2d numpy.array, we cast it to a pd.DataFrame\n",
        "standardized_features = pd.DataFrame(scalar.fit_transform(df[features].copy()), columns = features)\n",
        "old_shape = df.shape\n",
        "# drop the unnormalized features from the dataframe\n",
        "df.drop(features, axis = 1, inplace = True)\n",
        "# join back the normalized features\n",
        "df = pd.concat([df, standardized_features], axis= 1)\n",
        "assert old_shape == df.shape, \"something went wrong!\""
      ],
      "id": "_cjlZGHvX_Yo",
      "execution_count": 37,
      "outputs": []
    },
    {
      "cell_type": "code",
      "metadata": {
        "colab": {
          "base_uri": "https://localhost:8080/",
          "height": 204
        },
        "id": "dR3U1DDTbfHD",
        "outputId": "16c5e743-fc33-45cd-8eba-9378a8eebd9f"
      },
      "source": [
        "df.head()"
      ],
      "id": "dR3U1DDTbfHD",
      "execution_count": 25,
      "outputs": [
        {
          "output_type": "execute_result",
          "data": {
            "text/html": [
              "<div>\n",
              "<style scoped>\n",
              "    .dataframe tbody tr th:only-of-type {\n",
              "        vertical-align: middle;\n",
              "    }\n",
              "\n",
              "    .dataframe tbody tr th {\n",
              "        vertical-align: top;\n",
              "    }\n",
              "\n",
              "    .dataframe thead th {\n",
              "        text-align: right;\n",
              "    }\n",
              "</style>\n",
              "<table border=\"1\" class=\"dataframe\">\n",
              "  <thead>\n",
              "    <tr style=\"text-align: right;\">\n",
              "      <th></th>\n",
              "      <th>PM2.5</th>\n",
              "      <th>dt</th>\n",
              "      <th>PM10</th>\n",
              "      <th>SO2</th>\n",
              "      <th>NO2</th>\n",
              "      <th>CO</th>\n",
              "      <th>O3</th>\n",
              "      <th>TEMP</th>\n",
              "      <th>PRES</th>\n",
              "      <th>DEWP</th>\n",
              "      <th>RAIN</th>\n",
              "    </tr>\n",
              "  </thead>\n",
              "  <tbody>\n",
              "    <tr>\n",
              "      <th>0</th>\n",
              "      <td>4.0</td>\n",
              "      <td>2013-01-03 00:00:00</td>\n",
              "      <td>-1.101254</td>\n",
              "      <td>-0.545907</td>\n",
              "      <td>-1.243556</td>\n",
              "      <td>-0.804110</td>\n",
              "      <td>0.348630</td>\n",
              "      <td>-1.242142</td>\n",
              "      <td>1.164563</td>\n",
              "      <td>-1.538262</td>\n",
              "      <td>-0.078906</td>\n",
              "    </tr>\n",
              "    <tr>\n",
              "      <th>1</th>\n",
              "      <td>9.0</td>\n",
              "      <td>2013-01-03 00:00:00</td>\n",
              "      <td>-1.046543</td>\n",
              "      <td>-0.592877</td>\n",
              "      <td>-0.958503</td>\n",
              "      <td>-0.804110</td>\n",
              "      <td>0.560363</td>\n",
              "      <td>-1.224639</td>\n",
              "      <td>1.308088</td>\n",
              "      <td>-1.726789</td>\n",
              "      <td>-0.078906</td>\n",
              "    </tr>\n",
              "    <tr>\n",
              "      <th>2</th>\n",
              "      <td>4.0</td>\n",
              "      <td>2013-01-03 00:00:00</td>\n",
              "      <td>-1.101254</td>\n",
              "      <td>-0.076203</td>\n",
              "      <td>-0.872987</td>\n",
              "      <td>-0.804110</td>\n",
              "      <td>0.207475</td>\n",
              "      <td>-1.242142</td>\n",
              "      <td>1.164563</td>\n",
              "      <td>-1.538262</td>\n",
              "      <td>-0.078906</td>\n",
              "    </tr>\n",
              "    <tr>\n",
              "      <th>3</th>\n",
              "      <td>7.0</td>\n",
              "      <td>2013-01-03 00:00:00</td>\n",
              "      <td>-1.068428</td>\n",
              "      <td>-0.592877</td>\n",
              "      <td>-1.386082</td>\n",
              "      <td>-0.976692</td>\n",
              "      <td>0.595652</td>\n",
              "      <td>-1.382164</td>\n",
              "      <td>0.906219</td>\n",
              "      <td>-1.676032</td>\n",
              "      <td>-0.078906</td>\n",
              "    </tr>\n",
              "    <tr>\n",
              "      <th>4</th>\n",
              "      <td>5.0</td>\n",
              "      <td>2013-01-03 00:00:00</td>\n",
              "      <td>-0.991832</td>\n",
              "      <td>-0.545907</td>\n",
              "      <td>-1.101029</td>\n",
              "      <td>-0.890401</td>\n",
              "      <td>0.489786</td>\n",
              "      <td>-1.224639</td>\n",
              "      <td>1.308088</td>\n",
              "      <td>-1.726789</td>\n",
              "      <td>-0.078906</td>\n",
              "    </tr>\n",
              "  </tbody>\n",
              "</table>\n",
              "</div>"
            ],
            "text/plain": [
              "   PM2.5                   dt      PM10  ...      PRES      DEWP      RAIN\n",
              "0    4.0  2013-01-03 00:00:00 -1.101254  ...  1.164563 -1.538262 -0.078906\n",
              "1    9.0  2013-01-03 00:00:00 -1.046543  ...  1.308088 -1.726789 -0.078906\n",
              "2    4.0  2013-01-03 00:00:00 -1.101254  ...  1.164563 -1.538262 -0.078906\n",
              "3    7.0  2013-01-03 00:00:00 -1.068428  ...  0.906219 -1.676032 -0.078906\n",
              "4    5.0  2013-01-03 00:00:00 -0.991832  ...  1.308088 -1.726789 -0.078906\n",
              "\n",
              "[5 rows x 11 columns]"
            ]
          },
          "metadata": {},
          "execution_count": 25
        }
      ]
    },
    {
      "cell_type": "code",
      "metadata": {
        "colab": {
          "base_uri": "https://localhost:8080/",
          "height": 355
        },
        "id": "HXQ6QQKGnMgd",
        "outputId": "ffe8d1fc-e684-4784-c981-3d82abd45128"
      },
      "source": [
        "import matplotlib.pyplot as plt\n",
        "df.groupby('dt').mean()['RAIN'].rolling(360).mean().plot(figsize=(15, 5))\n",
        "plt.ylim(-1, 1)"
      ],
      "id": "HXQ6QQKGnMgd",
      "execution_count": 26,
      "outputs": [
        {
          "output_type": "execute_result",
          "data": {
            "text/plain": [
              "(-1.0, 1.0)"
            ]
          },
          "metadata": {},
          "execution_count": 26
        },
        {
          "output_type": "display_data",
          "data": {
            "image/png": "[encoded data removed]",
            "text/plain": [
              "<Figure size 1080x360 with 1 Axes>"
            ]
          },
          "metadata": {
            "needs_background": "light"
          }
        }
      ]
    },
    {
      "cell_type": "code",
      "metadata": {
        "colab": {
          "base_uri": "https://localhost:8080/",
          "height": 282
        },
        "id": "oEpH0_erlaJZ",
        "outputId": "f7b1744d-20d6-40b8-9c46-d5db6a150aa7"
      },
      "source": [
        "df_kl['PM2.5'].hist()"
      ],
      "id": "oEpH0_erlaJZ",
      "execution_count": 31,
      "outputs": [
        {
          "output_type": "execute_result",
          "data": {
            "text/plain": [
              "<matplotlib.axes._subplots.AxesSubplot at 0x7f3c1ff2ff90>"
            ]
          },
          "metadata": {},
          "execution_count": 31
        },
        {
          "output_type": "display_data",
          "data": {
            "image/png": "[encoded data removed]",
            "text/plain": [
              "<Figure size 432x288 with 1 Axes>"
            ]
          },
          "metadata": {
            "needs_background": "light"
          }
        }
      ]
    },
    {
      "cell_type": "code",
      "metadata": {
        "colab": {
          "base_uri": "https://localhost:8080/"
        },
        "id": "OIdDHqIXloP2",
        "outputId": "5907259a-9f0a-407b-c10c-fe8addb709f3"
      },
      "source": [
        "time_index=pd.to_datetime(df['dt'])\n",
        "df_kl=df_kl.set_index(time_index)\n",
        "df_kl.index"
      ],
      "id": "OIdDHqIXloP2",
      "execution_count": 30,
      "outputs": [
        {
          "output_type": "execute_result",
          "data": {
            "text/plain": [
              "DatetimeIndex(['2013-01-03 00:00:00', '2013-01-03 00:00:00',\n",
              "               '2013-01-03 00:00:00', '2013-01-03 00:00:00',\n",
              "               '2013-01-03 00:00:00', '2013-01-03 00:00:00',\n",
              "               '2013-01-03 00:00:00', '2013-01-03 00:00:00',\n",
              "               '2013-01-03 00:00:00', '2013-01-03 00:00:00',\n",
              "               ...\n",
              "               '2017-12-02 23:00:00', '2017-12-02 23:00:00',\n",
              "               '2017-12-02 23:00:00', '2017-12-02 23:00:00',\n",
              "               '2017-12-02 23:00:00', '2017-12-02 23:00:00',\n",
              "               '2017-12-02 23:00:00', '2017-12-02 23:00:00',\n",
              "               '2017-12-02 23:00:00', '2017-12-02 23:00:00'],\n",
              "              dtype='datetime64[ns]', name='dt', length=383586, freq=None)"
            ]
          },
          "metadata": {},
          "execution_count": 30
        }
      ]
    },
    {
      "cell_type": "code",
      "metadata": {
        "id": "cv1AI6_XioCE"
      },
      "source": [
        "df_kl=df.drop('dt', axis=1)\n",
        "y = df_kl['PM2.5']\n",
        "X = df_kl.drop(columns= ['PM2.5'])\n",
        "X_train, X_test, y_train, y_test = train_test_split(X,y, shuffle=False)\n",
        "\n"
      ],
      "id": "cv1AI6_XioCE",
      "execution_count": 29,
      "outputs": []
    },
    {
      "cell_type": "code",
      "metadata": {
        "id": "5Zv5qNH3kVLm"
      },
      "source": [
        "\n",
        "model=tf.keras.models.Sequential()\n",
        "layer_1=tf.keras.layers.Dense(units=32, activation=\"relu\", input_dim=9)\n",
        "model.add(layer_1)\n",
        "layer_2=tf.keras.layers.Dense(units=32, activation=\"relu\", input_dim=9)\n",
        "model.add(layer_2)\n",
        "output_layer=tf.keras.layers.Dense(units=1)\n",
        "model.add(output_layer)\n",
        "model.summary()"
      ],
      "id": "5Zv5qNH3kVLm",
      "execution_count": null,
      "outputs": []
    },
    {
      "cell_type": "code",
      "metadata": {
        "colab": {
          "base_uri": "https://localhost:8080/",
          "height": 697
        },
        "id": "qVnVMI62kWM-",
        "outputId": "64db9610-1d52-49a4-f58f-69a3a5029cdb"
      },
      "source": [
        "model.compile(optimizer='adam', loss='mean_squared_error', metrics=['mean_absolute_error'])\n",
        "model.fit(X_train, y_train, epochs=20)"
      ],
      "id": "qVnVMI62kWM-",
      "execution_count": null,
      "outputs": [
        {
          "output_type": "stream",
          "name": "stdout",
          "text": [
            "Epoch 1/20\n",
            "8991/8991 [==============================] - 13s 1ms/step - loss: 512.5632 - mean_absolute_error: 14.5513\n",
            "Epoch 2/20\n",
            "8991/8991 [==============================] - 12s 1ms/step - loss: 509.9702 - mean_absolute_error: 14.5180\n",
            "Epoch 3/20\n",
            "8991/8991 [==============================] - 12s 1ms/step - loss: 508.5579 - mean_absolute_error: 14.4944\n",
            "Epoch 4/20\n",
            "8991/8991 [==============================] - 12s 1ms/step - loss: 505.5126 - mean_absolute_error: 14.4560\n",
            "Epoch 5/20\n",
            "8991/8991 [==============================] - 12s 1ms/step - loss: 505.1482 - mean_absolute_error: 14.4473\n",
            "Epoch 6/20\n",
            "8991/8991 [==============================] - 12s 1ms/step - loss: 504.0302 - mean_absolute_error: 14.4202\n",
            "Epoch 7/20\n",
            "8991/8991 [==============================] - 12s 1ms/step - loss: 502.6141 - mean_absolute_error: 14.4124\n",
            "Epoch 8/20\n",
            "8991/8991 [==============================] - 12s 1ms/step - loss: 501.1833 - mean_absolute_error: 14.3903\n",
            "Epoch 9/20\n",
            "8991/8991 [==============================] - 12s 1ms/step - loss: 500.6324 - mean_absolute_error: 14.3816\n",
            "Epoch 10/20\n",
            "8991/8991 [==============================] - 12s 1ms/step - loss: 499.2694 - mean_absolute_error: 14.3666\n",
            "Epoch 11/20\n",
            "4885/8991 [===============>..............] - ETA: 5s - loss: 497.0320 - mean_absolute_error: 14.3530"
          ]
        },
        {
          "output_type": "error",
          "ename": "KeyboardInterrupt",
          "evalue": "ignored",
          "traceback": [
            "\u001b[0;31m---------------------------------------------------------------------------\u001b[0m",
            "\u001b[0;31mKeyboardInterrupt\u001b[0m                         Traceback (most recent call last)",
            "\u001b[0;32m<ipython-input-59-1ef57eb79443>\u001b[0m in \u001b[0;36m<module>\u001b[0;34m()\u001b[0m\n\u001b[1;32m      1\u001b[0m \u001b[0mmodel\u001b[0m\u001b[0;34m.\u001b[0m\u001b[0mcompile\u001b[0m\u001b[0;34m(\u001b[0m\u001b[0moptimizer\u001b[0m\u001b[0;34m=\u001b[0m\u001b[0;34m'adam'\u001b[0m\u001b[0;34m,\u001b[0m \u001b[0mloss\u001b[0m\u001b[0;34m=\u001b[0m\u001b[0;34m'mean_squared_error'\u001b[0m\u001b[0;34m,\u001b[0m \u001b[0mmetrics\u001b[0m\u001b[0;34m=\u001b[0m\u001b[0;34m[\u001b[0m\u001b[0;34m'mean_absolute_error'\u001b[0m\u001b[0;34m]\u001b[0m\u001b[0;34m)\u001b[0m\u001b[0;34m\u001b[0m\u001b[0;34m\u001b[0m\u001b[0m\n\u001b[0;32m----> 2\u001b[0;31m \u001b[0mmodel\u001b[0m\u001b[0;34m.\u001b[0m\u001b[0mfit\u001b[0m\u001b[0;34m(\u001b[0m\u001b[0mX_train\u001b[0m\u001b[0;34m,\u001b[0m \u001b[0my_train\u001b[0m\u001b[0;34m,\u001b[0m \u001b[0mepochs\u001b[0m\u001b[0;34m=\u001b[0m\u001b[0;36m20\u001b[0m\u001b[0;34m)\u001b[0m\u001b[0;34m\u001b[0m\u001b[0;34m\u001b[0m\u001b[0m\n\u001b[0m",
            "\u001b[0;32m/usr/local/lib/python3.7/dist-packages/keras/engine/training.py\u001b[0m in \u001b[0;36mfit\u001b[0;34m(self, x, y, batch_size, epochs, verbose, callbacks, validation_split, validation_data, shuffle, class_weight, sample_weight, initial_epoch, steps_per_epoch, validation_steps, validation_batch_size, validation_freq, max_queue_size, workers, use_multiprocessing)\u001b[0m\n\u001b[1;32m   1182\u001b[0m                 _r=1):\n\u001b[1;32m   1183\u001b[0m               \u001b[0mcallbacks\u001b[0m\u001b[0;34m.\u001b[0m\u001b[0mon_train_batch_begin\u001b[0m\u001b[0;34m(\u001b[0m\u001b[0mstep\u001b[0m\u001b[0;34m)\u001b[0m\u001b[0;34m\u001b[0m\u001b[0;34m\u001b[0m\u001b[0m\n\u001b[0;32m-> 1184\u001b[0;31m               \u001b[0mtmp_logs\u001b[0m \u001b[0;34m=\u001b[0m \u001b[0mself\u001b[0m\u001b[0;34m.\u001b[0m\u001b[0mtrain_function\u001b[0m\u001b[0;34m(\u001b[0m\u001b[0miterator\u001b[0m\u001b[0;34m)\u001b[0m\u001b[0;34m\u001b[0m\u001b[0;34m\u001b[0m\u001b[0m\n\u001b[0m\u001b[1;32m   1185\u001b[0m               \u001b[0;32mif\u001b[0m \u001b[0mdata_handler\u001b[0m\u001b[0;34m.\u001b[0m\u001b[0mshould_sync\u001b[0m\u001b[0;34m:\u001b[0m\u001b[0;34m\u001b[0m\u001b[0;34m\u001b[0m\u001b[0m\n\u001b[1;32m   1186\u001b[0m                 \u001b[0mcontext\u001b[0m\u001b[0;34m.\u001b[0m\u001b[0masync_wait\u001b[0m\u001b[0;34m(\u001b[0m\u001b[0;34m)\u001b[0m\u001b[0;34m\u001b[0m\u001b[0;34m\u001b[0m\u001b[0m\n",
            "\u001b[0;32m/usr/local/lib/python3.7/dist-packages/tensorflow/python/eager/def_function.py\u001b[0m in \u001b[0;36m__call__\u001b[0;34m(self, *args, **kwds)\u001b[0m\n\u001b[1;32m    883\u001b[0m \u001b[0;34m\u001b[0m\u001b[0m\n\u001b[1;32m    884\u001b[0m       \u001b[0;32mwith\u001b[0m \u001b[0mOptionalXlaContext\u001b[0m\u001b[0;34m(\u001b[0m\u001b[0mself\u001b[0m\u001b[0;34m.\u001b[0m\u001b[0m_jit_compile\u001b[0m\u001b[0;34m)\u001b[0m\u001b[0;34m:\u001b[0m\u001b[0;34m\u001b[0m\u001b[0;34m\u001b[0m\u001b[0m\n\u001b[0;32m--> 885\u001b[0;31m         \u001b[0mresult\u001b[0m \u001b[0;34m=\u001b[0m \u001b[0mself\u001b[0m\u001b[0;34m.\u001b[0m\u001b[0m_call\u001b[0m\u001b[0;34m(\u001b[0m\u001b[0;34m*\u001b[0m\u001b[0margs\u001b[0m\u001b[0;34m,\u001b[0m \u001b[0;34m**\u001b[0m\u001b[0mkwds\u001b[0m\u001b[0;34m)\u001b[0m\u001b[0;34m\u001b[0m\u001b[0;34m\u001b[0m\u001b[0m\n\u001b[0m\u001b[1;32m    886\u001b[0m \u001b[0;34m\u001b[0m\u001b[0m\n\u001b[1;32m    887\u001b[0m       \u001b[0mnew_tracing_count\u001b[0m \u001b[0;34m=\u001b[0m \u001b[0mself\u001b[0m\u001b[0;34m.\u001b[0m\u001b[0mexperimental_get_tracing_count\u001b[0m\u001b[0;34m(\u001b[0m\u001b[0;34m)\u001b[0m\u001b[0;34m\u001b[0m\u001b[0;34m\u001b[0m\u001b[0m\n",
            "\u001b[0;32m/usr/local/lib/python3.7/dist-packages/tensorflow/python/eager/def_function.py\u001b[0m in \u001b[0;36m_call\u001b[0;34m(self, *args, **kwds)\u001b[0m\n\u001b[1;32m    915\u001b[0m       \u001b[0;31m# In this case we have created variables on the first call, so we run the\u001b[0m\u001b[0;34m\u001b[0m\u001b[0;34m\u001b[0m\u001b[0;34m\u001b[0m\u001b[0m\n\u001b[1;32m    916\u001b[0m       \u001b[0;31m# defunned version which is guaranteed to never create variables.\u001b[0m\u001b[0;34m\u001b[0m\u001b[0;34m\u001b[0m\u001b[0;34m\u001b[0m\u001b[0m\n\u001b[0;32m--> 917\u001b[0;31m       \u001b[0;32mreturn\u001b[0m \u001b[0mself\u001b[0m\u001b[0;34m.\u001b[0m\u001b[0m_stateless_fn\u001b[0m\u001b[0;34m(\u001b[0m\u001b[0;34m*\u001b[0m\u001b[0margs\u001b[0m\u001b[0;34m,\u001b[0m \u001b[0;34m**\u001b[0m\u001b[0mkwds\u001b[0m\u001b[0;34m)\u001b[0m  \u001b[0;31m# pylint: disable=not-callable\u001b[0m\u001b[0;34m\u001b[0m\u001b[0;34m\u001b[0m\u001b[0m\n\u001b[0m\u001b[1;32m    918\u001b[0m     \u001b[0;32melif\u001b[0m \u001b[0mself\u001b[0m\u001b[0;34m.\u001b[0m\u001b[0m_stateful_fn\u001b[0m \u001b[0;32mis\u001b[0m \u001b[0;32mnot\u001b[0m \u001b[0;32mNone\u001b[0m\u001b[0;34m:\u001b[0m\u001b[0;34m\u001b[0m\u001b[0;34m\u001b[0m\u001b[0m\n\u001b[1;32m    919\u001b[0m       \u001b[0;31m# Release the lock early so that multiple threads can perform the call\u001b[0m\u001b[0;34m\u001b[0m\u001b[0;34m\u001b[0m\u001b[0;34m\u001b[0m\u001b[0m\n",
            "\u001b[0;32m/usr/local/lib/python3.7/dist-packages/tensorflow/python/eager/function.py\u001b[0m in \u001b[0;36m__call__\u001b[0;34m(self, *args, **kwargs)\u001b[0m\n\u001b[1;32m   3038\u001b[0m        filtered_flat_args) = self._maybe_define_function(args, kwargs)\n\u001b[1;32m   3039\u001b[0m     return graph_function._call_flat(\n\u001b[0;32m-> 3040\u001b[0;31m         filtered_flat_args, captured_inputs=graph_function.captured_inputs)  # pylint: disable=protected-access\n\u001b[0m\u001b[1;32m   3041\u001b[0m \u001b[0;34m\u001b[0m\u001b[0m\n\u001b[1;32m   3042\u001b[0m   \u001b[0;34m@\u001b[0m\u001b[0mproperty\u001b[0m\u001b[0;34m\u001b[0m\u001b[0;34m\u001b[0m\u001b[0m\n",
            "\u001b[0;32m/usr/local/lib/python3.7/dist-packages/tensorflow/python/eager/function.py\u001b[0m in \u001b[0;36m_call_flat\u001b[0;34m(self, args, captured_inputs, cancellation_manager)\u001b[0m\n\u001b[1;32m   1962\u001b[0m       \u001b[0;31m# No tape is watching; skip to running the function.\u001b[0m\u001b[0;34m\u001b[0m\u001b[0;34m\u001b[0m\u001b[0;34m\u001b[0m\u001b[0m\n\u001b[1;32m   1963\u001b[0m       return self._build_call_outputs(self._inference_function.call(\n\u001b[0;32m-> 1964\u001b[0;31m           ctx, args, cancellation_manager=cancellation_manager))\n\u001b[0m\u001b[1;32m   1965\u001b[0m     forward_backward = self._select_forward_and_backward_functions(\n\u001b[1;32m   1966\u001b[0m         \u001b[0margs\u001b[0m\u001b[0;34m,\u001b[0m\u001b[0;34m\u001b[0m\u001b[0;34m\u001b[0m\u001b[0m\n",
            "\u001b[0;32m/usr/local/lib/python3.7/dist-packages/tensorflow/python/eager/function.py\u001b[0m in \u001b[0;36mcall\u001b[0;34m(self, ctx, args, cancellation_manager)\u001b[0m\n\u001b[1;32m    594\u001b[0m               \u001b[0minputs\u001b[0m\u001b[0;34m=\u001b[0m\u001b[0margs\u001b[0m\u001b[0;34m,\u001b[0m\u001b[0;34m\u001b[0m\u001b[0;34m\u001b[0m\u001b[0m\n\u001b[1;32m    595\u001b[0m               \u001b[0mattrs\u001b[0m\u001b[0;34m=\u001b[0m\u001b[0mattrs\u001b[0m\u001b[0;34m,\u001b[0m\u001b[0;34m\u001b[0m\u001b[0;34m\u001b[0m\u001b[0m\n\u001b[0;32m--> 596\u001b[0;31m               ctx=ctx)\n\u001b[0m\u001b[1;32m    597\u001b[0m         \u001b[0;32melse\u001b[0m\u001b[0;34m:\u001b[0m\u001b[0;34m\u001b[0m\u001b[0;34m\u001b[0m\u001b[0m\n\u001b[1;32m    598\u001b[0m           outputs = execute.execute_with_cancellation(\n",
            "\u001b[0;32m/usr/local/lib/python3.7/dist-packages/tensorflow/python/eager/execute.py\u001b[0m in \u001b[0;36mquick_execute\u001b[0;34m(op_name, num_outputs, inputs, attrs, ctx, name)\u001b[0m\n\u001b[1;32m     58\u001b[0m     \u001b[0mctx\u001b[0m\u001b[0;34m.\u001b[0m\u001b[0mensure_initialized\u001b[0m\u001b[0;34m(\u001b[0m\u001b[0;34m)\u001b[0m\u001b[0;34m\u001b[0m\u001b[0;34m\u001b[0m\u001b[0m\n\u001b[1;32m     59\u001b[0m     tensors = pywrap_tfe.TFE_Py_Execute(ctx._handle, device_name, op_name,\n\u001b[0;32m---> 60\u001b[0;31m                                         inputs, attrs, num_outputs)\n\u001b[0m\u001b[1;32m     61\u001b[0m   \u001b[0;32mexcept\u001b[0m \u001b[0mcore\u001b[0m\u001b[0;34m.\u001b[0m\u001b[0m_NotOkStatusException\u001b[0m \u001b[0;32mas\u001b[0m \u001b[0me\u001b[0m\u001b[0;34m:\u001b[0m\u001b[0;34m\u001b[0m\u001b[0;34m\u001b[0m\u001b[0m\n\u001b[1;32m     62\u001b[0m     \u001b[0;32mif\u001b[0m \u001b[0mname\u001b[0m \u001b[0;32mis\u001b[0m \u001b[0;32mnot\u001b[0m \u001b[0;32mNone\u001b[0m\u001b[0;34m:\u001b[0m\u001b[0;34m\u001b[0m\u001b[0;34m\u001b[0m\u001b[0m\n",
            "\u001b[0;31mKeyboardInterrupt\u001b[0m: "
          ]
        }
      ]
    },
    {
      "cell_type": "code",
      "metadata": {
        "id": "gxi900Vrottx"
      },
      "source": [
        "# if it doesn't change (much) based on the data, then it's a static variable\n",
        "# identify columns that have seasonality or notable trend (over time)"
      ],
      "id": "gxi900Vrottx",
      "execution_count": null,
      "outputs": []
    },
    {
      "cell_type": "code",
      "metadata": {
        "colab": {
          "base_uri": "https://localhost:8080/",
          "height": 1000
        },
        "id": "YKC0_oL2o-nw",
        "outputId": "278a344f-6a23-4e37-e17d-1d62a8ad2682"
      },
      "source": [
        "df.hist(figsize=(10, 15))"
      ],
      "id": "YKC0_oL2o-nw",
      "execution_count": 32,
      "outputs": [
        {
          "output_type": "execute_result",
          "data": {
            "text/plain": [
              "array([[<matplotlib.axes._subplots.AxesSubplot object at 0x7f3c1fee8690>,\n",
              "        <matplotlib.axes._subplots.AxesSubplot object at 0x7f3c1f9df4d0>,\n",
              "        <matplotlib.axes._subplots.AxesSubplot object at 0x7f3c1f994b50>],\n",
              "       [<matplotlib.axes._subplots.AxesSubplot object at 0x7f3c1f956210>,\n",
              "        <matplotlib.axes._subplots.AxesSubplot object at 0x7f3c1f90b890>,\n",
              "        <matplotlib.axes._subplots.AxesSubplot object at 0x7f3c1f8c1f10>],\n",
              "       [<matplotlib.axes._subplots.AxesSubplot object at 0x7f3c1f885650>,\n",
              "        <matplotlib.axes._subplots.AxesSubplot object at 0x7f3c1f838c10>,\n",
              "        <matplotlib.axes._subplots.AxesSubplot object at 0x7f3c1f838c50>],\n",
              "       [<matplotlib.axes._subplots.AxesSubplot object at 0x7f3c1f7fc410>,\n",
              "        <matplotlib.axes._subplots.AxesSubplot object at 0x7f3c1f7ddb90>,\n",
              "        <matplotlib.axes._subplots.AxesSubplot object at 0x7f3c1f7a9710>]],\n",
              "      dtype=object)"
            ]
          },
          "metadata": {},
          "execution_count": 32
        },
        {
          "output_type": "display_data",
          "data": {
            "image/png": "[encoded data removed]",
            "text/plain": [
              "<Figure size 720x1080 with 12 Axes>"
            ]
          },
          "metadata": {
            "needs_background": "light"
          }
        }
      ]
    },
    {
      "cell_type": "code",
      "metadata": {
        "colab": {
          "base_uri": "https://localhost:8080/",
          "height": 910
        },
        "id": "FvtK_HsbpWj4",
        "outputId": "8cd59003-bbc1-4503-b1d1-3b035faec060"
      },
      "source": [
        "df=df.set_index(pd.to_datetime(df['dt']))\n",
        "fig, ax=plt.subplots(3, 4, figsize=(15, 10))\n",
        "for idx, each_col in enumerate(df.columns): \n",
        "  if idx>=10: \n",
        "    break\n",
        "  row_idx=idx//4\n",
        "  col_idx=idx%4\n",
        "  df[each_col].plot(ax=ax[row_idx][col_idx])\n",
        "  ax[row_idx][col_idx].set_title(each_col)\n",
        "plt.tight_layout()"
      ],
      "id": "FvtK_HsbpWj4",
      "execution_count": 33,
      "outputs": [
        {
          "output_type": "error",
          "ename": "TypeError",
          "evalue": "ignored",
          "traceback": [
            "\u001b[0;31m---------------------------------------------------------------------------\u001b[0m",
            "\u001b[0;31mTypeError\u001b[0m                                 Traceback (most recent call last)",
            "\u001b[0;32m<ipython-input-33-549b5174e7a2>\u001b[0m in \u001b[0;36m<module>\u001b[0;34m()\u001b[0m\n\u001b[1;32m      6\u001b[0m   \u001b[0mrow_idx\u001b[0m\u001b[0;34m=\u001b[0m\u001b[0midx\u001b[0m\u001b[0;34m//\u001b[0m\u001b[0;36m4\u001b[0m\u001b[0;34m\u001b[0m\u001b[0;34m\u001b[0m\u001b[0m\n\u001b[1;32m      7\u001b[0m   \u001b[0mcol_idx\u001b[0m\u001b[0;34m=\u001b[0m\u001b[0midx\u001b[0m\u001b[0;34m%\u001b[0m\u001b[0;36m4\u001b[0m\u001b[0;34m\u001b[0m\u001b[0;34m\u001b[0m\u001b[0m\n\u001b[0;32m----> 8\u001b[0;31m   \u001b[0mdf\u001b[0m\u001b[0;34m[\u001b[0m\u001b[0meach_col\u001b[0m\u001b[0;34m]\u001b[0m\u001b[0;34m.\u001b[0m\u001b[0mplot\u001b[0m\u001b[0;34m(\u001b[0m\u001b[0max\u001b[0m\u001b[0;34m=\u001b[0m\u001b[0max\u001b[0m\u001b[0;34m[\u001b[0m\u001b[0mrow_idx\u001b[0m\u001b[0;34m]\u001b[0m\u001b[0;34m[\u001b[0m\u001b[0mcol_idx\u001b[0m\u001b[0;34m]\u001b[0m\u001b[0;34m)\u001b[0m\u001b[0;34m\u001b[0m\u001b[0;34m\u001b[0m\u001b[0m\n\u001b[0m\u001b[1;32m      9\u001b[0m   \u001b[0max\u001b[0m\u001b[0;34m[\u001b[0m\u001b[0mrow_idx\u001b[0m\u001b[0;34m]\u001b[0m\u001b[0;34m[\u001b[0m\u001b[0mcol_idx\u001b[0m\u001b[0;34m]\u001b[0m\u001b[0;34m.\u001b[0m\u001b[0mset_title\u001b[0m\u001b[0;34m(\u001b[0m\u001b[0meach_col\u001b[0m\u001b[0;34m)\u001b[0m\u001b[0;34m\u001b[0m\u001b[0;34m\u001b[0m\u001b[0m\n\u001b[1;32m     10\u001b[0m \u001b[0mplt\u001b[0m\u001b[0;34m.\u001b[0m\u001b[0mtight_layout\u001b[0m\u001b[0;34m(\u001b[0m\u001b[0;34m)\u001b[0m\u001b[0;34m\u001b[0m\u001b[0;34m\u001b[0m\u001b[0m\n",
            "\u001b[0;32m/usr/local/lib/python3.7/dist-packages/pandas/plotting/_core.py\u001b[0m in \u001b[0;36m__call__\u001b[0;34m(self, *args, **kwargs)\u001b[0m\n\u001b[1;32m    947\u001b[0m                     \u001b[0mdata\u001b[0m\u001b[0;34m.\u001b[0m\u001b[0mcolumns\u001b[0m \u001b[0;34m=\u001b[0m \u001b[0mlabel_name\u001b[0m\u001b[0;34m\u001b[0m\u001b[0;34m\u001b[0m\u001b[0m\n\u001b[1;32m    948\u001b[0m \u001b[0;34m\u001b[0m\u001b[0m\n\u001b[0;32m--> 949\u001b[0;31m         \u001b[0;32mreturn\u001b[0m \u001b[0mplot_backend\u001b[0m\u001b[0;34m.\u001b[0m\u001b[0mplot\u001b[0m\u001b[0;34m(\u001b[0m\u001b[0mdata\u001b[0m\u001b[0;34m,\u001b[0m \u001b[0mkind\u001b[0m\u001b[0;34m=\u001b[0m\u001b[0mkind\u001b[0m\u001b[0;34m,\u001b[0m \u001b[0;34m**\u001b[0m\u001b[0mkwargs\u001b[0m\u001b[0;34m)\u001b[0m\u001b[0;34m\u001b[0m\u001b[0;34m\u001b[0m\u001b[0m\n\u001b[0m\u001b[1;32m    950\u001b[0m \u001b[0;34m\u001b[0m\u001b[0m\n\u001b[1;32m    951\u001b[0m     \u001b[0m__call__\u001b[0m\u001b[0;34m.\u001b[0m\u001b[0m__doc__\u001b[0m \u001b[0;34m=\u001b[0m \u001b[0m__doc__\u001b[0m\u001b[0;34m\u001b[0m\u001b[0;34m\u001b[0m\u001b[0m\n",
            "\u001b[0;32m/usr/local/lib/python3.7/dist-packages/pandas/plotting/_matplotlib/__init__.py\u001b[0m in \u001b[0;36mplot\u001b[0;34m(data, kind, **kwargs)\u001b[0m\n\u001b[1;32m     59\u001b[0m             \u001b[0mkwargs\u001b[0m\u001b[0;34m[\u001b[0m\u001b[0;34m\"ax\"\u001b[0m\u001b[0;34m]\u001b[0m \u001b[0;34m=\u001b[0m \u001b[0mgetattr\u001b[0m\u001b[0;34m(\u001b[0m\u001b[0max\u001b[0m\u001b[0;34m,\u001b[0m \u001b[0;34m\"left_ax\"\u001b[0m\u001b[0;34m,\u001b[0m \u001b[0max\u001b[0m\u001b[0;34m)\u001b[0m\u001b[0;34m\u001b[0m\u001b[0;34m\u001b[0m\u001b[0m\n\u001b[1;32m     60\u001b[0m     \u001b[0mplot_obj\u001b[0m \u001b[0;34m=\u001b[0m \u001b[0mPLOT_CLASSES\u001b[0m\u001b[0;34m[\u001b[0m\u001b[0mkind\u001b[0m\u001b[0;34m]\u001b[0m\u001b[0;34m(\u001b[0m\u001b[0mdata\u001b[0m\u001b[0;34m,\u001b[0m \u001b[0;34m**\u001b[0m\u001b[0mkwargs\u001b[0m\u001b[0;34m)\u001b[0m\u001b[0;34m\u001b[0m\u001b[0;34m\u001b[0m\u001b[0m\n\u001b[0;32m---> 61\u001b[0;31m     \u001b[0mplot_obj\u001b[0m\u001b[0;34m.\u001b[0m\u001b[0mgenerate\u001b[0m\u001b[0;34m(\u001b[0m\u001b[0;34m)\u001b[0m\u001b[0;34m\u001b[0m\u001b[0;34m\u001b[0m\u001b[0m\n\u001b[0m\u001b[1;32m     62\u001b[0m     \u001b[0mplot_obj\u001b[0m\u001b[0;34m.\u001b[0m\u001b[0mdraw\u001b[0m\u001b[0;34m(\u001b[0m\u001b[0;34m)\u001b[0m\u001b[0;34m\u001b[0m\u001b[0;34m\u001b[0m\u001b[0m\n\u001b[1;32m     63\u001b[0m     \u001b[0;32mreturn\u001b[0m \u001b[0mplot_obj\u001b[0m\u001b[0;34m.\u001b[0m\u001b[0mresult\u001b[0m\u001b[0;34m\u001b[0m\u001b[0;34m\u001b[0m\u001b[0m\n",
            "\u001b[0;32m/usr/local/lib/python3.7/dist-packages/pandas/plotting/_matplotlib/core.py\u001b[0m in \u001b[0;36mgenerate\u001b[0;34m(self)\u001b[0m\n\u001b[1;32m    267\u001b[0m     \u001b[0;32mdef\u001b[0m \u001b[0mgenerate\u001b[0m\u001b[0;34m(\u001b[0m\u001b[0mself\u001b[0m\u001b[0;34m)\u001b[0m\u001b[0;34m:\u001b[0m\u001b[0;34m\u001b[0m\u001b[0;34m\u001b[0m\u001b[0m\n\u001b[1;32m    268\u001b[0m         \u001b[0mself\u001b[0m\u001b[0;34m.\u001b[0m\u001b[0m_args_adjust\u001b[0m\u001b[0;34m(\u001b[0m\u001b[0;34m)\u001b[0m\u001b[0;34m\u001b[0m\u001b[0;34m\u001b[0m\u001b[0m\n\u001b[0;32m--> 269\u001b[0;31m         \u001b[0mself\u001b[0m\u001b[0;34m.\u001b[0m\u001b[0m_compute_plot_data\u001b[0m\u001b[0;34m(\u001b[0m\u001b[0;34m)\u001b[0m\u001b[0;34m\u001b[0m\u001b[0;34m\u001b[0m\u001b[0m\n\u001b[0m\u001b[1;32m    270\u001b[0m         \u001b[0mself\u001b[0m\u001b[0;34m.\u001b[0m\u001b[0m_setup_subplots\u001b[0m\u001b[0;34m(\u001b[0m\u001b[0;34m)\u001b[0m\u001b[0;34m\u001b[0m\u001b[0;34m\u001b[0m\u001b[0m\n\u001b[1;32m    271\u001b[0m         \u001b[0mself\u001b[0m\u001b[0;34m.\u001b[0m\u001b[0m_make_plot\u001b[0m\u001b[0;34m(\u001b[0m\u001b[0;34m)\u001b[0m\u001b[0;34m\u001b[0m\u001b[0;34m\u001b[0m\u001b[0m\n",
            "\u001b[0;32m/usr/local/lib/python3.7/dist-packages/pandas/plotting/_matplotlib/core.py\u001b[0m in \u001b[0;36m_compute_plot_data\u001b[0;34m(self)\u001b[0m\n\u001b[1;32m    416\u001b[0m         \u001b[0;31m# no non-numeric frames or series allowed\u001b[0m\u001b[0;34m\u001b[0m\u001b[0;34m\u001b[0m\u001b[0;34m\u001b[0m\u001b[0m\n\u001b[1;32m    417\u001b[0m         \u001b[0;32mif\u001b[0m \u001b[0mis_empty\u001b[0m\u001b[0;34m:\u001b[0m\u001b[0;34m\u001b[0m\u001b[0;34m\u001b[0m\u001b[0m\n\u001b[0;32m--> 418\u001b[0;31m             \u001b[0;32mraise\u001b[0m \u001b[0mTypeError\u001b[0m\u001b[0;34m(\u001b[0m\u001b[0;34m\"no numeric data to plot\"\u001b[0m\u001b[0;34m)\u001b[0m\u001b[0;34m\u001b[0m\u001b[0;34m\u001b[0m\u001b[0m\n\u001b[0m\u001b[1;32m    419\u001b[0m \u001b[0;34m\u001b[0m\u001b[0m\n\u001b[1;32m    420\u001b[0m         \u001b[0;31m# GH25587: cast ExtensionArray of pandas (IntegerArray, etc.) to\u001b[0m\u001b[0;34m\u001b[0m\u001b[0;34m\u001b[0m\u001b[0;34m\u001b[0m\u001b[0m\n",
            "\u001b[0;31mTypeError\u001b[0m: no numeric data to plot"
          ]
        },
        {
          "output_type": "display_data",
          "data": {
            "image/png": "[encoded data removed]",
            "text/plain": [
              "<Figure size 1080x720 with 12 Axes>"
            ]
          },
          "metadata": {
            "needs_background": "light"
          }
        }
      ]
    },
    {
      "cell_type": "code",
      "metadata": {
        "colab": {
          "base_uri": "https://localhost:8080/",
          "height": 282
        },
        "id": "IdTE62xHrbTN",
        "outputId": "dc4bb476-b742-4887-97d7-084f152655af"
      },
      "source": [
        "df['TEMP'].rolling(30).median().plot()"
      ],
      "id": "IdTE62xHrbTN",
      "execution_count": null,
      "outputs": [
        {
          "output_type": "execute_result",
          "data": {
            "text/plain": [
              "<matplotlib.axes._subplots.AxesSubplot at 0x7f4dddf70150>"
            ]
          },
          "metadata": {},
          "execution_count": 96
        },
        {
          "output_type": "display_data",
          "data": {
            "image/png": "[encoded data removed]",
            "text/plain": [
              "<Figure size 432x288 with 1 Axes>"
            ]
          },
          "metadata": {
            "needs_background": "light"
          }
        }
      ]
    },
    {
      "cell_type": "code",
      "metadata": {
        "colab": {
          "base_uri": "https://localhost:8080/",
          "height": 204
        },
        "id": "dySXjE26sM0z",
        "outputId": "b7fa48a5-fa19-48e0-c3d2-f3ce4f9f09d6"
      },
      "source": [
        "df.head()"
      ],
      "id": "dySXjE26sM0z",
      "execution_count": null,
      "outputs": [
        {
          "output_type": "execute_result",
          "data": {
            "text/html": [
              "<div>\n",
              "<style scoped>\n",
              "    .dataframe tbody tr th:only-of-type {\n",
              "        vertical-align: middle;\n",
              "    }\n",
              "\n",
              "    .dataframe tbody tr th {\n",
              "        vertical-align: top;\n",
              "    }\n",
              "\n",
              "    .dataframe thead th {\n",
              "        text-align: right;\n",
              "    }\n",
              "</style>\n",
              "<table border=\"1\" class=\"dataframe\">\n",
              "  <thead>\n",
              "    <tr style=\"text-align: right;\">\n",
              "      <th></th>\n",
              "      <th>PM2.5</th>\n",
              "      <th>dt</th>\n",
              "      <th>PM10</th>\n",
              "      <th>SO2</th>\n",
              "      <th>NO2</th>\n",
              "      <th>CO</th>\n",
              "      <th>O3</th>\n",
              "      <th>TEMP</th>\n",
              "      <th>PRES</th>\n",
              "      <th>DEWP</th>\n",
              "      <th>RAIN</th>\n",
              "    </tr>\n",
              "  </thead>\n",
              "  <tbody>\n",
              "    <tr>\n",
              "      <th>0</th>\n",
              "      <td>4.0</td>\n",
              "      <td>2013-01-03 00:00:00</td>\n",
              "      <td>-1.162817</td>\n",
              "      <td>-0.578585</td>\n",
              "      <td>-1.268396</td>\n",
              "      <td>-0.857574</td>\n",
              "      <td>0.294372</td>\n",
              "      <td>-1.448266</td>\n",
              "      <td>1.373570</td>\n",
              "      <td>-1.693904</td>\n",
              "      <td>-0.079338</td>\n",
              "    </tr>\n",
              "    <tr>\n",
              "      <th>1</th>\n",
              "      <td>9.0</td>\n",
              "      <td>2013-01-03 00:00:00</td>\n",
              "      <td>-1.106291</td>\n",
              "      <td>-0.620631</td>\n",
              "      <td>-0.980702</td>\n",
              "      <td>-0.857574</td>\n",
              "      <td>0.501416</td>\n",
              "      <td>-1.429750</td>\n",
              "      <td>1.525211</td>\n",
              "      <td>-1.887419</td>\n",
              "      <td>-0.079338</td>\n",
              "    </tr>\n",
              "    <tr>\n",
              "      <th>2</th>\n",
              "      <td>4.0</td>\n",
              "      <td>2013-01-03 00:00:00</td>\n",
              "      <td>-1.162817</td>\n",
              "      <td>-0.158121</td>\n",
              "      <td>-0.894394</td>\n",
              "      <td>-0.857574</td>\n",
              "      <td>0.156342</td>\n",
              "      <td>-1.448266</td>\n",
              "      <td>1.373570</td>\n",
              "      <td>-1.693904</td>\n",
              "      <td>-0.079338</td>\n",
              "    </tr>\n",
              "    <tr>\n",
              "      <th>3</th>\n",
              "      <td>7.0</td>\n",
              "      <td>2013-01-03 00:00:00</td>\n",
              "      <td>-1.128902</td>\n",
              "      <td>-0.620631</td>\n",
              "      <td>-1.412244</td>\n",
              "      <td>-1.050927</td>\n",
              "      <td>0.535924</td>\n",
              "      <td>-1.596397</td>\n",
              "      <td>1.100617</td>\n",
              "      <td>-1.835319</td>\n",
              "      <td>-0.079338</td>\n",
              "    </tr>\n",
              "    <tr>\n",
              "      <th>4</th>\n",
              "      <td>5.0</td>\n",
              "      <td>2013-01-03 00:00:00</td>\n",
              "      <td>-1.049765</td>\n",
              "      <td>-0.578585</td>\n",
              "      <td>-1.124549</td>\n",
              "      <td>-0.954251</td>\n",
              "      <td>0.432401</td>\n",
              "      <td>-1.429750</td>\n",
              "      <td>1.525211</td>\n",
              "      <td>-1.887419</td>\n",
              "      <td>-0.079338</td>\n",
              "    </tr>\n",
              "  </tbody>\n",
              "</table>\n",
              "</div>"
            ],
            "text/plain": [
              "   PM2.5                   dt      PM10  ...      PRES      DEWP      RAIN\n",
              "0    4.0  2013-01-03 00:00:00 -1.162817  ...  1.373570 -1.693904 -0.079338\n",
              "1    9.0  2013-01-03 00:00:00 -1.106291  ...  1.525211 -1.887419 -0.079338\n",
              "2    4.0  2013-01-03 00:00:00 -1.162817  ...  1.373570 -1.693904 -0.079338\n",
              "3    7.0  2013-01-03 00:00:00 -1.128902  ...  1.100617 -1.835319 -0.079338\n",
              "4    5.0  2013-01-03 00:00:00 -1.049765  ...  1.525211 -1.887419 -0.079338\n",
              "\n",
              "[5 rows x 11 columns]"
            ]
          },
          "metadata": {},
          "execution_count": 5
        }
      ]
    },
    {
      "cell_type": "code",
      "metadata": {
        "colab": {
          "base_uri": "https://localhost:8080/"
        },
        "id": "KButxrlDrwcJ",
        "outputId": "5ca7da15-db3d-4451-f739-f2f6a8373dd5"
      },
      "source": [
        "# df=df.reset_index(drop=True)\n",
        "grouped_df=df.groupby('dt').mean()\n",
        "grouped_df['PM2.5'].mean()"
      ],
      "id": "KButxrlDrwcJ",
      "execution_count": 156,
      "outputs": [
        {
          "output_type": "execute_result",
          "data": {
            "text/plain": [
              "79.48021185176601"
            ]
          },
          "metadata": {},
          "execution_count": 156
        }
      ]
    },
    {
      "cell_type": "code",
      "metadata": {
        "id": "08jQnd1U11Uk"
      },
      "source": [
        "#replace the selected column for each column to make a seperate model per column\n"
      ],
      "id": "08jQnd1U11Uk",
      "execution_count": null,
      "outputs": []
    },
    {
      "cell_type": "code",
      "metadata": {
        "colab": {
          "base_uri": "https://localhost:8080/"
        },
        "id": "Lqof7YDJskf_",
        "outputId": "ccee5ace-2712-40f8-b7c0-6b66c2ead2b6"
      },
      "source": [
        "import math\n",
        "temp_arr=grouped_df['PM2.5'].values.reshape(-1, 1)\n",
        "train_size=math.ceil(.75*len(temp_arr))\n",
        "train_arr=temp_arr[0: train_size]\n",
        "test_arr = temp_arr[math.ceil(.75*len(temp_arr)):]\n",
        "train_arr.shape"
      ],
      "id": "Lqof7YDJskf_",
      "execution_count": 148,
      "outputs": [
        {
          "output_type": "execute_result",
          "data": {
            "text/plain": [
              "(26116, 1)"
            ]
          },
          "metadata": {},
          "execution_count": 148
        }
      ]
    },
    {
      "cell_type": "code",
      "metadata": {
        "colab": {
          "base_uri": "https://localhost:8080/"
        },
        "id": "UfWNcaApASr4",
        "outputId": "c9453ed4-a462-455c-e957-185fd037363c"
      },
      "source": [
        "test_arr.shape"
      ],
      "id": "UfWNcaApASr4",
      "execution_count": 102,
      "outputs": [
        {
          "output_type": "execute_result",
          "data": {
            "text/plain": [
              "(8705, 1)"
            ]
          },
          "metadata": {},
          "execution_count": 102
        }
      ]
    },
    {
      "cell_type": "code",
      "metadata": {
        "id": "hKHDgaIstRAX"
      },
      "source": [
        "days_season=365\n",
        "X_train=[]\n",
        "y_train=[]\n",
        "\n",
        "for i in range(days_season, len(train_arr)): \n",
        "  X_train.append(train_arr[i-days_season: i, 0])\n",
        "  y_train.append(train_arr[i, 0])\n",
        "  "
      ],
      "id": "hKHDgaIstRAX",
      "execution_count": 149,
      "outputs": []
    },
    {
      "cell_type": "code",
      "metadata": {
        "id": "PUJykXmMBNXL"
      },
      "source": [
        "X_test = []\n",
        "y_test = []\n",
        "for i in range(days_season, len(test_arr)): \n",
        "  X_test.append(test_arr[i-days_season: i, 0])\n",
        "  y_test.append(train_arr[i, 0])"
      ],
      "id": "PUJykXmMBNXL",
      "execution_count": 150,
      "outputs": []
    },
    {
      "cell_type": "code",
      "metadata": {
        "colab": {
          "base_uri": "https://localhost:8080/"
        },
        "id": "z8A9BZ3It6M1",
        "outputId": "bf9d1d93-7a1e-49ad-8a25-eca75f02ea13"
      },
      "source": [
        "X_train=np.array(X_train)\n",
        "y_train=np.array(y_train)\n",
        "X_train=np.reshape(X_train, (X_train.shape[0], X_train.shape[1], 1))\n",
        "X_test=np.array(X_test)\n",
        "X_test=np.reshape(X_test, (X_test.shape[0], X_test.shape[1], 1))\n",
        "y_test=np.array(y_test)\n",
        "X_train.shape\n",
        "X_test.shape"
      ],
      "id": "z8A9BZ3It6M1",
      "execution_count": 151,
      "outputs": [
        {
          "output_type": "execute_result",
          "data": {
            "text/plain": [
              "(8340, 365, 1)"
            ]
          },
          "metadata": {},
          "execution_count": 151
        }
      ]
    },
    {
      "cell_type": "code",
      "metadata": {
        "colab": {
          "base_uri": "https://localhost:8080/"
        },
        "id": "g6uvLTWMuhXW",
        "outputId": "2ba6cd52-ae7d-4984-b38b-f8aea7143f26"
      },
      "source": [
        "lstm_model=tf.keras.models.Sequential()\n",
        "lstm_layer_1=tf.keras.layers.LSTM(50, return_sequences=True, input_shape=(365, 1))\n",
        "lstm_model.add(lstm_layer_1)\n",
        "lstm_layer_2=tf.keras.layers.LSTM(50, return_sequences=False)\n",
        "lstm_model.add(lstm_layer_2)\n",
        "lstm_layer_3=tf.keras.layers.Dense(25)\n",
        "lstm_model.add(lstm_layer_3)\n",
        "lstm_output_layer=tf.keras.layers.Dense(1)\n",
        "lstm_model.add(lstm_output_layer)\n",
        "lstm_model.summary()"
      ],
      "id": "g6uvLTWMuhXW",
      "execution_count": 87,
      "outputs": [
        {
          "output_type": "stream",
          "name": "stdout",
          "text": [
            "Model: \"sequential_3\"\n",
            "_________________________________________________________________\n",
            "Layer (type)                 Output Shape              Param #   \n",
            "=================================================================\n",
            "lstm_6 (LSTM)                (None, 365, 50)           10400     \n",
            "_________________________________________________________________\n",
            "lstm_7 (LSTM)                (None, 50)                20200     \n",
            "_________________________________________________________________\n",
            "dense_6 (Dense)              (None, 25)                1275      \n",
            "_________________________________________________________________\n",
            "dense_7 (Dense)              (None, 1)                 26        \n",
            "=================================================================\n",
            "Total params: 31,901\n",
            "Trainable params: 31,901\n",
            "Non-trainable params: 0\n",
            "_________________________________________________________________\n"
          ]
        }
      ]
    },
    {
      "cell_type": "code",
      "metadata": {
        "colab": {
          "base_uri": "https://localhost:8080/"
        },
        "id": "N2lUv0ofCSws",
        "outputId": "6402f65e-6ed2-4d8b-d4b3-87e8d33ca2fe"
      },
      "source": [
        "loaded_model = tf.keras.models.load_model(\"PM2.5_model.h5\")\n",
        "loaded_model.build()\n",
        "loaded_model.summary()"
      ],
      "id": "N2lUv0ofCSws",
      "execution_count": 152,
      "outputs": [
        {
          "output_type": "stream",
          "name": "stdout",
          "text": [
            "Model: \"sequential_2\"\n",
            "_________________________________________________________________\n",
            "Layer (type)                 Output Shape              Param #   \n",
            "=================================================================\n",
            "lstm_4 (LSTM)                (None, 365, 50)           10400     \n",
            "_________________________________________________________________\n",
            "lstm_5 (LSTM)                (None, 50)                20200     \n",
            "_________________________________________________________________\n",
            "dense_4 (Dense)              (None, 25)                1275      \n",
            "_________________________________________________________________\n",
            "dense_5 (Dense)              (None, 1)                 26        \n",
            "=================================================================\n",
            "Total params: 31,901\n",
            "Trainable params: 31,901\n",
            "Non-trainable params: 0\n",
            "_________________________________________________________________\n"
          ]
        }
      ]
    },
    {
      "cell_type": "code",
      "metadata": {
        "colab": {
          "base_uri": "https://localhost:8080/"
        },
        "id": "gEhCUl2hv5qk",
        "outputId": "7156ee74-e941-4e24-f689-dfcd880ea3aa"
      },
      "source": [
        "loaded_model.compile(optimizer='adam', metrics=['mean_squared_error'], loss='mean_squared_error')\n",
        "loaded_model.fit(X_test, y_test, epochs=5)"
      ],
      "id": "gEhCUl2hv5qk",
      "execution_count": 153,
      "outputs": [
        {
          "output_type": "stream",
          "name": "stdout",
          "text": [
            "Epoch 1/5\n",
            "261/261 [==============================] - 91s 336ms/step - loss: 6079.6958 - mean_squared_error: 6079.6958\n",
            "Epoch 2/5\n",
            "261/261 [==============================] - 88s 335ms/step - loss: 5616.8730 - mean_squared_error: 5616.8730\n",
            "Epoch 3/5\n",
            "261/261 [==============================] - 88s 337ms/step - loss: 5497.4370 - mean_squared_error: 5497.4370\n",
            "Epoch 4/5\n",
            "261/261 [==============================] - 88s 337ms/step - loss: 5400.3369 - mean_squared_error: 5400.3369\n",
            "Epoch 5/5\n",
            "261/261 [==============================] - 89s 340ms/step - loss: 5145.9780 - mean_squared_error: 5145.9780\n"
          ]
        },
        {
          "output_type": "execute_result",
          "data": {
            "text/plain": [
              "<keras.callbacks.History at 0x7f3c0f35a9d0>"
            ]
          },
          "metadata": {},
          "execution_count": 153
        }
      ]
    },
    {
      "cell_type": "code",
      "metadata": {
        "colab": {
          "base_uri": "https://localhost:8080/"
        },
        "id": "GIda015lFlla",
        "outputId": "18166513-4628-4997-d560-f26aba46d46a"
      },
      "source": [
        " #evaluate the model\n",
        "cvscores = []\n",
        "scores = loaded_model.evaluate(X_test, y_test, verbose=0)\n",
        "print(\"%s: %.2f%%\" % (loaded_model.metrics_names[1], scores[1]*100))\n",
        "cvscores.append(scores[1] * 100)\n",
        "print(\"%.2f%% (+/- %.2f%%)\" % (np.mean(cvscores), np.std(cvscores)))\n"
      ],
      "id": "GIda015lFlla",
      "execution_count": 154,
      "outputs": [
        {
          "output_type": "stream",
          "name": "stdout",
          "text": [
            "mean_squared_error: 531718.36%\n",
            "531718.36% (+/- 0.00%)\n"
          ]
        }
      ]
    },
    {
      "cell_type": "code",
      "metadata": {
        "id": "WndqZ51LuP3N"
      },
      "source": [
        "!mkdir -p saved_model\n",
        "loaded_model.save('/content/PM2.5_test_model.h5')"
      ],
      "id": "WndqZ51LuP3N",
      "execution_count": 155,
      "outputs": []
    },
    {
      "cell_type": "code",
      "metadata": {
        "id": "SYje1oW37b0i",
        "colab": {
          "base_uri": "https://localhost:8080/"
        },
        "outputId": "2529677b-cb68-44a3-bf19-9fd5b51ec604"
      },
      "source": [
        ""
      ],
      "id": "SYje1oW37b0i",
      "execution_count": 17,
      "outputs": [
        {
          "output_type": "stream",
          "name": "stdout",
          "text": [
            "Keys: <KeysViewHDF5 ['model_weights', 'optimizer_weights']>\n"
          ]
        }
      ]
    },
    {
      "cell_type": "code",
      "metadata": {
        "colab": {
          "base_uri": "https://localhost:8080/"
        },
        "id": "C1A1ONtKsDvn",
        "outputId": "8856f6e5-66ec-4c6d-919b-4a8d666d71bd"
      },
      "source": [
        "\n",
        "#Rain test had a .4463 MSE\n",
        "#CO test model had a .6230 MSE\n",
        "#DEWP test model had a .7765 MSE\n",
        "#NO2 test model had a .7038 MSE\n",
        "#PRES test model had a 4.0961 MSE\n",
        "#O3 test model had a .7552 MSE\n",
        "#TEMP test model had a .6520 MSE \n",
        "#SO2 test model had a 1.4613 MSE\n",
        "#PM10 test model had a .7495 MSE\n",
        "#PM2.5 test model had a 5317.1836"
      ],
      "id": "C1A1ONtKsDvn",
      "execution_count": 21,
      "outputs": [
        {
          "output_type": "execute_result",
          "data": {
            "text/plain": [
              "[<Closed HDF5 group>,\n",
              " <Closed HDF5 group>,\n",
              " <Closed HDF5 group>,\n",
              " <Closed HDF5 group>]"
            ]
          },
          "metadata": {},
          "execution_count": 21
        }
      ]
    },
    {
      "cell_type": "code",
      "metadata": {
        "id": "ebWrknPkbluK"
      },
      "source": [
        "\n",
        "#set an X an Y\n",
        "#y = df['PM2.5']\n",
        "#X = df.drop(columns= ['PM2.5'])\n",
        "#split data shuffle = False\n",
        "\n",
        "\n"
      ],
      "id": "ebWrknPkbluK",
      "execution_count": null,
      "outputs": []
    },
    {
      "cell_type": "code",
      "metadata": {
        "id": "42BIrMAvhGMA"
      },
      "source": [
        "# Generate 9 total models, one for each feature in the data set\n",
        "# Feed each model 1 individual feature and the timeseries"
      ],
      "id": "42BIrMAvhGMA",
      "execution_count": null,
      "outputs": []
    },
    {
      "cell_type": "code",
      "metadata": {
        "id": "Kjy3T0QchGHi"
      },
      "source": [
        ""
      ],
      "id": "Kjy3T0QchGHi",
      "execution_count": null,
      "outputs": []
    },
    {
      "cell_type": "code",
      "metadata": {
        "id": "BR8wHVf0hGEI"
      },
      "source": [
        ""
      ],
      "id": "BR8wHVf0hGEI",
      "execution_count": null,
      "outputs": []
    },
    {
      "cell_type": "code",
      "metadata": {
        "id": "itlDw5dcX_pR"
      },
      "source": [
        "def create_model(hp):\n",
        "    nn_model = tf.keras.models.Sequential()\n",
        "\n",
        "    # Allow kerastuner to decide which activation function to use in hidden layers\n",
        "    activation = hp.Choice('activation',['relu','tanh','sigmoid'])\n",
        "    \n",
        "    # Allow kerastuner to decide number of neurons in first layer\n",
        "    nn_model.add(tf.keras.layers.LSTM(units=hp.Int('first_units',\n",
        "        min_value=1,\n",
        "        max_value=10,\n",
        "        step=2), activation=activation, input_dim=2))\n",
        "\n",
        "    # Allow kerastuner to decide number of hidden layers and neurons in hidden layers\n",
        "    for i in range(hp.Int('num_layers', 1, 6)):\n",
        "        nn_model.add(tf.keras.layers.Dense(units=hp.Int('units_' + str(i),\n",
        "            min_value=1,\n",
        "            max_value=10,\n",
        "            step=2),\n",
        "            activation=activation))\n",
        "    \n",
        "    nn_model.add(tf.keras.layers.Dense(units=1, activation=\"sigmoid\"))\n",
        "\n",
        "    # Compile the model\n",
        "    nn_model.compile(loss=\"binary_crossentropy\", optimizer='adam', metrics=[\"accuracy\"])\n",
        "    \n",
        "    return nn_model"
      ],
      "id": "itlDw5dcX_pR",
      "execution_count": null,
      "outputs": []
    },
    {
      "cell_type": "code",
      "metadata": {
        "id": "ChsPfSfrYDQX"
      },
      "source": [
        "import kerastuner as kt\n",
        "\n",
        "tuner = kt.Hyperband(\n",
        "    create_model,\n",
        "    objective=\"val_accuracy\",\n",
        "    max_epochs=20,\n",
        "    hyperband_iterations=2)"
      ],
      "id": "ChsPfSfrYDQX",
      "execution_count": null,
      "outputs": []
    },
    {
      "cell_type": "code",
      "metadata": {
        "id": "xiItfAZKYhzu"
      },
      "source": [
        "tuner.search(X_train_scaled,y_train,epochs=20,validation_data=(X_test_scaled,y_test))"
      ],
      "id": "xiItfAZKYhzu",
      "execution_count": null,
      "outputs": []
    }
  ]
}